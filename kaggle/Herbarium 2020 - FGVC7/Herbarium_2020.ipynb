{
  "nbformat": 4,
  "nbformat_minor": 0,
  "metadata": {
    "colab": {
      "name": "Herbarium 2020.ipynb",
      "provenance": [],
      "collapsed_sections": [],
      "machine_shape": "hm"
    },
    "kernelspec": {
      "display_name": "Python 3",
      "name": "python3"
    },
    "language_info": {
      "name": "python"
    },
    "accelerator": "GPU"
  },
  "cells": [
    {
      "cell_type": "code",
      "metadata": {
        "id": "SZUUicj8M4Sz",
        "colab": {
          "base_uri": "https://localhost:8080/"
        },
        "outputId": "5fe9e2b3-69b9-4382-acdc-ef447d706c76"
      },
      "source": [
        "gpu_info = !nvidia-smi\n",
        "gpu_info = '\\n'.join(gpu_info)\n",
        "if gpu_info.find('failed') >= 0:\n",
        "  print('Not connected to a GPU')\n",
        "else:\n",
        "  print(gpu_info)"
      ],
      "execution_count": null,
      "outputs": [
        {
          "output_type": "stream",
          "name": "stdout",
          "text": [
            "Tue Nov 16 06:42:29 2021       \n",
            "+-----------------------------------------------------------------------------+\n",
            "| NVIDIA-SMI 495.44       Driver Version: 460.32.03    CUDA Version: 11.2     |\n",
            "|-------------------------------+----------------------+----------------------+\n",
            "| GPU  Name        Persistence-M| Bus-Id        Disp.A | Volatile Uncorr. ECC |\n",
            "| Fan  Temp  Perf  Pwr:Usage/Cap|         Memory-Usage | GPU-Util  Compute M. |\n",
            "|                               |                      |               MIG M. |\n",
            "|===============================+======================+======================|\n",
            "|   0  Tesla P100-PCIE...  Off  | 00000000:00:04.0 Off |                    0 |\n",
            "| N/A   44C    P0    30W / 250W |      0MiB / 16280MiB |      0%      Default |\n",
            "|                               |                      |                  N/A |\n",
            "+-------------------------------+----------------------+----------------------+\n",
            "                                                                               \n",
            "+-----------------------------------------------------------------------------+\n",
            "| Processes:                                                                  |\n",
            "|  GPU   GI   CI        PID   Type   Process name                  GPU Memory |\n",
            "|        ID   ID                                                   Usage      |\n",
            "|=============================================================================|\n",
            "|  No running processes found                                                 |\n",
            "+-----------------------------------------------------------------------------+\n"
          ]
        }
      ]
    },
    {
      "cell_type": "code",
      "metadata": {
        "colab": {
          "base_uri": "https://localhost:8080/"
        },
        "id": "_d-dxGHniODn",
        "outputId": "ce93f876-6a3d-46d6-cc95-e691fdc9daab"
      },
      "source": [
        "from psutil import virtual_memory\n",
        "ram_gb = virtual_memory().total / 1e9\n",
        "print('Your runtime has {:.1f} gigabytes of available RAM\\n'.format(ram_gb))\n",
        "\n",
        "if ram_gb < 20:\n",
        "  print('Not using a high-RAM runtime')\n",
        "else:\n",
        "  print('You are using a high-RAM runtime!')"
      ],
      "execution_count": null,
      "outputs": [
        {
          "output_type": "stream",
          "name": "stdout",
          "text": [
            "Your runtime has 27.3 gigabytes of available RAM\n",
            "\n",
            "You are using a high-RAM runtime!\n"
          ]
        }
      ]
    },
    {
      "cell_type": "code",
      "metadata": {
        "id": "v27tqTrpQJJh",
        "colab": {
          "base_uri": "https://localhost:8080/"
        },
        "outputId": "7df2c882-4d83-4f2c-e32d-f5df37f7c908"
      },
      "source": [
        "!pip show tensorflow"
      ],
      "execution_count": null,
      "outputs": [
        {
          "output_type": "stream",
          "name": "stdout",
          "text": [
            "Name: tensorflow\n",
            "Version: 2.6.0\n",
            "Summary: TensorFlow is an open source machine learning framework for everyone.\n",
            "Home-page: https://www.tensorflow.org/\n",
            "Author: Google Inc.\n",
            "Author-email: packages@tensorflow.org\n",
            "License: Apache 2.0\n",
            "Location: /usr/local/lib/python3.7/dist-packages\n",
            "Requires: keras-preprocessing, wheel, six, numpy, gast, google-pasta, typing-extensions, tensorboard, protobuf, flatbuffers, astunparse, tensorflow-estimator, keras, opt-einsum, absl-py, clang, wrapt, grpcio, h5py, termcolor\n",
            "Required-by: kapre\n"
          ]
        }
      ]
    },
    {
      "cell_type": "code",
      "metadata": {
        "colab": {
          "base_uri": "https://localhost:8080/"
        },
        "id": "nWqO3sYY1yUz",
        "outputId": "e200391d-cfa0-42bf-9e79-f28114ce50d4"
      },
      "source": [
        "from google.colab import drive\n",
        "drive.mount('/gdrive/')"
      ],
      "execution_count": null,
      "outputs": [
        {
          "output_type": "stream",
          "name": "stdout",
          "text": [
            "Mounted at /gdrive/\n"
          ]
        }
      ]
    },
    {
      "cell_type": "code",
      "metadata": {
        "colab": {
          "base_uri": "https://localhost:8080/"
        },
        "id": "GXjGGk6d1yUz",
        "outputId": "b2c0002e-fb03-483c-b781-cd37f3553893"
      },
      "source": [
        "!ls"
      ],
      "execution_count": null,
      "outputs": [
        {
          "output_type": "stream",
          "name": "stdout",
          "text": [
            "drive  sample_data\n"
          ]
        }
      ]
    },
    {
      "cell_type": "code",
      "metadata": {
        "id": "oVVj59152aQL"
      },
      "source": [
        "\n",
        "import os\n",
        "for dirname, _, filenames in os.walk('/gdrive/MyDrive/dacon/Herbarium/'):\n",
        "    for filename in filenames:\n",
        "        if filename.endswith('.jpg'):\n",
        "            break\n",
        "        print(os.path.join(dirname, filename))\n",
        "        # /gdrive/MyDrive/dacon/Herbarium/herbarium-2020-fgvc7.zip\n",
        "        # /gdrive/MyDrive/dacon/Herbarium/herbarium-2020-fgvc7/nybg2020/test/metadata.jso\n",
        "        # /gdrive/MyDrive/dacon/Herbarium/herbarium-2020-fgvc7/nybg2020/train/metadata.jso"
      ],
      "execution_count": null,
      "outputs": []
    },
    {
      "cell_type": "code",
      "metadata": {
        "colab": {
          "base_uri": "https://localhost:8080/",
          "height": 426
        },
        "id": "Ls03I4k22tTV",
        "outputId": "871fc9e3-013f-473b-e7ca-ccc6776b70ec"
      },
      "source": [
        "import numpy as np \n",
        "import pandas as pd \n",
        "!ls\n",
        "sample_sub = pd.read_csv('/gdrive/MyDrive/dacon/Herbarium/herbarium-2020-fgvc7/sample_submission.csv')\n",
        "# sample_sub = pd.read_csv('../dacon/Herbarium/herbarium-2020-fgvc7/sample_submission.csv')\n",
        "display(sample_sub)"
      ],
      "execution_count": null,
      "outputs": [
        {
          "output_type": "stream",
          "name": "stdout",
          "text": [
            "drive  sample_data\n"
          ]
        },
        {
          "output_type": "display_data",
          "data": {
            "text/html": [
              "<div>\n",
              "<style scoped>\n",
              "    .dataframe tbody tr th:only-of-type {\n",
              "        vertical-align: middle;\n",
              "    }\n",
              "\n",
              "    .dataframe tbody tr th {\n",
              "        vertical-align: top;\n",
              "    }\n",
              "\n",
              "    .dataframe thead th {\n",
              "        text-align: right;\n",
              "    }\n",
              "</style>\n",
              "<table border=\"1\" class=\"dataframe\">\n",
              "  <thead>\n",
              "    <tr style=\"text-align: right;\">\n",
              "      <th></th>\n",
              "      <th>Id</th>\n",
              "      <th>Predicted</th>\n",
              "    </tr>\n",
              "  </thead>\n",
              "  <tbody>\n",
              "    <tr>\n",
              "      <th>0</th>\n",
              "      <td>0</td>\n",
              "      <td>0</td>\n",
              "    </tr>\n",
              "    <tr>\n",
              "      <th>1</th>\n",
              "      <td>1</td>\n",
              "      <td>0</td>\n",
              "    </tr>\n",
              "    <tr>\n",
              "      <th>2</th>\n",
              "      <td>2</td>\n",
              "      <td>0</td>\n",
              "    </tr>\n",
              "    <tr>\n",
              "      <th>3</th>\n",
              "      <td>3</td>\n",
              "      <td>0</td>\n",
              "    </tr>\n",
              "    <tr>\n",
              "      <th>4</th>\n",
              "      <td>4</td>\n",
              "      <td>0</td>\n",
              "    </tr>\n",
              "    <tr>\n",
              "      <th>...</th>\n",
              "      <td>...</td>\n",
              "      <td>...</td>\n",
              "    </tr>\n",
              "    <tr>\n",
              "      <th>138287</th>\n",
              "      <td>138287</td>\n",
              "      <td>0</td>\n",
              "    </tr>\n",
              "    <tr>\n",
              "      <th>138288</th>\n",
              "      <td>138288</td>\n",
              "      <td>0</td>\n",
              "    </tr>\n",
              "    <tr>\n",
              "      <th>138289</th>\n",
              "      <td>138289</td>\n",
              "      <td>0</td>\n",
              "    </tr>\n",
              "    <tr>\n",
              "      <th>138290</th>\n",
              "      <td>138290</td>\n",
              "      <td>0</td>\n",
              "    </tr>\n",
              "    <tr>\n",
              "      <th>138291</th>\n",
              "      <td>138291</td>\n",
              "      <td>0</td>\n",
              "    </tr>\n",
              "  </tbody>\n",
              "</table>\n",
              "<p>138292 rows × 2 columns</p>\n",
              "</div>"
            ],
            "text/plain": [
              "            Id  Predicted\n",
              "0            0          0\n",
              "1            1          0\n",
              "2            2          0\n",
              "3            3          0\n",
              "4            4          0\n",
              "...        ...        ...\n",
              "138287  138287          0\n",
              "138288  138288          0\n",
              "138289  138289          0\n",
              "138290  138290          0\n",
              "138291  138291          0\n",
              "\n",
              "[138292 rows x 2 columns]"
            ]
          },
          "metadata": {}
        }
      ]
    },
    {
      "cell_type": "code",
      "metadata": {
        "colab": {
          "base_uri": "https://localhost:8080/",
          "height": 35
        },
        "id": "dEpkW-OHtpsB",
        "outputId": "c96dc295-9bea-4e7e-dfb8-e74d72217701"
      },
      "source": [
        "import json, codecs\n",
        "with codecs.open('/gdrive/MyDrive/dacon/Herbarium/herbarium-2020-fgvc7/nybg2020/train/metadata.json', 'r',\n",
        "                 encoding='utf-8', errors='ignore') as f:\n",
        "    train_meta = json.load(f)\n",
        "    \n",
        "with codecs.open('/gdrive/MyDrive/dacon/Herbarium/herbarium-2020-fgvc7/nybg2020/test/metadata.json', 'r',\n",
        "                 encoding='utf-8', errors='ignore') as f:\n",
        "    test_meta = json.load(f)\n",
        "display(train_meta.keys())\n",
        "# train_df = pd.read_json('/gdrive/MyDrive/dacon/Herbarium/herbarium-2020-fgvc7/nybg2020/train/metadata.json',encoding='utf-8')\n",
        "# print(train_df)"
      ],
      "execution_count": null,
      "outputs": [
        {
          "output_type": "display_data",
          "data": {
            "text/plain": [
              "dict_keys(['annotations', 'categories', 'images', 'info', 'licenses', 'regions'])"
            ]
          },
          "metadata": {}
        }
      ]
    },
    {
      "cell_type": "code",
      "metadata": {
        "id": "i_KMlod8qRmx"
      },
      "source": [
        "train_df = pd.DataFrame(train_meta['annotations'])\n",
        "train_cat = pd.DataFrame(train_meta['categories'])\n",
        "train_cat.columns = ['family', 'genus', 'category_id', 'category_name']\n",
        "train_img = pd.DataFrame(train_meta['images'])\n",
        "train_img.columns = ['file_name', 'height', 'image_id', 'license', 'width']\n",
        "train_reg = pd.DataFrame(train_meta['regions'])\n",
        "train_reg.columns = ['region_id', 'region_name']\n",
        "train_df = train_df.merge(train_cat, on='category_id', how='outer')\n",
        "train_df = train_df.merge(train_img, on='image_id', how='outer')\n",
        "train_df = train_df.merge(train_reg, on='region_id', how='outer')"
      ],
      "execution_count": null,
      "outputs": []
    },
    {
      "cell_type": "code",
      "metadata": {
        "colab": {
          "base_uri": "https://localhost:8080/",
          "height": 779
        },
        "id": "VKRT0_0bsP79",
        "outputId": "480fcad4-9e46-410a-9006-6394ef8039b3"
      },
      "source": [
        "print(train_df.info())\n",
        "display(train_df)"
      ],
      "execution_count": null,
      "outputs": [
        {
          "output_type": "stream",
          "name": "stdout",
          "text": [
            "<class 'pandas.core.frame.DataFrame'>\n",
            "Int64Index: 1030748 entries, 0 to 1030747\n",
            "Data columns (total 12 columns):\n",
            " #   Column         Non-Null Count    Dtype  \n",
            "---  ------         --------------    -----  \n",
            " 0   category_id    1030748 non-null  int64  \n",
            " 1   id             1030747 non-null  float64\n",
            " 2   image_id       1030747 non-null  float64\n",
            " 3   region_id      1030747 non-null  float64\n",
            " 4   family         1030748 non-null  object \n",
            " 5   genus          1030748 non-null  object \n",
            " 6   category_name  1030748 non-null  object \n",
            " 7   file_name      1030747 non-null  object \n",
            " 8   height         1030747 non-null  float64\n",
            " 9   license        1030747 non-null  float64\n",
            " 10  width          1030747 non-null  float64\n",
            " 11  region_name    1030747 non-null  object \n",
            "dtypes: float64(6), int64(1), object(5)\n",
            "memory usage: 102.2+ MB\n",
            "None\n"
          ]
        },
        {
          "output_type": "display_data",
          "data": {
            "text/html": [
              "<div>\n",
              "<style scoped>\n",
              "    .dataframe tbody tr th:only-of-type {\n",
              "        vertical-align: middle;\n",
              "    }\n",
              "\n",
              "    .dataframe tbody tr th {\n",
              "        vertical-align: top;\n",
              "    }\n",
              "\n",
              "    .dataframe thead th {\n",
              "        text-align: right;\n",
              "    }\n",
              "</style>\n",
              "<table border=\"1\" class=\"dataframe\">\n",
              "  <thead>\n",
              "    <tr style=\"text-align: right;\">\n",
              "      <th></th>\n",
              "      <th>category_id</th>\n",
              "      <th>id</th>\n",
              "      <th>image_id</th>\n",
              "      <th>region_id</th>\n",
              "      <th>family</th>\n",
              "      <th>genus</th>\n",
              "      <th>category_name</th>\n",
              "      <th>file_name</th>\n",
              "      <th>height</th>\n",
              "      <th>license</th>\n",
              "      <th>width</th>\n",
              "      <th>region_name</th>\n",
              "    </tr>\n",
              "  </thead>\n",
              "  <tbody>\n",
              "    <tr>\n",
              "      <th>0</th>\n",
              "      <td>15672</td>\n",
              "      <td>354106.0</td>\n",
              "      <td>354106.0</td>\n",
              "      <td>1.0</td>\n",
              "      <td>Lecythidaceae</td>\n",
              "      <td>Lecythis</td>\n",
              "      <td>Lecythis retusa Spruce ex O.Berg</td>\n",
              "      <td>images/156/72/354106.jpg</td>\n",
              "      <td>1000.0</td>\n",
              "      <td>1.0</td>\n",
              "      <td>661.0</td>\n",
              "      <td>South America</td>\n",
              "    </tr>\n",
              "    <tr>\n",
              "      <th>1</th>\n",
              "      <td>15672</td>\n",
              "      <td>545181.0</td>\n",
              "      <td>545181.0</td>\n",
              "      <td>1.0</td>\n",
              "      <td>Lecythidaceae</td>\n",
              "      <td>Lecythis</td>\n",
              "      <td>Lecythis retusa Spruce ex O.Berg</td>\n",
              "      <td>images/156/72/545181.jpg</td>\n",
              "      <td>1000.0</td>\n",
              "      <td>1.0</td>\n",
              "      <td>661.0</td>\n",
              "      <td>South America</td>\n",
              "    </tr>\n",
              "    <tr>\n",
              "      <th>2</th>\n",
              "      <td>15672</td>\n",
              "      <td>449419.0</td>\n",
              "      <td>449419.0</td>\n",
              "      <td>1.0</td>\n",
              "      <td>Lecythidaceae</td>\n",
              "      <td>Lecythis</td>\n",
              "      <td>Lecythis retusa Spruce ex O.Berg</td>\n",
              "      <td>images/156/72/449419.jpg</td>\n",
              "      <td>1000.0</td>\n",
              "      <td>1.0</td>\n",
              "      <td>662.0</td>\n",
              "      <td>South America</td>\n",
              "    </tr>\n",
              "    <tr>\n",
              "      <th>3</th>\n",
              "      <td>15672</td>\n",
              "      <td>200223.0</td>\n",
              "      <td>200223.0</td>\n",
              "      <td>1.0</td>\n",
              "      <td>Lecythidaceae</td>\n",
              "      <td>Lecythis</td>\n",
              "      <td>Lecythis retusa Spruce ex O.Berg</td>\n",
              "      <td>images/156/72/200223.jpg</td>\n",
              "      <td>1000.0</td>\n",
              "      <td>1.0</td>\n",
              "      <td>661.0</td>\n",
              "      <td>South America</td>\n",
              "    </tr>\n",
              "    <tr>\n",
              "      <th>4</th>\n",
              "      <td>15672</td>\n",
              "      <td>5327.0</td>\n",
              "      <td>5327.0</td>\n",
              "      <td>1.0</td>\n",
              "      <td>Lecythidaceae</td>\n",
              "      <td>Lecythis</td>\n",
              "      <td>Lecythis retusa Spruce ex O.Berg</td>\n",
              "      <td>images/156/72/5327.jpg</td>\n",
              "      <td>1000.0</td>\n",
              "      <td>1.0</td>\n",
              "      <td>661.0</td>\n",
              "      <td>South America</td>\n",
              "    </tr>\n",
              "    <tr>\n",
              "      <th>...</th>\n",
              "      <td>...</td>\n",
              "      <td>...</td>\n",
              "      <td>...</td>\n",
              "      <td>...</td>\n",
              "      <td>...</td>\n",
              "      <td>...</td>\n",
              "      <td>...</td>\n",
              "      <td>...</td>\n",
              "      <td>...</td>\n",
              "      <td>...</td>\n",
              "      <td>...</td>\n",
              "      <td>...</td>\n",
              "    </tr>\n",
              "    <tr>\n",
              "      <th>1030743</th>\n",
              "      <td>3467</td>\n",
              "      <td>12768.0</td>\n",
              "      <td>12768.0</td>\n",
              "      <td>2.0</td>\n",
              "      <td>Bromeliaceae</td>\n",
              "      <td>Billbergia</td>\n",
              "      <td>Billbergia macrocalyx Hook.</td>\n",
              "      <td>images/034/67/12768.jpg</td>\n",
              "      <td>1000.0</td>\n",
              "      <td>1.0</td>\n",
              "      <td>678.0</td>\n",
              "      <td>US &amp; Canada</td>\n",
              "    </tr>\n",
              "    <tr>\n",
              "      <th>1030744</th>\n",
              "      <td>3467</td>\n",
              "      <td>945011.0</td>\n",
              "      <td>945011.0</td>\n",
              "      <td>2.0</td>\n",
              "      <td>Bromeliaceae</td>\n",
              "      <td>Billbergia</td>\n",
              "      <td>Billbergia macrocalyx Hook.</td>\n",
              "      <td>images/034/67/945011.jpg</td>\n",
              "      <td>1000.0</td>\n",
              "      <td>1.0</td>\n",
              "      <td>678.0</td>\n",
              "      <td>US &amp; Canada</td>\n",
              "    </tr>\n",
              "    <tr>\n",
              "      <th>1030745</th>\n",
              "      <td>20684</td>\n",
              "      <td>916700.0</td>\n",
              "      <td>916700.0</td>\n",
              "      <td>2.0</td>\n",
              "      <td>Paeoniaceae</td>\n",
              "      <td>Paeonia</td>\n",
              "      <td>Paeonia brownii Douglas ex Hook.</td>\n",
              "      <td>images/206/84/916700.jpg</td>\n",
              "      <td>1000.0</td>\n",
              "      <td>1.0</td>\n",
              "      <td>681.0</td>\n",
              "      <td>US &amp; Canada</td>\n",
              "    </tr>\n",
              "    <tr>\n",
              "      <th>1030746</th>\n",
              "      <td>20684</td>\n",
              "      <td>577648.0</td>\n",
              "      <td>577648.0</td>\n",
              "      <td>2.0</td>\n",
              "      <td>Paeoniaceae</td>\n",
              "      <td>Paeonia</td>\n",
              "      <td>Paeonia brownii Douglas ex Hook.</td>\n",
              "      <td>images/206/84/577648.jpg</td>\n",
              "      <td>1000.0</td>\n",
              "      <td>1.0</td>\n",
              "      <td>676.0</td>\n",
              "      <td>US &amp; Canada</td>\n",
              "    </tr>\n",
              "    <tr>\n",
              "      <th>1030747</th>\n",
              "      <td>23079</td>\n",
              "      <td>NaN</td>\n",
              "      <td>NaN</td>\n",
              "      <td>NaN</td>\n",
              "      <td>Piperaceae</td>\n",
              "      <td>Piper</td>\n",
              "      <td>Piper dichotomum Ruiz &amp; Pav.</td>\n",
              "      <td>NaN</td>\n",
              "      <td>NaN</td>\n",
              "      <td>NaN</td>\n",
              "      <td>NaN</td>\n",
              "      <td>NaN</td>\n",
              "    </tr>\n",
              "  </tbody>\n",
              "</table>\n",
              "<p>1030748 rows × 12 columns</p>\n",
              "</div>"
            ],
            "text/plain": [
              "         category_id        id  image_id  ...  license  width    region_name\n",
              "0              15672  354106.0  354106.0  ...      1.0  661.0  South America\n",
              "1              15672  545181.0  545181.0  ...      1.0  661.0  South America\n",
              "2              15672  449419.0  449419.0  ...      1.0  662.0  South America\n",
              "3              15672  200223.0  200223.0  ...      1.0  661.0  South America\n",
              "4              15672    5327.0    5327.0  ...      1.0  661.0  South America\n",
              "...              ...       ...       ...  ...      ...    ...            ...\n",
              "1030743         3467   12768.0   12768.0  ...      1.0  678.0    US & Canada\n",
              "1030744         3467  945011.0  945011.0  ...      1.0  678.0    US & Canada\n",
              "1030745        20684  916700.0  916700.0  ...      1.0  681.0    US & Canada\n",
              "1030746        20684  577648.0  577648.0  ...      1.0  676.0    US & Canada\n",
              "1030747        23079       NaN       NaN  ...      NaN    NaN            NaN\n",
              "\n",
              "[1030748 rows x 12 columns]"
            ]
          },
          "metadata": {}
        }
      ]
    },
    {
      "cell_type": "code",
      "metadata": {
        "id": "2mH4P3n0swgP"
      },
      "source": [
        "na = train_df.file_name.isna()\n",
        "keep = [x for x in range(train_df.shape[0]) if not na[x]]\n",
        "train_df = train_df.iloc[keep]"
      ],
      "execution_count": null,
      "outputs": []
    },
    {
      "cell_type": "code",
      "metadata": {
        "colab": {
          "base_uri": "https://localhost:8080/",
          "height": 887
        },
        "id": "LIg56yE_sxnE",
        "outputId": "db63948a-7a4b-476f-c9ef-81f26d626dee"
      },
      "source": [
        "dtypes = ['int32', 'int32', 'int32', 'int32', 'object', 'object', 'object', 'object', 'int32', 'int32', 'int32', 'object']\n",
        "for n, col in enumerate(train_df.columns):\n",
        "    train_df[col] = train_df[col].astype(dtypes[n])\n",
        "print(train_df.info())\n",
        "display(train_df)"
      ],
      "execution_count": null,
      "outputs": [
        {
          "output_type": "stream",
          "name": "stderr",
          "text": [
            "/usr/local/lib/python3.7/dist-packages/ipykernel_launcher.py:3: SettingWithCopyWarning: \n",
            "A value is trying to be set on a copy of a slice from a DataFrame.\n",
            "Try using .loc[row_indexer,col_indexer] = value instead\n",
            "\n",
            "See the caveats in the documentation: https://pandas.pydata.org/pandas-docs/stable/user_guide/indexing.html#returning-a-view-versus-a-copy\n",
            "  This is separate from the ipykernel package so we can avoid doing imports until\n"
          ]
        },
        {
          "output_type": "stream",
          "name": "stdout",
          "text": [
            "<class 'pandas.core.frame.DataFrame'>\n",
            "Int64Index: 1030747 entries, 0 to 1030746\n",
            "Data columns (total 12 columns):\n",
            " #   Column         Non-Null Count    Dtype \n",
            "---  ------         --------------    ----- \n",
            " 0   category_id    1030747 non-null  int32 \n",
            " 1   id             1030747 non-null  int32 \n",
            " 2   image_id       1030747 non-null  int32 \n",
            " 3   region_id      1030747 non-null  int32 \n",
            " 4   family         1030747 non-null  object\n",
            " 5   genus          1030747 non-null  object\n",
            " 6   category_name  1030747 non-null  object\n",
            " 7   file_name      1030747 non-null  object\n",
            " 8   height         1030747 non-null  int32 \n",
            " 9   license        1030747 non-null  int32 \n",
            " 10  width          1030747 non-null  int32 \n",
            " 11  region_name    1030747 non-null  object\n",
            "dtypes: int32(7), object(5)\n",
            "memory usage: 74.7+ MB\n",
            "None\n"
          ]
        },
        {
          "output_type": "display_data",
          "data": {
            "text/html": [
              "<div>\n",
              "<style scoped>\n",
              "    .dataframe tbody tr th:only-of-type {\n",
              "        vertical-align: middle;\n",
              "    }\n",
              "\n",
              "    .dataframe tbody tr th {\n",
              "        vertical-align: top;\n",
              "    }\n",
              "\n",
              "    .dataframe thead th {\n",
              "        text-align: right;\n",
              "    }\n",
              "</style>\n",
              "<table border=\"1\" class=\"dataframe\">\n",
              "  <thead>\n",
              "    <tr style=\"text-align: right;\">\n",
              "      <th></th>\n",
              "      <th>category_id</th>\n",
              "      <th>id</th>\n",
              "      <th>image_id</th>\n",
              "      <th>region_id</th>\n",
              "      <th>family</th>\n",
              "      <th>genus</th>\n",
              "      <th>category_name</th>\n",
              "      <th>file_name</th>\n",
              "      <th>height</th>\n",
              "      <th>license</th>\n",
              "      <th>width</th>\n",
              "      <th>region_name</th>\n",
              "    </tr>\n",
              "  </thead>\n",
              "  <tbody>\n",
              "    <tr>\n",
              "      <th>0</th>\n",
              "      <td>15672</td>\n",
              "      <td>354106</td>\n",
              "      <td>354106</td>\n",
              "      <td>1</td>\n",
              "      <td>Lecythidaceae</td>\n",
              "      <td>Lecythis</td>\n",
              "      <td>Lecythis retusa Spruce ex O.Berg</td>\n",
              "      <td>images/156/72/354106.jpg</td>\n",
              "      <td>1000</td>\n",
              "      <td>1</td>\n",
              "      <td>661</td>\n",
              "      <td>South America</td>\n",
              "    </tr>\n",
              "    <tr>\n",
              "      <th>1</th>\n",
              "      <td>15672</td>\n",
              "      <td>545181</td>\n",
              "      <td>545181</td>\n",
              "      <td>1</td>\n",
              "      <td>Lecythidaceae</td>\n",
              "      <td>Lecythis</td>\n",
              "      <td>Lecythis retusa Spruce ex O.Berg</td>\n",
              "      <td>images/156/72/545181.jpg</td>\n",
              "      <td>1000</td>\n",
              "      <td>1</td>\n",
              "      <td>661</td>\n",
              "      <td>South America</td>\n",
              "    </tr>\n",
              "    <tr>\n",
              "      <th>2</th>\n",
              "      <td>15672</td>\n",
              "      <td>449419</td>\n",
              "      <td>449419</td>\n",
              "      <td>1</td>\n",
              "      <td>Lecythidaceae</td>\n",
              "      <td>Lecythis</td>\n",
              "      <td>Lecythis retusa Spruce ex O.Berg</td>\n",
              "      <td>images/156/72/449419.jpg</td>\n",
              "      <td>1000</td>\n",
              "      <td>1</td>\n",
              "      <td>662</td>\n",
              "      <td>South America</td>\n",
              "    </tr>\n",
              "    <tr>\n",
              "      <th>3</th>\n",
              "      <td>15672</td>\n",
              "      <td>200223</td>\n",
              "      <td>200223</td>\n",
              "      <td>1</td>\n",
              "      <td>Lecythidaceae</td>\n",
              "      <td>Lecythis</td>\n",
              "      <td>Lecythis retusa Spruce ex O.Berg</td>\n",
              "      <td>images/156/72/200223.jpg</td>\n",
              "      <td>1000</td>\n",
              "      <td>1</td>\n",
              "      <td>661</td>\n",
              "      <td>South America</td>\n",
              "    </tr>\n",
              "    <tr>\n",
              "      <th>4</th>\n",
              "      <td>15672</td>\n",
              "      <td>5327</td>\n",
              "      <td>5327</td>\n",
              "      <td>1</td>\n",
              "      <td>Lecythidaceae</td>\n",
              "      <td>Lecythis</td>\n",
              "      <td>Lecythis retusa Spruce ex O.Berg</td>\n",
              "      <td>images/156/72/5327.jpg</td>\n",
              "      <td>1000</td>\n",
              "      <td>1</td>\n",
              "      <td>661</td>\n",
              "      <td>South America</td>\n",
              "    </tr>\n",
              "    <tr>\n",
              "      <th>...</th>\n",
              "      <td>...</td>\n",
              "      <td>...</td>\n",
              "      <td>...</td>\n",
              "      <td>...</td>\n",
              "      <td>...</td>\n",
              "      <td>...</td>\n",
              "      <td>...</td>\n",
              "      <td>...</td>\n",
              "      <td>...</td>\n",
              "      <td>...</td>\n",
              "      <td>...</td>\n",
              "      <td>...</td>\n",
              "    </tr>\n",
              "    <tr>\n",
              "      <th>1030742</th>\n",
              "      <td>2765</td>\n",
              "      <td>602937</td>\n",
              "      <td>602937</td>\n",
              "      <td>2</td>\n",
              "      <td>Pteridaceae</td>\n",
              "      <td>Astrolepis</td>\n",
              "      <td>Astrolepis windhamii D.M.Benham</td>\n",
              "      <td>images/027/65/602937.jpg</td>\n",
              "      <td>1000</td>\n",
              "      <td>1</td>\n",
              "      <td>678</td>\n",
              "      <td>US &amp; Canada</td>\n",
              "    </tr>\n",
              "    <tr>\n",
              "      <th>1030743</th>\n",
              "      <td>3467</td>\n",
              "      <td>12768</td>\n",
              "      <td>12768</td>\n",
              "      <td>2</td>\n",
              "      <td>Bromeliaceae</td>\n",
              "      <td>Billbergia</td>\n",
              "      <td>Billbergia macrocalyx Hook.</td>\n",
              "      <td>images/034/67/12768.jpg</td>\n",
              "      <td>1000</td>\n",
              "      <td>1</td>\n",
              "      <td>678</td>\n",
              "      <td>US &amp; Canada</td>\n",
              "    </tr>\n",
              "    <tr>\n",
              "      <th>1030744</th>\n",
              "      <td>3467</td>\n",
              "      <td>945011</td>\n",
              "      <td>945011</td>\n",
              "      <td>2</td>\n",
              "      <td>Bromeliaceae</td>\n",
              "      <td>Billbergia</td>\n",
              "      <td>Billbergia macrocalyx Hook.</td>\n",
              "      <td>images/034/67/945011.jpg</td>\n",
              "      <td>1000</td>\n",
              "      <td>1</td>\n",
              "      <td>678</td>\n",
              "      <td>US &amp; Canada</td>\n",
              "    </tr>\n",
              "    <tr>\n",
              "      <th>1030745</th>\n",
              "      <td>20684</td>\n",
              "      <td>916700</td>\n",
              "      <td>916700</td>\n",
              "      <td>2</td>\n",
              "      <td>Paeoniaceae</td>\n",
              "      <td>Paeonia</td>\n",
              "      <td>Paeonia brownii Douglas ex Hook.</td>\n",
              "      <td>images/206/84/916700.jpg</td>\n",
              "      <td>1000</td>\n",
              "      <td>1</td>\n",
              "      <td>681</td>\n",
              "      <td>US &amp; Canada</td>\n",
              "    </tr>\n",
              "    <tr>\n",
              "      <th>1030746</th>\n",
              "      <td>20684</td>\n",
              "      <td>577648</td>\n",
              "      <td>577648</td>\n",
              "      <td>2</td>\n",
              "      <td>Paeoniaceae</td>\n",
              "      <td>Paeonia</td>\n",
              "      <td>Paeonia brownii Douglas ex Hook.</td>\n",
              "      <td>images/206/84/577648.jpg</td>\n",
              "      <td>1000</td>\n",
              "      <td>1</td>\n",
              "      <td>676</td>\n",
              "      <td>US &amp; Canada</td>\n",
              "    </tr>\n",
              "  </tbody>\n",
              "</table>\n",
              "<p>1030747 rows × 12 columns</p>\n",
              "</div>"
            ],
            "text/plain": [
              "         category_id      id  image_id  ...  license width    region_name\n",
              "0              15672  354106    354106  ...        1   661  South America\n",
              "1              15672  545181    545181  ...        1   661  South America\n",
              "2              15672  449419    449419  ...        1   662  South America\n",
              "3              15672  200223    200223  ...        1   661  South America\n",
              "4              15672    5327      5327  ...        1   661  South America\n",
              "...              ...     ...       ...  ...      ...   ...            ...\n",
              "1030742         2765  602937    602937  ...        1   678    US & Canada\n",
              "1030743         3467   12768     12768  ...        1   678    US & Canada\n",
              "1030744         3467  945011    945011  ...        1   678    US & Canada\n",
              "1030745        20684  916700    916700  ...        1   681    US & Canada\n",
              "1030746        20684  577648    577648  ...        1   676    US & Canada\n",
              "\n",
              "[1030747 rows x 12 columns]"
            ]
          },
          "metadata": {}
        }
      ]
    },
    {
      "cell_type": "code",
      "metadata": {
        "colab": {
          "base_uri": "https://localhost:8080/",
          "height": 653
        },
        "id": "7YPoRTJKs3YE",
        "outputId": "e1cfee6b-e024-4c02-a02b-d907adb638a0"
      },
      "source": [
        "test_df = pd.DataFrame(test_meta['images'])\n",
        "test_df.columns = ['file_name', 'height', 'image_id', 'license', 'width']\n",
        "print(test_df.info())\n",
        "display(test_df)"
      ],
      "execution_count": null,
      "outputs": [
        {
          "output_type": "stream",
          "name": "stdout",
          "text": [
            "<class 'pandas.core.frame.DataFrame'>\n",
            "RangeIndex: 138292 entries, 0 to 138291\n",
            "Data columns (total 5 columns):\n",
            " #   Column     Non-Null Count   Dtype \n",
            "---  ------     --------------   ----- \n",
            " 0   file_name  138292 non-null  object\n",
            " 1   height     138292 non-null  int64 \n",
            " 2   image_id   138292 non-null  int64 \n",
            " 3   license    138292 non-null  int64 \n",
            " 4   width      138292 non-null  int64 \n",
            "dtypes: int64(4), object(1)\n",
            "memory usage: 5.3+ MB\n",
            "None\n"
          ]
        },
        {
          "output_type": "display_data",
          "data": {
            "text/html": [
              "<div>\n",
              "<style scoped>\n",
              "    .dataframe tbody tr th:only-of-type {\n",
              "        vertical-align: middle;\n",
              "    }\n",
              "\n",
              "    .dataframe tbody tr th {\n",
              "        vertical-align: top;\n",
              "    }\n",
              "\n",
              "    .dataframe thead th {\n",
              "        text-align: right;\n",
              "    }\n",
              "</style>\n",
              "<table border=\"1\" class=\"dataframe\">\n",
              "  <thead>\n",
              "    <tr style=\"text-align: right;\">\n",
              "      <th></th>\n",
              "      <th>file_name</th>\n",
              "      <th>height</th>\n",
              "      <th>image_id</th>\n",
              "      <th>license</th>\n",
              "      <th>width</th>\n",
              "    </tr>\n",
              "  </thead>\n",
              "  <tbody>\n",
              "    <tr>\n",
              "      <th>0</th>\n",
              "      <td>images/104/104891.jpg</td>\n",
              "      <td>1000</td>\n",
              "      <td>104891</td>\n",
              "      <td>1</td>\n",
              "      <td>661</td>\n",
              "    </tr>\n",
              "    <tr>\n",
              "      <th>1</th>\n",
              "      <td>images/018/18029.jpg</td>\n",
              "      <td>1000</td>\n",
              "      <td>18029</td>\n",
              "      <td>1</td>\n",
              "      <td>661</td>\n",
              "    </tr>\n",
              "    <tr>\n",
              "      <th>2</th>\n",
              "      <td>images/035/35151.jpg</td>\n",
              "      <td>1000</td>\n",
              "      <td>35151</td>\n",
              "      <td>1</td>\n",
              "      <td>661</td>\n",
              "    </tr>\n",
              "    <tr>\n",
              "      <th>3</th>\n",
              "      <td>images/124/124144.jpg</td>\n",
              "      <td>1000</td>\n",
              "      <td>124144</td>\n",
              "      <td>1</td>\n",
              "      <td>682</td>\n",
              "    </tr>\n",
              "    <tr>\n",
              "      <th>4</th>\n",
              "      <td>images/024/24649.jpg</td>\n",
              "      <td>1000</td>\n",
              "      <td>24649</td>\n",
              "      <td>1</td>\n",
              "      <td>682</td>\n",
              "    </tr>\n",
              "    <tr>\n",
              "      <th>...</th>\n",
              "      <td>...</td>\n",
              "      <td>...</td>\n",
              "      <td>...</td>\n",
              "      <td>...</td>\n",
              "      <td>...</td>\n",
              "    </tr>\n",
              "    <tr>\n",
              "      <th>138287</th>\n",
              "      <td>images/032/32738.jpg</td>\n",
              "      <td>1000</td>\n",
              "      <td>32738</td>\n",
              "      <td>1</td>\n",
              "      <td>661</td>\n",
              "    </tr>\n",
              "    <tr>\n",
              "      <th>138288</th>\n",
              "      <td>images/016/16804.jpg</td>\n",
              "      <td>1000</td>\n",
              "      <td>16804</td>\n",
              "      <td>1</td>\n",
              "      <td>682</td>\n",
              "    </tr>\n",
              "    <tr>\n",
              "      <th>138289</th>\n",
              "      <td>images/113/113662.jpg</td>\n",
              "      <td>1000</td>\n",
              "      <td>113662</td>\n",
              "      <td>1</td>\n",
              "      <td>682</td>\n",
              "    </tr>\n",
              "    <tr>\n",
              "      <th>138290</th>\n",
              "      <td>images/086/86100.jpg</td>\n",
              "      <td>1000</td>\n",
              "      <td>86100</td>\n",
              "      <td>1</td>\n",
              "      <td>682</td>\n",
              "    </tr>\n",
              "    <tr>\n",
              "      <th>138291</th>\n",
              "      <td>images/028/28731.jpg</td>\n",
              "      <td>1000</td>\n",
              "      <td>28731</td>\n",
              "      <td>1</td>\n",
              "      <td>682</td>\n",
              "    </tr>\n",
              "  </tbody>\n",
              "</table>\n",
              "<p>138292 rows × 5 columns</p>\n",
              "</div>"
            ],
            "text/plain": [
              "                    file_name  height  image_id  license  width\n",
              "0       images/104/104891.jpg    1000    104891        1    661\n",
              "1        images/018/18029.jpg    1000     18029        1    661\n",
              "2        images/035/35151.jpg    1000     35151        1    661\n",
              "3       images/124/124144.jpg    1000    124144        1    682\n",
              "4        images/024/24649.jpg    1000     24649        1    682\n",
              "...                       ...     ...       ...      ...    ...\n",
              "138287   images/032/32738.jpg    1000     32738        1    661\n",
              "138288   images/016/16804.jpg    1000     16804        1    682\n",
              "138289  images/113/113662.jpg    1000    113662        1    682\n",
              "138290   images/086/86100.jpg    1000     86100        1    682\n",
              "138291   images/028/28731.jpg    1000     28731        1    682\n",
              "\n",
              "[138292 rows x 5 columns]"
            ]
          },
          "metadata": {}
        }
      ]
    },
    {
      "cell_type": "code",
      "metadata": {
        "id": "aM0Xwj_Zs8qG"
      },
      "source": [
        "train_df.to_csv('/gdrive/MyDrive/dacon/Herbarium/herbarium-2020-fgvc7/nybg2020/full_train_data.csv', index=False)\n",
        "test_df.to_csv('/gdrive/MyDrive/dacon/Herbarium/herbarium-2020-fgvc7/nybg2020/full_test_data.csv', index=False)"
      ],
      "execution_count": null,
      "outputs": []
    },
    {
      "cell_type": "markdown",
      "metadata": {
        "id": "KZf-8HcfRsiB"
      },
      "source": [
        "# 새 섹션"
      ]
    },
    {
      "cell_type": "code",
      "metadata": {
        "id": "H0K0np6DhEq0"
      },
      "source": [
        "train_df = pd.read_csv('/gdrive/MyDrive/dacon/Herbarium/herbarium-2020-fgvc7/nybg2020/full_train_data.csv')\n",
        "test_df = pd.read_csv('/gdrive/MyDrive/dacon/Herbarium/herbarium-2020-fgvc7/nybg2020/full_test_data.csv')"
      ],
      "execution_count": null,
      "outputs": []
    },
    {
      "cell_type": "code",
      "metadata": {
        "id": "Ohtso0iqX8vg",
        "colab": {
          "base_uri": "https://localhost:8080/"
        },
        "outputId": "cc4d2a4d-6a5b-400f-cd50-c5502b9cb3aa"
      },
      "source": [
        "print(train_df.category_id.value_counts())"
      ],
      "execution_count": null,
      "outputs": [
        {
          "output_type": "stream",
          "name": "stdout",
          "text": [
            "23718    1765\n",
            "163      1195\n",
            "5340     1090\n",
            "23713    1077\n",
            "8437     1024\n",
            "         ... \n",
            "29409       2\n",
            "14021       2\n",
            "23142       1\n",
            "24021       1\n",
            "22922       1\n",
            "Name: category_id, Length: 32093, dtype: int64\n"
          ]
        }
      ]
    },
    {
      "cell_type": "code",
      "metadata": {
        "colab": {
          "base_uri": "https://localhost:8080/"
        },
        "id": "Jkzwwy1vtGws",
        "outputId": "2e933192-9a1a-4fc6-b2e2-8441fb404b57"
      },
      "source": [
        "for col in train_df.columns:\n",
        "    print(\"{0:10s} \\t {1:10d}\".format(col, len(train_df[col].unique())))"
      ],
      "execution_count": null,
      "outputs": [
        {
          "output_type": "stream",
          "name": "stdout",
          "text": [
            "category_id \t      32093\n",
            "id         \t    1030747\n",
            "image_id   \t    1030747\n",
            "region_id  \t          4\n",
            "family     \t        310\n",
            "genus      \t       3678\n",
            "category_name \t      32093\n",
            "file_name  \t    1030747\n",
            "height     \t         32\n",
            "license    \t          1\n",
            "width      \t        181\n",
            "region_name \t          4\n"
          ]
        }
      ]
    },
    {
      "cell_type": "code",
      "metadata": {
        "colab": {
          "base_uri": "https://localhost:8080/",
          "height": 299
        },
        "id": "0ub0f2gqtKhu",
        "outputId": "f7714196-03e1-48c9-bc22-4f2127656610"
      },
      "source": [
        "family = train_df[['family', 'genus', 'category_name']].groupby(['family', 'genus']).count()\n",
        "display(family.describe())"
      ],
      "execution_count": null,
      "outputs": [
        {
          "output_type": "display_data",
          "data": {
            "text/html": [
              "<div>\n",
              "<style scoped>\n",
              "    .dataframe tbody tr th:only-of-type {\n",
              "        vertical-align: middle;\n",
              "    }\n",
              "\n",
              "    .dataframe tbody tr th {\n",
              "        vertical-align: top;\n",
              "    }\n",
              "\n",
              "    .dataframe thead th {\n",
              "        text-align: right;\n",
              "    }\n",
              "</style>\n",
              "<table border=\"1\" class=\"dataframe\">\n",
              "  <thead>\n",
              "    <tr style=\"text-align: right;\">\n",
              "      <th></th>\n",
              "      <th>category_name</th>\n",
              "    </tr>\n",
              "  </thead>\n",
              "  <tbody>\n",
              "    <tr>\n",
              "      <th>count</th>\n",
              "      <td>3680.000000</td>\n",
              "    </tr>\n",
              "    <tr>\n",
              "      <th>mean</th>\n",
              "      <td>280.094293</td>\n",
              "    </tr>\n",
              "    <tr>\n",
              "      <th>std</th>\n",
              "      <td>763.666084</td>\n",
              "    </tr>\n",
              "    <tr>\n",
              "      <th>min</th>\n",
              "      <td>2.000000</td>\n",
              "    </tr>\n",
              "    <tr>\n",
              "      <th>25%</th>\n",
              "      <td>12.000000</td>\n",
              "    </tr>\n",
              "    <tr>\n",
              "      <th>50%</th>\n",
              "      <td>54.000000</td>\n",
              "    </tr>\n",
              "    <tr>\n",
              "      <th>75%</th>\n",
              "      <td>198.000000</td>\n",
              "    </tr>\n",
              "    <tr>\n",
              "      <th>max</th>\n",
              "      <td>14490.000000</td>\n",
              "    </tr>\n",
              "  </tbody>\n",
              "</table>\n",
              "</div>"
            ],
            "text/plain": [
              "       category_name\n",
              "count    3680.000000\n",
              "mean      280.094293\n",
              "std       763.666084\n",
              "min         2.000000\n",
              "25%        12.000000\n",
              "50%        54.000000\n",
              "75%       198.000000\n",
              "max     14490.000000"
            ]
          },
          "metadata": {}
        }
      ]
    },
    {
      "cell_type": "code",
      "metadata": {
        "colab": {
          "base_uri": "https://localhost:8080/"
        },
        "id": "jxmuYWJ4YJ7I",
        "outputId": "c68f0f40-1604-4e7c-ab3b-6c9d35ea0b6b"
      },
      "source": [
        "from tensorflow.keras.models import Model\n",
        "from tensorflow.keras.layers import Dense, Dropout, Conv2D, MaxPool2D, Flatten, BatchNormalization, Input, concatenate\n",
        "from tensorflow.keras.optimizers import Adam\n",
        "from tensorflow.keras.utils import plot_model\n",
        "from sklearn.model_selection import train_test_split as tts\n",
        "from tensorflow.keras.callbacks import ModelCheckpoint\n",
        "in_out_size = (120*120) + 3\n",
        "img_shape = 120\n",
        "name_of_model = \"model1\"\n",
        "def xavier(shape, dtype=None):\n",
        "    return np.random.rand(*shape)*np.sqrt(1/in_out_size)\n",
        "\n",
        "def fg_model(shape, lr=0.001):\n",
        "    i = Input(shape)\n",
        "    x = Dense(128)\n",
        "    for j in range(5):\n",
        "        x = Conv2D(128, (32, 32), activation='relu', kernel_initializer=xavier, padding='same')(x)\n",
        "        x = BatchNormalization()(x)\n",
        "        x = MaxPool2D((2, 2))(x)\n",
        "        x = Dropout(0.2)(x)\n",
        "    x = Flatten()(x)\n",
        "    x = Dense(128, activation='relu', kernel_initializer=xavier)(x)\n",
        "    x = BatchNormalization()(x)\n",
        "    x = Dropout(0.5)(x)\n",
        "    o3 = Dense(2591, activation='softmax', name='category_id', kernel_initializer=xavier)(x)\n",
        "\n",
        "    x = Model(inputs=i, outputs=o3)\n",
        "\n",
        "    opt = Adam(lr=lr, amsgrad=True)\n",
        "    x.compile(optimizer=opt, loss=['sparse_categorical_crossentropy'],\n",
        "                  metrics=['accuracy'])\n",
        "    return x\n",
        "\n",
        "model = fg_model((img_shape, img_shape, 3))\n",
        "model.summary()"
      ],
      "execution_count": null,
      "outputs": [
        {
          "output_type": "stream",
          "name": "stdout",
          "text": [
            "Model: \"model_8\"\n",
            "_________________________________________________________________\n",
            "Layer (type)                 Output Shape              Param #   \n",
            "=================================================================\n",
            "input_9 (InputLayer)         [(None, 120, 120, 3)]     0         \n",
            "_________________________________________________________________\n",
            "conv2d_45 (Conv2D)           (None, 120, 120, 32)      896       \n",
            "_________________________________________________________________\n",
            "batch_normalization_51 (Batc (None, 120, 120, 32)      128       \n",
            "_________________________________________________________________\n",
            "conv2d_46 (Conv2D)           (None, 120, 120, 32)      9248      \n",
            "_________________________________________________________________\n",
            "batch_normalization_52 (Batc (None, 120, 120, 32)      128       \n",
            "_________________________________________________________________\n",
            "max_pooling2d_23 (MaxPooling (None, 60, 60, 32)        0         \n",
            "_________________________________________________________________\n",
            "dropout_30 (Dropout)         (None, 60, 60, 32)        0         \n",
            "_________________________________________________________________\n",
            "conv2d_47 (Conv2D)           (None, 60, 60, 64)        18496     \n",
            "_________________________________________________________________\n",
            "batch_normalization_53 (Batc (None, 60, 60, 64)        256       \n",
            "_________________________________________________________________\n",
            "conv2d_48 (Conv2D)           (None, 60, 60, 64)        36928     \n",
            "_________________________________________________________________\n",
            "batch_normalization_54 (Batc (None, 60, 60, 64)        256       \n",
            "_________________________________________________________________\n",
            "max_pooling2d_24 (MaxPooling (None, 30, 30, 64)        0         \n",
            "_________________________________________________________________\n",
            "dropout_31 (Dropout)         (None, 30, 30, 64)        0         \n",
            "_________________________________________________________________\n",
            "conv2d_49 (Conv2D)           (None, 30, 30, 128)       73856     \n",
            "_________________________________________________________________\n",
            "batch_normalization_55 (Batc (None, 30, 30, 128)       512       \n",
            "_________________________________________________________________\n",
            "conv2d_50 (Conv2D)           (None, 30, 30, 128)       147584    \n",
            "_________________________________________________________________\n",
            "batch_normalization_56 (Batc (None, 30, 30, 128)       512       \n",
            "_________________________________________________________________\n",
            "max_pooling2d_25 (MaxPooling (None, 15, 15, 128)       0         \n",
            "_________________________________________________________________\n",
            "dropout_32 (Dropout)         (None, 15, 15, 128)       0         \n",
            "_________________________________________________________________\n",
            "flatten_8 (Flatten)          (None, 28800)             0         \n",
            "_________________________________________________________________\n",
            "dense_7 (Dense)              (None, 128)               3686528   \n",
            "_________________________________________________________________\n",
            "batch_normalization_57 (Batc (None, 128)               512       \n",
            "_________________________________________________________________\n",
            "dropout_33 (Dropout)         (None, 128)               0         \n",
            "_________________________________________________________________\n",
            "category_id (Dense)          (None, 32094)             4140126   \n",
            "=================================================================\n",
            "Total params: 8,115,966\n",
            "Trainable params: 8,114,814\n",
            "Non-trainable params: 1,152\n",
            "_________________________________________________________________\n"
          ]
        },
        {
          "output_type": "stream",
          "name": "stderr",
          "text": [
            "/usr/local/lib/python3.7/dist-packages/keras/optimizer_v2/optimizer_v2.py:356: UserWarning: The `lr` argument is deprecated, use `learning_rate` instead.\n",
            "  \"The `lr` argument is deprecated, use `learning_rate` instead.\")\n"
          ]
        }
      ]
    },
    {
      "cell_type": "code",
      "metadata": {
        "id": "hmFsMRLoZz5J"
      },
      "source": [
        "import numpy as np\n",
        "group_3 = np.array([1,1, 1, 2])\n",
        "group_4 = np.array([3,3,3,1])"
      ],
      "execution_count": null,
      "outputs": []
    },
    {
      "cell_type": "code",
      "metadata": {
        "id": "-L8C8J4ktKfd",
        "colab": {
          "base_uri": "https://localhost:8080/"
        },
        "outputId": "a458e25e-df09-423c-ecec-a88473551298"
      },
      "source": [
        "def gini(x):\n",
        "    return 1 - ((x / x.sum())**2).sum()\n",
        "def entropy(x):\n",
        "    return (-x*np.log2(x)).sum()\n",
        "gini_3 = gini(group_3)\n",
        "gini_4 = gini(group_4)\n",
        "print(gini_3)\n",
        "print(gini_4)\n",
        "print(entropy(group_3))\n",
        "print(entropy(group_4))"
      ],
      "execution_count": null,
      "outputs": [
        {
          "output_type": "stream",
          "name": "stdout",
          "text": [
            "0.72\n",
            "0.72\n",
            "-2.0\n",
            "-14.264662506490405\n"
          ]
        }
      ]
    },
    {
      "cell_type": "code",
      "metadata": {
        "id": "SqRbrOZetKdE"
      },
      "source": [
        "from tensorflow.keras.preprocessing.image import ImageDataGenerator\n",
        "\n",
        "train_datagen = ImageDataGenerator(featurewise_center=False,\n",
        "                                     featurewise_std_normalization=False,\n",
        "                                     rotation_range=180,\n",
        "                                     width_shift_range=0.1,\n",
        "                                     height_shift_range=0.1,\n",
        "                                     zoom_range=0.2)"
      ],
      "execution_count": null,
      "outputs": []
    },
    {
      "cell_type": "code",
      "metadata": {
        "colab": {
          "base_uri": "https://localhost:8080/",
          "height": 531
        },
        "id": "Sj26F3dBtKaq",
        "outputId": "99fcd1b1-a04b-465b-d2fa-d8dad0e7efa8"
      },
      "source": [
        "m = train_df[['file_name', 'family', 'genus', 'category_id']]\n",
        "fam = m.family.unique().tolist()\n",
        "m.family = m.family.map(lambda x: fam.index(x))\n",
        "gen = m.genus.unique().tolist()\n",
        "m.genus = m.genus.map(lambda x: gen.index(x))\n",
        "display(m)"
      ],
      "execution_count": null,
      "outputs": [
        {
          "output_type": "stream",
          "name": "stderr",
          "text": [
            "/usr/local/lib/python3.7/dist-packages/pandas/core/generic.py:5170: SettingWithCopyWarning: \n",
            "A value is trying to be set on a copy of a slice from a DataFrame.\n",
            "Try using .loc[row_indexer,col_indexer] = value instead\n",
            "\n",
            "See the caveats in the documentation: https://pandas.pydata.org/pandas-docs/stable/user_guide/indexing.html#returning-a-view-versus-a-copy\n",
            "  self[name] = value\n"
          ]
        },
        {
          "output_type": "display_data",
          "data": {
            "text/html": [
              "<div>\n",
              "<style scoped>\n",
              "    .dataframe tbody tr th:only-of-type {\n",
              "        vertical-align: middle;\n",
              "    }\n",
              "\n",
              "    .dataframe tbody tr th {\n",
              "        vertical-align: top;\n",
              "    }\n",
              "\n",
              "    .dataframe thead th {\n",
              "        text-align: right;\n",
              "    }\n",
              "</style>\n",
              "<table border=\"1\" class=\"dataframe\">\n",
              "  <thead>\n",
              "    <tr style=\"text-align: right;\">\n",
              "      <th></th>\n",
              "      <th>file_name</th>\n",
              "      <th>family</th>\n",
              "      <th>genus</th>\n",
              "      <th>category_id</th>\n",
              "    </tr>\n",
              "  </thead>\n",
              "  <tbody>\n",
              "    <tr>\n",
              "      <th>0</th>\n",
              "      <td>images/156/72/354106.jpg</td>\n",
              "      <td>0</td>\n",
              "      <td>0</td>\n",
              "      <td>15672</td>\n",
              "    </tr>\n",
              "    <tr>\n",
              "      <th>1</th>\n",
              "      <td>images/156/72/545181.jpg</td>\n",
              "      <td>0</td>\n",
              "      <td>0</td>\n",
              "      <td>15672</td>\n",
              "    </tr>\n",
              "    <tr>\n",
              "      <th>2</th>\n",
              "      <td>images/156/72/449419.jpg</td>\n",
              "      <td>0</td>\n",
              "      <td>0</td>\n",
              "      <td>15672</td>\n",
              "    </tr>\n",
              "    <tr>\n",
              "      <th>3</th>\n",
              "      <td>images/156/72/200223.jpg</td>\n",
              "      <td>0</td>\n",
              "      <td>0</td>\n",
              "      <td>15672</td>\n",
              "    </tr>\n",
              "    <tr>\n",
              "      <th>4</th>\n",
              "      <td>images/156/72/5327.jpg</td>\n",
              "      <td>0</td>\n",
              "      <td>0</td>\n",
              "      <td>15672</td>\n",
              "    </tr>\n",
              "    <tr>\n",
              "      <th>...</th>\n",
              "      <td>...</td>\n",
              "      <td>...</td>\n",
              "      <td>...</td>\n",
              "      <td>...</td>\n",
              "    </tr>\n",
              "    <tr>\n",
              "      <th>1030742</th>\n",
              "      <td>images/027/65/602937.jpg</td>\n",
              "      <td>25</td>\n",
              "      <td>1554</td>\n",
              "      <td>2765</td>\n",
              "    </tr>\n",
              "    <tr>\n",
              "      <th>1030743</th>\n",
              "      <td>images/034/67/12768.jpg</td>\n",
              "      <td>32</td>\n",
              "      <td>798</td>\n",
              "      <td>3467</td>\n",
              "    </tr>\n",
              "    <tr>\n",
              "      <th>1030744</th>\n",
              "      <td>images/034/67/945011.jpg</td>\n",
              "      <td>32</td>\n",
              "      <td>798</td>\n",
              "      <td>3467</td>\n",
              "    </tr>\n",
              "    <tr>\n",
              "      <th>1030745</th>\n",
              "      <td>images/206/84/916700.jpg</td>\n",
              "      <td>309</td>\n",
              "      <td>3677</td>\n",
              "      <td>20684</td>\n",
              "    </tr>\n",
              "    <tr>\n",
              "      <th>1030746</th>\n",
              "      <td>images/206/84/577648.jpg</td>\n",
              "      <td>309</td>\n",
              "      <td>3677</td>\n",
              "      <td>20684</td>\n",
              "    </tr>\n",
              "  </tbody>\n",
              "</table>\n",
              "<p>1030747 rows × 4 columns</p>\n",
              "</div>"
            ],
            "text/plain": [
              "                        file_name  family  genus  category_id\n",
              "0        images/156/72/354106.jpg       0      0        15672\n",
              "1        images/156/72/545181.jpg       0      0        15672\n",
              "2        images/156/72/449419.jpg       0      0        15672\n",
              "3        images/156/72/200223.jpg       0      0        15672\n",
              "4          images/156/72/5327.jpg       0      0        15672\n",
              "...                           ...     ...    ...          ...\n",
              "1030742  images/027/65/602937.jpg      25   1554         2765\n",
              "1030743   images/034/67/12768.jpg      32    798         3467\n",
              "1030744  images/034/67/945011.jpg      32    798         3467\n",
              "1030745  images/206/84/916700.jpg     309   3677        20684\n",
              "1030746  images/206/84/577648.jpg     309   3677        20684\n",
              "\n",
              "[1030747 rows x 4 columns]"
            ]
          },
          "metadata": {}
        }
      ]
    },
    {
      "cell_type": "code",
      "metadata": {
        "colab": {
          "base_uri": "https://localhost:8080/",
          "height": 227
        },
        "id": "3psQ5WfdcS0H",
        "outputId": "f0973b3e-e641-431a-b44a-cc69d441f7bf"
      },
      "source": [
        "train, verif = tts(m, test_size=0.2, shuffle=True)#,random_state=17)\n",
        "print(len(train))\n",
        "print(len(verif))\n",
        "print(int(len(train)/10)*(c-1))"
      ],
      "execution_count": null,
      "outputs": [
        {
          "output_type": "error",
          "ename": "NameError",
          "evalue": "ignored",
          "traceback": [
            "\u001b[0;31m---------------------------------------------------------------------------\u001b[0m",
            "\u001b[0;31mNameError\u001b[0m                                 Traceback (most recent call last)",
            "\u001b[0;32m<ipython-input-2-b611a3da6e18>\u001b[0m in \u001b[0;36m<module>\u001b[0;34m()\u001b[0m\n\u001b[0;32m----> 1\u001b[0;31m \u001b[0mtrain\u001b[0m\u001b[0;34m,\u001b[0m \u001b[0mverif\u001b[0m \u001b[0;34m=\u001b[0m \u001b[0mtts\u001b[0m\u001b[0;34m(\u001b[0m\u001b[0mm\u001b[0m\u001b[0;34m,\u001b[0m \u001b[0mtest_size\u001b[0m\u001b[0;34m=\u001b[0m\u001b[0;36m0.2\u001b[0m\u001b[0;34m,\u001b[0m \u001b[0mshuffle\u001b[0m\u001b[0;34m=\u001b[0m\u001b[0;32mTrue\u001b[0m\u001b[0;34m)\u001b[0m\u001b[0;31m#,random_state=17)\u001b[0m\u001b[0;34m\u001b[0m\u001b[0;34m\u001b[0m\u001b[0m\n\u001b[0m\u001b[1;32m      2\u001b[0m \u001b[0mprint\u001b[0m\u001b[0;34m(\u001b[0m\u001b[0mlen\u001b[0m\u001b[0;34m(\u001b[0m\u001b[0mtrain\u001b[0m\u001b[0;34m)\u001b[0m\u001b[0;34m)\u001b[0m\u001b[0;34m\u001b[0m\u001b[0;34m\u001b[0m\u001b[0m\n\u001b[1;32m      3\u001b[0m \u001b[0mprint\u001b[0m\u001b[0;34m(\u001b[0m\u001b[0mlen\u001b[0m\u001b[0;34m(\u001b[0m\u001b[0mverif\u001b[0m\u001b[0;34m)\u001b[0m\u001b[0;34m)\u001b[0m\u001b[0;34m\u001b[0m\u001b[0;34m\u001b[0m\u001b[0m\n\u001b[1;32m      4\u001b[0m \u001b[0mprint\u001b[0m\u001b[0;34m(\u001b[0m\u001b[0mint\u001b[0m\u001b[0;34m(\u001b[0m\u001b[0mlen\u001b[0m\u001b[0;34m(\u001b[0m\u001b[0mtrain\u001b[0m\u001b[0;34m)\u001b[0m\u001b[0;34m/\u001b[0m\u001b[0;36m10\u001b[0m\u001b[0;34m)\u001b[0m\u001b[0;34m*\u001b[0m\u001b[0;34m(\u001b[0m\u001b[0mc\u001b[0m\u001b[0;34m-\u001b[0m\u001b[0;36m1\u001b[0m\u001b[0;34m)\u001b[0m\u001b[0;34m)\u001b[0m\u001b[0;34m\u001b[0m\u001b[0;34m\u001b[0m\u001b[0m\n",
            "\u001b[0;31mNameError\u001b[0m: name 'tts' is not defined"
          ]
        }
      ]
    },
    {
      "cell_type": "code",
      "metadata": {
        "colab": {
          "base_uri": "https://localhost:8080/"
        },
        "id": "c-ST722rZ6xZ",
        "outputId": "dc83a894-9e41-4cc2-fb03-2b4d018d2850"
      },
      "source": [
        "c=1 #1~10\n",
        "train = train[int(len(train)/10)*(c-1):int(len(train)/10)*c]\n",
        "verif = verif[int(len(verif)/10)*(c-1):int(len(verif)/10)*c]\n",
        "print(len(train))\n",
        "shape = (img_shape, img_shape, 3)\n",
        "epochs = 20\n",
        "batch_size = 40 #640\n",
        "\n",
        "DIR_TRAIN='/gdrive/MyDrive/dacon/Herbarium/herbarium-2020-fgvc7/nybg2020/train/'\n",
        "TRAIN_DIR_TRAIN='/gdrive/MyDrive/dacon/Herbarium/herbarium-2020-fgvc7/nybg2020/train/'\n",
        "TEST_DIR_TRAIN='/gdrive/MyDrive/dacon/Herbarium/herbarium-2020-fgvc7/nybg2020/test/'\n",
        "print(\"TYPE\",type(train['category_id']))\n",
        "\n",
        "\n",
        "#train['category_id'] = train['category_id'].astype(str)\n",
        "#verif['category_id'] = verif['category_id'].astype(str)\n",
        "\n",
        "print(\"after train \\n\", train.dtypes)\n",
        "print(\"\\nfile name = \", type(train['file_name']))\n",
        "if c == 1:\n",
        "    model = fg_model(shape, 0.007)\n",
        "else:\n",
        "    model = fg_model(shape, 0.007)\n",
        "    model.load_weights('/gdrive/MyDrive/dacon/Herbarium/herbarium-2020-fgvc7/nybg2020/fg_model_id.h5')\n",
        "\n",
        "\n",
        "print(\"train\",train['category_id'].nunique())\n",
        "print(\"verif\",verif['category_id'].nunique())\n",
        "\n",
        "\n",
        "for layers in model.layers:\n",
        "    if layers.name == 'category_id':\n",
        "        layers.trainable = True\n",
        "model_checkpoint_callback = ModelCheckpoint(\n",
        "    filepath='/gdrive/MyDrive/dacon/Herbarium/herbarium-2020-fgvc7/nybg2020/fg_model_id.h5',\n",
        "    save_weights_only=True,\n",
        "    monitor='val_loss',\n",
        "    mode='min',\n",
        "    save_best_only=True)\n",
        "history=model.fit_generator(train_datagen.flow_from_dataframe(dataframe=train,\n",
        "                                                              directory=TRAIN_DIR_TRAIN,\n",
        "                                                              x_col=\"file_name\",\n",
        "                                                              y_col=\"category_id\",\n",
        "                                                              target_size=(img_shape, img_shape),\n",
        "                                                              batch_size=batch_size,\n",
        "                                                              class_mode='raw'),\n",
        "                            validation_data=train_datagen.flow_from_dataframe(\n",
        "                            dataframe=verif,\n",
        "                            directory=TRAIN_DIR_TRAIN,\n",
        "                            x_col=\"file_name\",\n",
        "                            y_col=\"category_id\",\n",
        "                            target_size=(img_shape, img_shape),\n",
        "                            batch_size=batch_size,\n",
        "                            class_mode='raw'),\n",
        "                            epochs=epochs,\n",
        "                            steps_per_epoch=len(train)//batch_size,\n",
        "                            validation_steps=len(verif)//batch_size,\n",
        "                            verbose=1)\n",
        "model.save('/gdrive/MyDrive/dacon/Herbarium/herbarium-2020-fgvc7/nybg2020/fg_model_id.h5')\n",
        "model.save('fg_model_id.h5')"
      ],
      "execution_count": null,
      "outputs": [
        {
          "metadata": {
            "tags": null
          },
          "name": "stdout",
          "output_type": "stream",
          "text": [
            "82459\n",
            "TYPE <class 'pandas.core.series.Series'>\n",
            "after train \n",
            " file_name      object\n",
            "family          int64\n",
            "genus           int64\n",
            "category_id     int64\n",
            "dtype: object\n",
            "\n",
            "file name =  <class 'pandas.core.series.Series'>\n"
          ]
        },
        {
          "metadata": {
            "tags": null
          },
          "name": "stderr",
          "output_type": "stream",
          "text": [
            "/usr/local/lib/python3.7/dist-packages/keras/optimizer_v2/optimizer_v2.py:356: UserWarning: The `lr` argument is deprecated, use `learning_rate` instead.\n",
            "  \"The `lr` argument is deprecated, use `learning_rate` instead.\")\n"
          ]
        },
        {
          "metadata": {
            "tags": null
          },
          "name": "stdout",
          "output_type": "stream",
          "text": [
            "Nombre de catégories entrainées dans train 18353\n",
            "Nombre de catégories entrainées dans verif 9426\n",
            "Found 82459 validated image filenames.\n",
            "Found 20615 validated image filenames.\n"
          ]
        },
        {
          "metadata": {
            "tags": null
          },
          "name": "stderr",
          "output_type": "stream",
          "text": [
            "/usr/local/lib/python3.7/dist-packages/keras/engine/training.py:1972: UserWarning: `Model.fit_generator` is deprecated and will be removed in a future version. Please use `Model.fit`, which supports generators.\n",
            "  warnings.warn('`Model.fit_generator` is deprecated and '\n"
          ]
        },
        {
          "output_type": "stream",
          "name": "stdout",
          "text": [
            "Epoch 1/20\n",
            "1892/2061 [==========================>...] - ETA: 31:14 - loss: 9.7722 - accuracy: 0.0010"
          ]
        }
      ]
    },
    {
      "cell_type": "code",
      "metadata": {
        "id": "sTHCJ2gWTW4a"
      },
      "source": [
        ""
      ],
      "execution_count": null,
      "outputs": []
    },
    {
      "cell_type": "code",
      "metadata": {
        "id": "LeFgl-SBMfS-"
      },
      "source": [
        ""
      ],
      "execution_count": null,
      "outputs": []
    },
    {
      "cell_type": "code",
      "metadata": {
        "id": "u4ohLnodaxwT"
      },
      "source": [
        "\n",
        "import matplotlib.pyplot as plt\n",
        "print(history.history.keys())\n",
        "# summarize history for accuracy\n",
        "plt.plot(history.history['accuracy'])\n",
        "plt.plot(history.history['val_accuracy'])\n",
        "plt.title('model accuracy')\n",
        "plt.ylabel('accuracy')\n",
        "plt.xlabel('epoch')\n",
        "plt.legend(['train_acc', 'test_acc'], loc='upper left')\n",
        "# summarize history for loss\n",
        "plt.plot(history.history['loss'])\n",
        "plt.plot(history.history['val_loss'])\n",
        "plt.title('model loss')\n",
        "plt.ylabel('loss')\n",
        "plt.xlabel('epoch')\n",
        "plt.legend(['train_loss', 'test_loss'], loc='upper left')\n",
        "plt.show()"
      ],
      "execution_count": null,
      "outputs": []
    },
    {
      "cell_type": "code",
      "metadata": {
        "id": "Tmnp3mbidluY"
      },
      "source": [
        ""
      ],
      "execution_count": null,
      "outputs": []
    },
    {
      "cell_type": "code",
      "metadata": {
        "id": "GU7wXpTXdlps"
      },
      "source": [
        "from tensorflow.keras.models import Model\n",
        "from tensorflow.keras.layers import Dense, Dropout, Conv2D, MaxPool2D, Flatten, BatchNormalization, Input, concatenate\n",
        "from tensorflow.keras.optimizers import Adam\n",
        "from tensorflow.keras.utils import plot_model\n",
        "from sklearn.model_selection import train_test_split as tts\n",
        "from tensorflow.keras.callbacks import ModelCheckpoint\n",
        "in_out_size = (120*120) + 3 #We will resize the image to 120*120 and we have 3 outputs\n",
        "def xavier(shape, dtype=None):\n",
        "    return np.random.rand(*shape)*np.sqrt(1/in_out_size)\n",
        "\n",
        "def fg_model(shape, lr=0.001):\n",
        "    '''Family-Genus model receives an image and outputs two integers indicating both the family and genus index.'''\n",
        "    i = Input(shape)\n",
        "    \n",
        "    x = Conv2D(3, (3, 3), activation='relu', padding='same', kernel_initializer=xavier)(i)\n",
        "    x = Conv2D(3, (5, 5), activation='relu', padding='same', kernel_initializer=xavier)(x)\n",
        "    x = MaxPool2D(pool_size=(3, 3), strides=(3,3))(x)\n",
        "    x = BatchNormalization()(x)\n",
        "    x = Dropout(0.5)(x)\n",
        "    x = Conv2D(16, (5, 5), activation='relu', padding='same', kernel_initializer=xavier)(x)\n",
        "    #x = Conv2D(16, (5, 5), activation='relu', padding='same', kernel_initializer=xavier)(x)\n",
        "    x = MaxPool2D(pool_size=(5, 5), strides=(5,5))(x)\n",
        "    x = BatchNormalization()(x)\n",
        "    x = Dropout(0.5)(x)\n",
        "    x = Flatten()(x)\n",
        "    \n",
        "    o1 = Dense(310, activation='softmax', name='family', kernel_initializer=xavier)(x)\n",
        "    \n",
        "    o2 = concatenate([o1, x])\n",
        "    o2 = Dense(3678, activation='softmax', name='genus', kernel_initializer=xavier)(o2)\n",
        "    \n",
        "    o3 = concatenate([o1, o2, x])\n",
        "    o3 = Dense(32094, activation='softmax', name='category_id', kernel_initializer=xavier)(o3)\n",
        "    \n",
        "    x = Model(inputs=i, outputs=[o1, o2, o3])\n",
        "    \n",
        "    opt = Adam(lr=lr, amsgrad=True)\n",
        "    x.compile(optimizer=opt, loss=['sparse_categorical_crossentropy', \n",
        "                                   'sparse_categorical_crossentropy', \n",
        "                                   'sparse_categorical_crossentropy'],\n",
        "                 metrics=['accuracy'])\n",
        "    return x\n",
        "\n",
        "model = fg_model((120, 120, 3))\n",
        "model.summary()\n",
        "plot_model(model, to_file='full_model_plot.png', show_shapes=True, show_layer_names=True)"
      ],
      "execution_count": null,
      "outputs": []
    },
    {
      "cell_type": "code",
      "metadata": {
        "id": "F2nDZKm7dk4V"
      },
      "source": [
        ""
      ],
      "execution_count": null,
      "outputs": []
    },
    {
      "cell_type": "code",
      "metadata": {
        "colab": {
          "base_uri": "https://localhost:8080/"
        },
        "id": "WSTQbC1StKYD",
        "outputId": "437a4dd6-6517-4d0c-e70b-28bb7808acb1"
      },
      "source": [
        "train, verif = tts(m, test_size=0.2, shuffle=True, random_state=17)\n",
        "train = train[:40000]\n",
        "verif = verif[:10000]\n",
        "shape = (120, 120, 3)\n",
        "epochs = 10\n",
        "batch_size = 32\n",
        "\n",
        "model = fg_model(shape, 0.007)\n",
        "\n",
        "#Disable the last two output layers for training the Family\n",
        "for layers in model.layers:\n",
        "    if layers.name == 'genus' or layers.name=='category_id':\n",
        "        layers.trainable = False\n",
        "\n",
        "#Train Family for 2 epochs\n",
        "model_checkpoint_callback = ModelCheckpoint(\n",
        "    filepath='/gdrive/MyDrive/dacon/Herbarium/herbarium-2020-fgvc7/nybg2020/fg_model.h5',\n",
        "    save_weights_only=True,\n",
        "    monitor='val_loss',\n",
        "    mode='min',\n",
        "    save_best_only=True)\n",
        "model.fit_generator(train_datagen.flow_from_dataframe(dataframe=train,\n",
        "                                                      directory='/gdrive/MyDrive/dacon/Herbarium/herbarium-2020-fgvc7/nybg2020/train/',\n",
        "                                                      x_col=\"file_name\",\n",
        "                                                      y_col=[\"family\", \"genus\", \"category_id\"],\n",
        "                                                      target_size=(120, 120),\n",
        "                                                      batch_size=batch_size,\n",
        "                                                      class_mode='multi_output'),\n",
        "                    validation_data=train_datagen.flow_from_dataframe(\n",
        "                        dataframe=verif,\n",
        "                        directory='/gdrive/MyDrive/dacon/Herbarium/herbarium-2020-fgvc7/nybg2020/train/',\n",
        "                        x_col=\"file_name\",\n",
        "                        y_col=[\"family\", \"genus\", \"category_id\"],\n",
        "                        target_size=(120, 120),\n",
        "                        batch_size=batch_size,\n",
        "                        class_mode='multi_output'),\n",
        "                    epochs=epochs,\n",
        "                    steps_per_epoch=len(train)//batch_size,\n",
        "                    validation_steps=len(verif)//batch_size,\n",
        "                    verbose=1,\n",
        "                    workers = 8,\n",
        "                    # callbacks=[model_checkpoint_callback]\n",
        "                    )\n",
        "model.save('/gdrive/MyDrive/dacon/Herbarium/herbarium-2020-fgvc7/nybg2020/fg_model.h5')\n",
        "model.save('fg_model.h5')\n",
        "\n"
      ],
      "execution_count": null,
      "outputs": [
        {
          "output_type": "stream",
          "name": "stderr",
          "text": [
            "/usr/local/lib/python3.7/dist-packages/keras/optimizer_v2/optimizer_v2.py:356: UserWarning: The `lr` argument is deprecated, use `learning_rate` instead.\n",
            "  \"The `lr` argument is deprecated, use `learning_rate` instead.\")\n"
          ]
        },
        {
          "output_type": "stream",
          "name": "stdout",
          "text": [
            "Found 40000 validated image filenames.\n",
            "Found 10000 validated image filenames.\n"
          ]
        },
        {
          "output_type": "stream",
          "name": "stderr",
          "text": [
            "/usr/local/lib/python3.7/dist-packages/keras/engine/training.py:1972: UserWarning: `Model.fit_generator` is deprecated and will be removed in a future version. Please use `Model.fit`, which supports generators.\n",
            "  warnings.warn('`Model.fit_generator` is deprecated and '\n"
          ]
        },
        {
          "output_type": "stream",
          "name": "stdout",
          "text": [
            "Epoch 1/10\n",
            "1250/1250 [==============================] - 3563s 3s/step - loss: 21.5697 - family_loss: 4.5053 - genus_loss: 7.0466 - category_id_loss: 10.0178 - family_accuracy: 0.1010 - genus_accuracy: 0.0181 - category_id_accuracy: 0.0014 - val_loss: 21.3124 - val_family_loss: 4.4298 - val_genus_loss: 6.9140 - val_category_id_loss: 9.9686 - val_family_accuracy: 0.1002 - val_genus_accuracy: 0.0087 - val_category_id_accuracy: 0.0017\n",
            "Epoch 2/10\n",
            "1250/1250 [==============================] - 634s 504ms/step - loss: 20.1352 - family_loss: 4.2338 - genus_loss: 6.6298 - category_id_loss: 9.2716 - family_accuracy: 0.1110 - genus_accuracy: 0.0232 - category_id_accuracy: 0.0022 - val_loss: 20.9285 - val_family_loss: 4.2484 - val_genus_loss: 6.7072 - val_category_id_loss: 9.9729 - val_family_accuracy: 0.1021 - val_genus_accuracy: 0.0193 - val_category_id_accuracy: 0.0015\n",
            "Epoch 3/10\n",
            "1250/1250 [==============================] - 608s 485ms/step - loss: 19.7095 - family_loss: 4.1592 - genus_loss: 6.4921 - category_id_loss: 9.0582 - family_accuracy: 0.1166 - genus_accuracy: 0.0266 - category_id_accuracy: 0.0025 - val_loss: 22.2776 - val_family_loss: 4.5497 - val_genus_loss: 7.1402 - val_category_id_loss: 10.5877 - val_family_accuracy: 0.0626 - val_genus_accuracy: 0.0101 - val_category_id_accuracy: 6.0096e-04\n",
            "Epoch 4/10\n",
            "1250/1250 [==============================] - 601s 479ms/step - loss: 19.4221 - family_loss: 4.1189 - genus_loss: 6.4032 - category_id_loss: 8.9000 - family_accuracy: 0.1226 - genus_accuracy: 0.0304 - category_id_accuracy: 0.0028 - val_loss: 20.7416 - val_family_loss: 4.2172 - val_genus_loss: 6.6195 - val_category_id_loss: 9.9050 - val_family_accuracy: 0.1016 - val_genus_accuracy: 0.0219 - val_category_id_accuracy: 0.0023\n",
            "Epoch 5/10\n",
            "1250/1250 [==============================] - 593s 472ms/step - loss: 19.0897 - family_loss: 4.0474 - genus_loss: 6.2898 - category_id_loss: 8.7524 - family_accuracy: 0.1403 - genus_accuracy: 0.0355 - category_id_accuracy: 0.0037 - val_loss: 22.2273 - val_family_loss: 4.5525 - val_genus_loss: 7.1437 - val_category_id_loss: 10.5311 - val_family_accuracy: 0.1119 - val_genus_accuracy: 0.0139 - val_category_id_accuracy: 9.0144e-04\n",
            "Epoch 6/10\n",
            "1250/1250 [==============================] - 600s 478ms/step - loss: 18.6952 - family_loss: 3.9773 - genus_loss: 6.1548 - category_id_loss: 8.5631 - family_accuracy: 0.1525 - genus_accuracy: 0.0396 - category_id_accuracy: 0.0047 - val_loss: 21.8154 - val_family_loss: 4.4316 - val_genus_loss: 6.9486 - val_category_id_loss: 10.4352 - val_family_accuracy: 0.1389 - val_genus_accuracy: 0.0188 - val_category_id_accuracy: 0.0015\n",
            "Epoch 7/10\n",
            "1250/1250 [==============================] - 610s 486ms/step - loss: 18.4278 - family_loss: 3.9508 - genus_loss: 6.0748 - category_id_loss: 8.4022 - family_accuracy: 0.1550 - genus_accuracy: 0.0417 - category_id_accuracy: 0.0054 - val_loss: 21.6127 - val_family_loss: 4.3579 - val_genus_loss: 6.8449 - val_category_id_loss: 10.4099 - val_family_accuracy: 0.1401 - val_genus_accuracy: 0.0238 - val_category_id_accuracy: 0.0017\n",
            "Epoch 8/10\n",
            "1250/1250 [==============================] - 612s 487ms/step - loss: 18.2365 - family_loss: 3.9317 - genus_loss: 6.0268 - category_id_loss: 8.2781 - family_accuracy: 0.1552 - genus_accuracy: 0.0421 - category_id_accuracy: 0.0061 - val_loss: 19.8720 - val_family_loss: 3.9723 - val_genus_loss: 6.2457 - val_category_id_loss: 9.6540 - val_family_accuracy: 0.1503 - val_genus_accuracy: 0.0414 - val_category_id_accuracy: 0.0043\n",
            "Epoch 9/10\n",
            "1250/1250 [==============================] - 606s 483ms/step - loss: 18.0758 - family_loss: 3.9206 - genus_loss: 5.9888 - category_id_loss: 8.1664 - family_accuracy: 0.1560 - genus_accuracy: 0.0428 - category_id_accuracy: 0.0066 - val_loss: 21.8843 - val_family_loss: 4.4135 - val_genus_loss: 6.9385 - val_category_id_loss: 10.5323 - val_family_accuracy: 0.1393 - val_genus_accuracy: 0.0220 - val_category_id_accuracy: 0.0033\n",
            "Epoch 10/10\n",
            "1250/1250 [==============================] - 606s 483ms/step - loss: 17.9062 - family_loss: 3.9070 - genus_loss: 5.9398 - category_id_loss: 8.0594 - family_accuracy: 0.1582 - genus_accuracy: 0.0446 - category_id_accuracy: 0.0066 - val_loss: 21.0532 - val_family_loss: 4.1384 - val_genus_loss: 6.6157 - val_category_id_loss: 10.2991 - val_family_accuracy: 0.1478 - val_genus_accuracy: 0.0251 - val_category_id_accuracy: 0.0026\n"
          ]
        }
      ]
    },
    {
      "cell_type": "markdown",
      "metadata": {
        "id": "dJYA1Xe8WnCv"
      },
      "source": [
        "# 새 섹션"
      ]
    },
    {
      "cell_type": "code",
      "metadata": {
        "id": "f2dniMLsRoyQ"
      },
      "source": [
        "model.save('/gdrive/MyDrive/dacon/Herbarium/herbarium-2020-fgvc7/nybg2020/fg_model.h5')\n",
        "model.save('fg_model.h5')"
      ],
      "execution_count": null,
      "outputs": []
    },
    {
      "cell_type": "code",
      "metadata": {
        "colab": {
          "base_uri": "https://localhost:8080/",
          "height": 136
        },
        "id": "NEO350xZn5jA",
        "outputId": "16d5bd7b-9fd5-464b-e4bb-d7c5c573e87f"
      },
      "source": [
        ""
      ],
      "execution_count": null,
      "outputs": [
        {
          "output_type": "error",
          "ename": "SyntaxError",
          "evalue": "ignored",
          "traceback": [
            "\u001b[0;36m  File \u001b[0;32m\"<ipython-input-10-4e03f794e53f>\"\u001b[0;36m, line \u001b[0;32m1\u001b[0m\n\u001b[0;31m    model =\u001b[0m\n\u001b[0m            ^\u001b[0m\n\u001b[0;31mSyntaxError\u001b[0m\u001b[0;31m:\u001b[0m invalid syntax\n"
          ]
        }
      ]
    },
    {
      "cell_type": "markdown",
      "metadata": {
        "id": "aUduj3Imn6ww"
      },
      "source": [
        "# 새 섹션"
      ]
    },
    {
      "cell_type": "code",
      "metadata": {
        "id": "pfZY2Jqin5hU"
      },
      "source": [
        ""
      ],
      "execution_count": null,
      "outputs": []
    },
    {
      "cell_type": "code",
      "metadata": {
        "colab": {
          "base_uri": "https://localhost:8080/"
        },
        "id": "jhgOSJOIQU5X",
        "outputId": "05695896-29e5-45e4-a5fe-c518fc99fcc7"
      },
      "source": [
        "from tensorflow import keras\n",
        "import tensorflow as tf\n",
        "# model =  tf.saved_model.load('/gdrive/MyDrive/dacon/Herbarium/herbarium-2020-fgvc7/nybg2020/fg_model.h5',custom_objects=None, compile=True, options=None)\n",
        "# model =  tf.keras.models.load_model('/gdrive/MyDrive/dacon/Herbarium/herbarium-2020-fgvc7/nybg2020/fg_model.h5',custom_objects=None, compile=True, options=None)\n",
        "shape = (120, 120, 3)\n",
        "epochs = 10\n",
        "batch_size = 32\n",
        "\n",
        "# model =  tf.keras.models.load_model('/gdrive/MyDrive/dacon/Herbarium/herbarium-2020-fgvc7/nybg2020/fg_model.h5')"
      ],
      "execution_count": null,
      "outputs": [
        {
          "output_type": "stream",
          "name": "stderr",
          "text": [
            "/usr/local/lib/python3.7/dist-packages/keras/optimizer_v2/optimizer_v2.py:356: UserWarning: The `lr` argument is deprecated, use `learning_rate` instead.\n",
            "  \"The `lr` argument is deprecated, use `learning_rate` instead.\")\n"
          ]
        }
      ]
    },
    {
      "cell_type": "code",
      "metadata": {
        "id": "6HD1OEJm6iwy",
        "colab": {
          "base_uri": "https://localhost:8080/"
        },
        "outputId": "0a3b2fdd-8c8e-4ac7-cda4-c2e6f7d4c57b"
      },
      "source": [
        "#Reshuffle the inputs\n",
        "train, verif = tts(m, test_size=0.2, shuffle=True, random_state=17)\n",
        "train = train[:40000]\n",
        "verif = verif[:10000]\n",
        "\n",
        "#Make the Genus layer Trainable\n",
        "for layers in model.layers:\n",
        "    if layers.name == 'genus':\n",
        "        layers.trainable = True\n",
        "\n",
        "model_checkpoint_callback1 = ModelCheckpoint(\n",
        "    filepath='/gdrive/MyDrive/dacon/Herbarium/herbarium-2020-fgvc7/nybg2020/fg_model1.h5',\n",
        "    save_weights_only=True,\n",
        "    monitor='val_loss',\n",
        "    mode='min',\n",
        "    save_best_only=True)\n",
        "\n",
        "\n",
        "\n",
        "#Train Family and Genus for 2 epochs\n",
        "model.fit_generator(train_datagen.flow_from_dataframe(dataframe=train,\n",
        "                                                      directory='/gdrive/MyDrive/dacon/Herbarium/herbarium-2020-fgvc7/nybg2020/train/',\n",
        "                                                      x_col=\"file_name\",\n",
        "                                                      y_col=[\"family\", \"genus\", \"category_id\"],\n",
        "                                                      target_size=(120, 120),\n",
        "                                                      batch_size=batch_size,\n",
        "                                                      class_mode='multi_output'),\n",
        "                    validation_data=train_datagen.flow_from_dataframe(\n",
        "                        dataframe=verif,\n",
        "                        directory='/gdrive/MyDrive/dacon/Herbarium/herbarium-2020-fgvc7/nybg2020/train/',\n",
        "                        x_col=\"file_name\",\n",
        "                        y_col=[\"family\", \"genus\", \"category_id\"],\n",
        "                        target_size=(120, 120),\n",
        "                        batch_size=batch_size,\n",
        "                        class_mode='multi_output'),\n",
        "                    epochs=epochs,\n",
        "                    steps_per_epoch=len(train)//batch_size,\n",
        "                    validation_steps=len(verif)//batch_size,\n",
        "                    verbose=1,\n",
        "                    workers = 8,\n",
        "                    callbacks=[model_checkpoint_callback1]\n",
        "                    )\n",
        "model.save('/gdrive/MyDrive/dacon/Herbarium/herbarium-2020-fgvc7/nybg2020/fg_model1.h5')\n",
        "model.save('fg_model1.h5')\n"
      ],
      "execution_count": null,
      "outputs": [
        {
          "metadata": {
            "tags": null
          },
          "name": "stdout",
          "output_type": "stream",
          "text": [
            "Found 40000 validated image filenames.\n",
            "Found 10000 validated image filenames.\n"
          ]
        },
        {
          "metadata": {
            "tags": null
          },
          "name": "stderr",
          "output_type": "stream",
          "text": [
            "/usr/local/lib/python3.7/dist-packages/keras/engine/training.py:1972: UserWarning: `Model.fit_generator` is deprecated and will be removed in a future version. Please use `Model.fit`, which supports generators.\n",
            "  warnings.warn('`Model.fit_generator` is deprecated and '\n"
          ]
        },
        {
          "output_type": "stream",
          "name": "stdout",
          "text": [
            "Epoch 1/10\n",
            "1250/1250 [==============================] - 1841s 1s/step - loss: 21.6289 - family_loss: 4.5390 - genus_loss: 7.0891 - category_id_loss: 10.0008 - family_accuracy: 0.0996 - genus_accuracy: 0.0148 - category_id_accuracy: 0.0012 - val_loss: 21.0930 - val_family_loss: 4.3875 - val_genus_loss: 6.8843 - val_category_id_loss: 9.8212 - val_family_accuracy: 0.1147 - val_genus_accuracy: 0.0149 - val_category_id_accuracy: 2.0032e-04\n",
            "Epoch 2/10\n",
            "1250/1250 [==============================] - 649s 517ms/step - loss: 20.2448 - family_loss: 4.2339 - genus_loss: 6.6716 - category_id_loss: 9.3394 - family_accuracy: 0.1276 - genus_accuracy: 0.0239 - category_id_accuracy: 0.0018 - val_loss: 20.8651 - val_family_loss: 4.2363 - val_genus_loss: 6.7164 - val_category_id_loss: 9.9123 - val_family_accuracy: 0.1327 - val_genus_accuracy: 0.0264 - val_category_id_accuracy: 0.0027\n",
            "Epoch 3/10\n",
            "1250/1250 [==============================] - 643s 512ms/step - loss: 19.8315 - family_loss: 4.1540 - genus_loss: 6.5346 - category_id_loss: 9.1429 - family_accuracy: 0.1336 - genus_accuracy: 0.0287 - category_id_accuracy: 0.0021 - val_loss: 20.7088 - val_family_loss: 4.1766 - val_genus_loss: 6.6219 - val_category_id_loss: 9.9104 - val_family_accuracy: 0.1402 - val_genus_accuracy: 0.0287 - val_category_id_accuracy: 0.0028\n",
            "Epoch 4/10\n",
            "1250/1250 [==============================] - 657s 523ms/step - loss: 19.5760 - family_loss: 4.1178 - genus_loss: 6.4565 - category_id_loss: 9.0018 - family_accuracy: 0.1399 - genus_accuracy: 0.0302 - category_id_accuracy: 0.0030 - val_loss: 20.9802 - val_family_loss: 4.2287 - val_genus_loss: 6.6968 - val_category_id_loss: 10.0547 - val_family_accuracy: 0.1378 - val_genus_accuracy: 0.0228 - val_category_id_accuracy: 0.0029\n",
            "Epoch 5/10\n",
            "1250/1250 [==============================] - 639s 509ms/step - loss: 19.3760 - family_loss: 4.0951 - genus_loss: 6.3981 - category_id_loss: 8.8827 - family_accuracy: 0.1420 - genus_accuracy: 0.0312 - category_id_accuracy: 0.0030 - val_loss: 21.2989 - val_family_loss: 4.3554 - val_genus_loss: 6.8342 - val_category_id_loss: 10.1093 - val_family_accuracy: 0.1305 - val_genus_accuracy: 0.0212 - val_category_id_accuracy: 0.0026\n",
            "Epoch 6/10\n",
            "1250/1250 [==============================] - 643s 512ms/step - loss: 19.2003 - family_loss: 4.0705 - genus_loss: 6.3457 - category_id_loss: 8.7840 - family_accuracy: 0.1453 - genus_accuracy: 0.0329 - category_id_accuracy: 0.0036 - val_loss: 21.0525 - val_family_loss: 4.2922 - val_genus_loss: 6.7170 - val_category_id_loss: 10.0433 - val_family_accuracy: 0.1285 - val_genus_accuracy: 0.0238 - val_category_id_accuracy: 0.0030\n",
            "Epoch 7/10\n",
            "1250/1250 [==============================] - 643s 512ms/step - loss: 19.0794 - family_loss: 4.0589 - genus_loss: 6.3113 - category_id_loss: 8.7092 - family_accuracy: 0.1448 - genus_accuracy: 0.0335 - category_id_accuracy: 0.0035 - val_loss: 21.4458 - val_family_loss: 4.4295 - val_genus_loss: 6.8361 - val_category_id_loss: 10.1803 - val_family_accuracy: 0.1139 - val_genus_accuracy: 0.0230 - val_category_id_accuracy: 0.0028\n",
            "Epoch 8/10\n",
            "1250/1250 [==============================] - 642s 512ms/step - loss: 18.9419 - family_loss: 4.0401 - genus_loss: 6.2729 - category_id_loss: 8.6289 - family_accuracy: 0.1477 - genus_accuracy: 0.0345 - category_id_accuracy: 0.0037 - val_loss: 24.1582 - val_family_loss: 5.1869 - val_genus_loss: 7.8649 - val_category_id_loss: 11.1065 - val_family_accuracy: 0.0653 - val_genus_accuracy: 0.0179 - val_category_id_accuracy: 0.0021\n",
            "Epoch 9/10\n",
            "1250/1250 [==============================] - 642s 512ms/step - loss: 18.8327 - family_loss: 4.0306 - genus_loss: 6.2426 - category_id_loss: 8.5594 - family_accuracy: 0.1472 - genus_accuracy: 0.0351 - category_id_accuracy: 0.0039 - val_loss: 22.2252 - val_family_loss: 4.5996 - val_genus_loss: 7.0997 - val_category_id_loss: 10.5259 - val_family_accuracy: 0.1060 - val_genus_accuracy: 0.0213 - val_category_id_accuracy: 0.0030\n",
            "Epoch 10/10\n",
            "1250/1250 [==============================] - 642s 512ms/step - loss: 18.7317 - family_loss: 4.0162 - genus_loss: 6.2117 - category_id_loss: 8.5038 - family_accuracy: 0.1505 - genus_accuracy: 0.0355 - category_id_accuracy: 0.0044 - val_loss: 23.0316 - val_family_loss: 4.8802 - val_genus_loss: 7.4199 - val_category_id_loss: 10.7315 - val_family_accuracy: 0.0866 - val_genus_accuracy: 0.0200 - val_category_id_accuracy: 0.0011\n"
          ]
        }
      ]
    },
    {
      "cell_type": "code",
      "metadata": {
        "id": "xTaslmjZGI6D"
      },
      "source": [
        ""
      ],
      "execution_count": null,
      "outputs": []
    },
    {
      "cell_type": "code",
      "metadata": {
        "colab": {
          "base_uri": "https://localhost:8080/"
        },
        "id": "H1E6hLoLGFL0",
        "outputId": "07ae8a32-4f84-410d-ece4-f91a0795587a"
      },
      "source": [
        "from tensorflow import keras\n",
        "import tensorflow as tf\n",
        "# model =  tf.saved_model.load('/gdrive/MyDrive/dacon/Herbarium/herbarium-2020-fgvc7/nybg2020/fg_model1.h5')\n",
        "# model =  tf.keras.models.load_model('/gdrive/MyDrive/dacon/Herbarium/herbarium-2020-fgvc7/nybg2020/fg_model.h5',custom_objects=None, compile=True, options=None)\n",
        "shape = (120, 120, 3)\n",
        "epochs = 10\n",
        "batch_size = 32\n",
        "model = fg_model(shape, 0.007)\n",
        "model.load_weights('/gdrive/MyDrive/dacon/Herbarium/herbarium-2020-fgvc7/nybg2020/fg_model1.h5')\n",
        "# model =  tf.keras.models.load_model('/gdrive/MyDrive/dacon/Herbarium/herbarium-2020-fgvc7/nybg2020/fg_model1.h5')"
      ],
      "execution_count": null,
      "outputs": [
        {
          "output_type": "stream",
          "name": "stderr",
          "text": [
            "/usr/local/lib/python3.7/dist-packages/keras/optimizer_v2/optimizer_v2.py:356: UserWarning: The `lr` argument is deprecated, use `learning_rate` instead.\n",
            "  \"The `lr` argument is deprecated, use `learning_rate` instead.\")\n"
          ]
        }
      ]
    },
    {
      "cell_type": "code",
      "metadata": {
        "id": "MVhB9Slq6kmj",
        "colab": {
          "base_uri": "https://localhost:8080/"
        },
        "outputId": "f7e7a380-0d9e-453a-d7d6-48c5c47f9cb6"
      },
      "source": [
        "#Reshuffle the inputs\n",
        "train, verif = tts(m, test_size=0.2, shuffle=True, random_state=17)\n",
        "train = train[:40000]\n",
        "verif = verif[:10000]\n",
        "model_checkpoint_callback2 = ModelCheckpoint(\n",
        "    filepath='/gdrive/MyDrive/dacon/Herbarium/herbarium-2020-fgvc7/nybg2020/fg_model2.h5',\n",
        "    save_weights_only=True,\n",
        "    monitor='val_loss',\n",
        "    mode='min',\n",
        "    save_best_only=True)\n",
        "#Make the category_id layer Trainable\n",
        "for layers in model.layers:\n",
        "    if layers.name == 'category_id':\n",
        "        layers.trainable = True\n",
        "        \n",
        "#Train them all for 2 epochs\n",
        "model.fit_generator(train_datagen.flow_from_dataframe(dataframe=train,\n",
        "                                                      directory='/gdrive/MyDrive/dacon/Herbarium/herbarium-2020-fgvc7/nybg2020/train',\n",
        "                                                      x_col=\"file_name\",\n",
        "                                                      y_col=[\"family\", \"genus\", \"category_id\"],\n",
        "                                                      target_size=(120, 120),\n",
        "                                                      batch_size=batch_size,\n",
        "                                                      class_mode='multi_output'),\n",
        "                    validation_data=train_datagen.flow_from_dataframe(\n",
        "                        dataframe=verif,\n",
        "                        directory='/gdrive/MyDrive/dacon/Herbarium/herbarium-2020-fgvc7/nybg2020/train',\n",
        "                        x_col=\"file_name\",\n",
        "                        y_col=[\"family\", \"genus\", \"category_id\"],\n",
        "                        target_size=(120, 120),\n",
        "                        batch_size=batch_size,\n",
        "                        class_mode='multi_output'),\n",
        "                    epochs=epochs,\n",
        "                    steps_per_epoch=len(train)//batch_size,\n",
        "                    validation_steps=len(verif)//batch_size,\n",
        "                    verbose=1,\n",
        "                    workers = 8,\n",
        "                    callbacks=[model_checkpoint_callback2]\n",
        "                    )\n",
        "model.save('/gdrive/MyDrive/dacon/Herbarium/herbarium-2020-fgvc7/nybg2020/fg_model2.h5')\n",
        "model.save('fg_model2.h5')"
      ],
      "execution_count": null,
      "outputs": [
        {
          "metadata": {
            "tags": null
          },
          "name": "stdout",
          "output_type": "stream",
          "text": [
            "Found 40000 validated image filenames.\n",
            "Found 10000 validated image filenames.\n"
          ]
        },
        {
          "metadata": {
            "tags": null
          },
          "name": "stderr",
          "output_type": "stream",
          "text": [
            "/usr/local/lib/python3.7/dist-packages/keras/engine/training.py:1972: UserWarning: `Model.fit_generator` is deprecated and will be removed in a future version. Please use `Model.fit`, which supports generators.\n",
            "  warnings.warn('`Model.fit_generator` is deprecated and '\n"
          ]
        },
        {
          "output_type": "stream",
          "name": "stdout",
          "text": [
            "Epoch 1/10\n",
            "1250/1250 [==============================] - 3199s 3s/step - loss: 19.6661 - family_loss: 4.0839 - genus_loss: 6.4202 - category_id_loss: 9.1620 - family_accuracy: 0.1404 - genus_accuracy: 0.0350 - category_id_accuracy: 0.0039 - val_loss: 26.0636 - val_family_loss: 6.2895 - val_genus_loss: 8.4909 - val_category_id_loss: 11.2831 - val_family_accuracy: 0.0722 - val_genus_accuracy: 0.0145 - val_category_id_accuracy: 0.0015\n",
            "Epoch 2/10\n",
            "1250/1250 [==============================] - 258s 206ms/step - loss: 19.1721 - family_loss: 4.0950 - genus_loss: 6.3157 - category_id_loss: 8.7614 - family_accuracy: 0.1398 - genus_accuracy: 0.0351 - category_id_accuracy: 0.0044 - val_loss: 22.9853 - val_family_loss: 4.8423 - val_genus_loss: 7.3522 - val_category_id_loss: 10.7907 - val_family_accuracy: 0.0758 - val_genus_accuracy: 0.0204 - val_category_id_accuracy: 0.0027\n",
            "Epoch 3/10\n",
            "1250/1250 [==============================] - 259s 206ms/step - loss: 18.9186 - family_loss: 4.0800 - genus_loss: 6.2492 - category_id_loss: 8.5894 - family_accuracy: 0.1402 - genus_accuracy: 0.0361 - category_id_accuracy: 0.0048 - val_loss: 23.1072 - val_family_loss: 4.8618 - val_genus_loss: 7.3992 - val_category_id_loss: 10.8463 - val_family_accuracy: 0.1036 - val_genus_accuracy: 0.0213 - val_category_id_accuracy: 0.0014\n",
            "Epoch 4/10\n",
            "1250/1250 [==============================] - 258s 205ms/step - loss: 18.7232 - family_loss: 4.0692 - genus_loss: 6.1905 - category_id_loss: 8.4635 - family_accuracy: 0.1406 - genus_accuracy: 0.0362 - category_id_accuracy: 0.0054 - val_loss: 23.1388 - val_family_loss: 4.8629 - val_genus_loss: 7.3868 - val_category_id_loss: 10.8891 - val_family_accuracy: 0.0782 - val_genus_accuracy: 0.0213 - val_category_id_accuracy: 0.0029\n",
            "Epoch 5/10\n",
            "1250/1250 [==============================] - 259s 207ms/step - loss: 18.6227 - family_loss: 4.0621 - genus_loss: 6.1703 - category_id_loss: 8.3902 - family_accuracy: 0.1439 - genus_accuracy: 0.0372 - category_id_accuracy: 0.0052 - val_loss: 23.8923 - val_family_loss: 5.3244 - val_genus_loss: 7.6603 - val_category_id_loss: 10.9076 - val_family_accuracy: 0.0984 - val_genus_accuracy: 0.0216 - val_category_id_accuracy: 0.0016\n",
            "Epoch 6/10\n",
            "1250/1250 [==============================] - 260s 207ms/step - loss: 18.5150 - family_loss: 4.0503 - genus_loss: 6.1385 - category_id_loss: 8.3262 - family_accuracy: 0.1430 - genus_accuracy: 0.0376 - category_id_accuracy: 0.0052 - val_loss: 22.0708 - val_family_loss: 4.4759 - val_genus_loss: 6.9691 - val_category_id_loss: 10.6259 - val_family_accuracy: 0.1204 - val_genus_accuracy: 0.0227 - val_category_id_accuracy: 0.0027\n",
            "Epoch 7/10\n",
            "1250/1250 [==============================] - 260s 206ms/step - loss: 18.4155 - family_loss: 4.0419 - genus_loss: 6.1144 - category_id_loss: 8.2592 - family_accuracy: 0.1467 - genus_accuracy: 0.0378 - category_id_accuracy: 0.0048 - val_loss: 22.5894 - val_family_loss: 4.5930 - val_genus_loss: 7.1568 - val_category_id_loss: 10.8397 - val_family_accuracy: 0.1174 - val_genus_accuracy: 0.0232 - val_category_id_accuracy: 0.0029\n",
            "Epoch 8/10\n",
            "1250/1250 [==============================] - 259s 206ms/step - loss: 18.3703 - family_loss: 4.0425 - genus_loss: 6.1059 - category_id_loss: 8.2219 - family_accuracy: 0.1475 - genus_accuracy: 0.0378 - category_id_accuracy: 0.0060 - val_loss: 23.3741 - val_family_loss: 4.8288 - val_genus_loss: 7.4739 - val_category_id_loss: 11.0713 - val_family_accuracy: 0.0985 - val_genus_accuracy: 0.0206 - val_category_id_accuracy: 0.0023\n",
            "Epoch 9/10\n",
            "1250/1250 [==============================] - 259s 206ms/step - loss: 18.2858 - family_loss: 4.0336 - genus_loss: 6.0829 - category_id_loss: 8.1692 - family_accuracy: 0.1473 - genus_accuracy: 0.0384 - category_id_accuracy: 0.0058 - val_loss: 22.6700 - val_family_loss: 4.6221 - val_genus_loss: 7.1748 - val_category_id_loss: 10.8731 - val_family_accuracy: 0.0838 - val_genus_accuracy: 0.0176 - val_category_id_accuracy: 0.0022\n",
            "Epoch 10/10\n",
            "1250/1250 [==============================] - 259s 207ms/step - loss: 18.2612 - family_loss: 4.0364 - genus_loss: 6.0828 - category_id_loss: 8.1420 - family_accuracy: 0.1469 - genus_accuracy: 0.0361 - category_id_accuracy: 0.0057 - val_loss: 23.4399 - val_family_loss: 4.8666 - val_genus_loss: 7.4988 - val_category_id_loss: 11.0745 - val_family_accuracy: 0.1148 - val_genus_accuracy: 0.0189 - val_category_id_accuracy: 0.0015\n"
          ]
        }
      ]
    },
    {
      "cell_type": "code",
      "metadata": {
        "id": "XExm3_VRf4Ts"
      },
      "source": [
        "# function ClickConnect(){\n",
        "#     console.log(\"코랩 연결 끊김 방지\");\n",
        "#     document.querySelector(\"colab-toolbar-button#connect\").click()\n",
        "# }\n",
        "# setInterval(ClickConnect, 60 * 1000)"
      ],
      "execution_count": null,
      "outputs": []
    },
    {
      "cell_type": "code",
      "metadata": {
        "colab": {
          "base_uri": "https://localhost:8080/"
        },
        "id": "EDPx9fPLThZM",
        "outputId": "3e9507fb-f51c-469c-8c9f-815ce9ba94c4"
      },
      "source": [
        "from tensorflow import keras\n",
        "import tensorflow as tf\n",
        "# model =  tf.saved_model.load('/gdrive/MyDrive/dacon/Herbarium/herbarium-2020-fgvc7/nybg2020/fg_model1.h5')\n",
        "# model =  tf.keras.models.load_model('/gdrive/MyDrive/dacon/Herbarium/herbarium-2020-fgvc7/nybg2020/fg_model.h5',custom_objects=None, compile=True, options=None)\n",
        "shape = (120, 120, 3)\n",
        "epochs = 10\n",
        "batch_size = 32\n",
        "model = fg_model(shape, 0.007)\n",
        "model.load_weights('/gdrive/MyDrive/dacon/Herbarium/herbarium-2020-fgvc7/nybg2020/fg_model2.h5')\n",
        "# model =  tf.keras.models.load_model('/gdrive/MyDrive/dacon/Herbarium/herbarium-2020-fgvc7/nybg2020/fg_model1.h5')"
      ],
      "execution_count": null,
      "outputs": [
        {
          "output_type": "stream",
          "name": "stderr",
          "text": [
            "/usr/local/lib/python3.7/dist-packages/keras/optimizer_v2/optimizer_v2.py:356: UserWarning: The `lr` argument is deprecated, use `learning_rate` instead.\n",
            "  \"The `lr` argument is deprecated, use `learning_rate` instead.\")\n"
          ]
        }
      ]
    },
    {
      "cell_type": "code",
      "metadata": {
        "id": "Hgzj-6qx1fZT"
      },
      "source": [
        ""
      ],
      "execution_count": null,
      "outputs": []
    },
    {
      "cell_type": "code",
      "metadata": {
        "id": "0Qz3rgzh6TkP"
      },
      "source": [
        ""
      ],
      "execution_count": null,
      "outputs": []
    },
    {
      "cell_type": "code",
      "metadata": {
        "id": "X4cSOkdgtKMe",
        "colab": {
          "base_uri": "https://localhost:8080/"
        },
        "outputId": "5cfc08ae-a86a-4c96-da44-2ed887f0a186"
      },
      "source": [
        "batch_size = 32\n",
        "test_datagen = ImageDataGenerator(featurewise_center=False,\n",
        "                                  featurewise_std_normalization=False)\n",
        "\n",
        "test_generator = test_datagen.flow_from_dataframe(\n",
        "        dataframe = test_df, #Limiting the test to the first 10,000 \n",
        "        # /gdrive/MyDrive/dacon/Herbarium/herbarium-2020-fgvc7/nybg2020/test\n",
        "        directory = '/gdrive/MyDrive/dacon/Herbarium/herbarium-2020-fgvc7/nybg2020/test/',\n",
        "        x_col = 'file_name',\n",
        "        target_size=(120, 120),\n",
        "        batch_size=batch_size,\n",
        "        class_mode=None,  # only data, no labels\n",
        "        shuffle=False)\n",
        "print(test_generator)\n",
        "family, genus, category = model.predict_generator(test_generator, verbose=1)"
      ],
      "execution_count": null,
      "outputs": [
        {
          "output_type": "stream",
          "name": "stdout",
          "text": [
            "Found 138292 validated image filenames.\n",
            "<keras.preprocessing.image.DataFrameIterator object at 0x7f01fec07850>\n"
          ]
        },
        {
          "output_type": "stream",
          "name": "stderr",
          "text": [
            "/usr/local/lib/python3.7/dist-packages/keras/engine/training.py:2035: UserWarning: `Model.predict_generator` is deprecated and will be removed in a future version. Please use `Model.predict`, which supports generators.\n",
            "  warnings.warn('`Model.predict_generator` is deprecated and '\n"
          ]
        },
        {
          "output_type": "stream",
          "name": "stdout",
          "text": [
            " 713/4322 [===>..........................] - ETA: 21:00:04"
          ]
        }
      ]
    },
    {
      "cell_type": "code",
      "metadata": {
        "id": "N0XJjnXUwTCj"
      },
      "source": [
        "sub = pd.DataFrame()\n",
        "sub['Id'] = test_df.image_id\n",
        "sub['Id'] = sub['Id'].astype('int32')\n",
        "sub['Predicted'] = np.concatenate([np.argmax(category, axis=1), 23718*np.ones((len(test_df.image_id)-len(category)))], axis=0)\n",
        "sub['Predicted'] = sub['Predicted'].astype('int32')\n",
        "display(sub)\n",
        "sub.to_csv('category_submission.csv', index=False)"
      ],
      "execution_count": null,
      "outputs": []
    },
    {
      "cell_type": "code",
      "metadata": {
        "id": "CAoAwk4DxF_s"
      },
      "source": [
        "sub['Predicted'] = np.concatenate([np.argmax(genus, axis=1), np.zeros((len(test_df.image_id)-len(genus)))], axis=0)\n",
        "sub['Predicted'] = sub['Predicted'].astype('int32')\n",
        "display(sub)\n",
        "sub.to_csv('genus_submission.csv', index=False)"
      ],
      "execution_count": null,
      "outputs": []
    }
  ]
}