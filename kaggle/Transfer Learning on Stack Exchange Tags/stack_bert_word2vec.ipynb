{
  "nbformat": 4,
  "nbformat_minor": 0,
  "metadata": {
    "colab": {
      "name": "stack_bert_word2vec.ipynb의 사본",
      "provenance": [],
      "collapsed_sections": [],
      "machine_shape": "hm"
    },
    "kernelspec": {
      "name": "python3",
      "display_name": "Python 3"
    },
    "language_info": {
      "name": "python"
    },
    "accelerator": "GPU"
  },
  "cells": [
    {
      "cell_type": "code",
      "metadata": {
        "colab": {
          "base_uri": "https://localhost:8080/"
        },
        "id": "7NFJp_HcsF9L",
        "outputId": "b2bc135a-0ca7-4b4b-8810-fe91a72fb4c0"
      },
      "source": [
        "gpu_info = !nvidia-smi\n",
        "gpu_info = '\\n'.join(gpu_info)\n",
        "if gpu_info.find('failed') >= 0:\n",
        "  print('Not connected to a GPU')\n",
        "else:\n",
        "  print(gpu_info)"
      ],
      "execution_count": null,
      "outputs": [
        {
          "output_type": "stream",
          "name": "stdout",
          "text": [
            "Mon Nov  8 05:59:40 2021       \n",
            "+-----------------------------------------------------------------------------+\n",
            "| NVIDIA-SMI 495.44       Driver Version: 460.32.03    CUDA Version: 11.2     |\n",
            "|-------------------------------+----------------------+----------------------+\n",
            "| GPU  Name        Persistence-M| Bus-Id        Disp.A | Volatile Uncorr. ECC |\n",
            "| Fan  Temp  Perf  Pwr:Usage/Cap|         Memory-Usage | GPU-Util  Compute M. |\n",
            "|                               |                      |               MIG M. |\n",
            "|===============================+======================+======================|\n",
            "|   0  Tesla P100-PCIE...  Off  | 00000000:00:04.0 Off |                    0 |\n",
            "| N/A   46C    P0    28W / 250W |      0MiB / 16280MiB |      0%      Default |\n",
            "|                               |                      |                  N/A |\n",
            "+-------------------------------+----------------------+----------------------+\n",
            "                                                                               \n",
            "+-----------------------------------------------------------------------------+\n",
            "| Processes:                                                                  |\n",
            "|  GPU   GI   CI        PID   Type   Process name                  GPU Memory |\n",
            "|        ID   ID                                                   Usage      |\n",
            "|=============================================================================|\n",
            "|  No running processes found                                                 |\n",
            "+-----------------------------------------------------------------------------+\n"
          ]
        }
      ]
    },
    {
      "cell_type": "code",
      "metadata": {
        "colab": {
          "base_uri": "https://localhost:8080/"
        },
        "id": "zx1sba3OsLIH",
        "outputId": "33ccf738-c1aa-4614-aed9-118addc48d1f"
      },
      "source": [
        "from psutil import virtual_memory\n",
        "ram_gb = virtual_memory().total / 1e9\n",
        "print('Your runtime has {:.1f} gigabytes of available RAM\\n'.format(ram_gb))\n",
        "\n",
        "if ram_gb < 20:\n",
        "  print('Not using a high-RAM runtime')\n",
        "else:\n",
        "  print('You are using a high-RAM runtime!')"
      ],
      "execution_count": null,
      "outputs": [
        {
          "output_type": "stream",
          "name": "stdout",
          "text": [
            "Your runtime has 27.3 gigabytes of available RAM\n",
            "\n",
            "You are using a high-RAM runtime!\n"
          ]
        }
      ]
    },
    {
      "cell_type": "code",
      "metadata": {
        "colab": {
          "base_uri": "https://localhost:8080/"
        },
        "id": "lsn9fWGWsLkc",
        "outputId": "05687abc-5c37-49fd-b002-f21d43c6cf1a"
      },
      "source": [
        "from google.colab import drive\n",
        "drive.mount('/gdrive')"
      ],
      "execution_count": null,
      "outputs": [
        {
          "output_type": "stream",
          "name": "stdout",
          "text": [
            "Mounted at /gdrive\n"
          ]
        }
      ]
    },
    {
      "cell_type": "code",
      "metadata": {
        "colab": {
          "base_uri": "https://localhost:8080/"
        },
        "id": "jYqzKdqtsNQ1",
        "outputId": "8a93e334-a7b8-43c9-f515-0065d051c84f"
      },
      "source": [
        "import pandas as pd\n",
        "import numpy as np\n",
        "from nltk.corpus import stopwords\n",
        "import nltk\n",
        "nltk.download('stopwords')\n",
        "nltk.download('punkt')\n",
        "import regex as re\n",
        "from nltk.tokenize import word_tokenize\n",
        "from itertools import chain\n",
        "# row 생략 없이 출력\n",
        "# pd.set_option('display.max_rows', None)\n",
        "# col 생략 없이 출력\n",
        "pd.set_option('display.max_columns', None)\n",
        "pile_path = '/gdrive/MyDrive/dacon/stack_bert/transfer-learning-on-stack-exchange-tags/data/'\n",
        "biology = pd.read_csv(pile_path+'biology.csv') #['id', 'title', 'content', 'tags']\n",
        "cooking = pd.read_csv(pile_path+'cooking.csv')\n",
        "crypto = pd.read_csv(pile_path+'crypto.csv')\n",
        "diy = pd.read_csv(pile_path+'diy.csv')\n",
        "robotics = pd.read_csv(pile_path+'robotics.csv')\n",
        "\n",
        "data = {'biology':biology, 'cooking':cooking, 'crypto':crypto, 'diy':diy, 'robotics':robotics}\n",
        "# print(data['biology'])\n",
        "\n",
        "stops = set(stopwords.words(\"english\"))"
      ],
      "execution_count": null,
      "outputs": [
        {
          "output_type": "stream",
          "name": "stdout",
          "text": [
            "[nltk_data] Downloading package stopwords to /root/nltk_data...\n",
            "[nltk_data]   Unzipping corpora/stopwords.zip.\n",
            "[nltk_data] Downloading package punkt to /root/nltk_data...\n",
            "[nltk_data]   Unzipping tokenizers/punkt.zip.\n"
          ]
        }
      ]
    },
    {
      "cell_type": "code",
      "metadata": {
        "colab": {
          "base_uri": "https://localhost:8080/"
        },
        "id": "ScJpBjHxV0PP",
        "outputId": "b8092f88-8f9d-438c-e44f-ceedc5aa19a5"
      },
      "source": [
        "print(crypto.columns)"
      ],
      "execution_count": null,
      "outputs": [
        {
          "output_type": "stream",
          "name": "stdout",
          "text": [
            "Index(['id', 'title', 'content', 'tags'], dtype='object')\n"
          ]
        }
      ]
    },
    {
      "cell_type": "code",
      "metadata": {
        "colab": {
          "base_uri": "https://localhost:8080/",
          "height": 370
        },
        "id": "k0lxZBDfsfNs",
        "outputId": "ec2f745e-ce74-4818-ac27-0df017e67e80"
      },
      "source": [
        "\n",
        "############\n",
        "all_data = biology.append(cooking)\n",
        "all_data = all_data.append(crypto)\n",
        "all_data = all_data.append(diy)\n",
        "all_data = all_data.append(robotics)\n",
        "all_data = all_data.reset_index()\n",
        "tag=[]\n",
        "for x in range(len(all_data)):\n",
        "    tag.append(all_data.tags[x].split(' '))\n",
        "tag = list(chain.from_iterable(tag))\n",
        "uni_tag= np.unique(tag)\n",
        "print('uni=',len(uni_tag))\n",
        "################"
      ],
      "execution_count": null,
      "outputs": [
        {
          "output_type": "error",
          "ename": "AttributeError",
          "evalue": "ignored",
          "traceback": [
            "\u001b[0;31m---------------------------------------------------------------------------\u001b[0m",
            "\u001b[0;31mAttributeError\u001b[0m                            Traceback (most recent call last)",
            "\u001b[0;32m<ipython-input-35-69f530144709>\u001b[0m in \u001b[0;36m<module>\u001b[0;34m()\u001b[0m\n\u001b[1;32m      8\u001b[0m \u001b[0mtopic\u001b[0m\u001b[0;34m=\u001b[0m\u001b[0;34m[\u001b[0m\u001b[0;34m]\u001b[0m\u001b[0;34m\u001b[0m\u001b[0;34m\u001b[0m\u001b[0m\n\u001b[1;32m      9\u001b[0m \u001b[0;32mfor\u001b[0m \u001b[0mx\u001b[0m \u001b[0;32min\u001b[0m \u001b[0mrange\u001b[0m\u001b[0;34m(\u001b[0m\u001b[0mlen\u001b[0m\u001b[0;34m(\u001b[0m\u001b[0mall_data\u001b[0m\u001b[0;34m)\u001b[0m\u001b[0;34m)\u001b[0m\u001b[0;34m:\u001b[0m\u001b[0;34m\u001b[0m\u001b[0;34m\u001b[0m\u001b[0m\n\u001b[0;32m---> 10\u001b[0;31m     \u001b[0mtopic\u001b[0m\u001b[0;34m.\u001b[0m\u001b[0mappend\u001b[0m\u001b[0;34m(\u001b[0m\u001b[0mall_data\u001b[0m\u001b[0;34m.\u001b[0m\u001b[0mtopic\u001b[0m\u001b[0;34m[\u001b[0m\u001b[0mx\u001b[0m\u001b[0;34m]\u001b[0m\u001b[0;34m)\u001b[0m\u001b[0;34m\u001b[0m\u001b[0;34m\u001b[0m\u001b[0m\n\u001b[0m\u001b[1;32m     11\u001b[0m \u001b[0mtopic\u001b[0m \u001b[0;34m=\u001b[0m \u001b[0mlist\u001b[0m\u001b[0;34m(\u001b[0m\u001b[0mchain\u001b[0m\u001b[0;34m.\u001b[0m\u001b[0mfrom_iterable\u001b[0m\u001b[0;34m(\u001b[0m\u001b[0mtopic\u001b[0m\u001b[0;34m)\u001b[0m\u001b[0;34m)\u001b[0m\u001b[0;34m\u001b[0m\u001b[0;34m\u001b[0m\u001b[0m\n\u001b[1;32m     12\u001b[0m \u001b[0muni_topic\u001b[0m\u001b[0;34m=\u001b[0m \u001b[0mnp\u001b[0m\u001b[0;34m.\u001b[0m\u001b[0munique\u001b[0m\u001b[0;34m(\u001b[0m\u001b[0mtopic\u001b[0m\u001b[0;34m)\u001b[0m\u001b[0;34m\u001b[0m\u001b[0;34m\u001b[0m\u001b[0m\n",
            "\u001b[0;32m/usr/local/lib/python3.7/dist-packages/pandas/core/generic.py\u001b[0m in \u001b[0;36m__getattr__\u001b[0;34m(self, name)\u001b[0m\n\u001b[1;32m   5139\u001b[0m             \u001b[0;32mif\u001b[0m \u001b[0mself\u001b[0m\u001b[0;34m.\u001b[0m\u001b[0m_info_axis\u001b[0m\u001b[0;34m.\u001b[0m\u001b[0m_can_hold_identifiers_and_holds_name\u001b[0m\u001b[0;34m(\u001b[0m\u001b[0mname\u001b[0m\u001b[0;34m)\u001b[0m\u001b[0;34m:\u001b[0m\u001b[0;34m\u001b[0m\u001b[0;34m\u001b[0m\u001b[0m\n\u001b[1;32m   5140\u001b[0m                 \u001b[0;32mreturn\u001b[0m \u001b[0mself\u001b[0m\u001b[0;34m[\u001b[0m\u001b[0mname\u001b[0m\u001b[0;34m]\u001b[0m\u001b[0;34m\u001b[0m\u001b[0;34m\u001b[0m\u001b[0m\n\u001b[0;32m-> 5141\u001b[0;31m             \u001b[0;32mreturn\u001b[0m \u001b[0mobject\u001b[0m\u001b[0;34m.\u001b[0m\u001b[0m__getattribute__\u001b[0m\u001b[0;34m(\u001b[0m\u001b[0mself\u001b[0m\u001b[0;34m,\u001b[0m \u001b[0mname\u001b[0m\u001b[0;34m)\u001b[0m\u001b[0;34m\u001b[0m\u001b[0;34m\u001b[0m\u001b[0m\n\u001b[0m\u001b[1;32m   5142\u001b[0m \u001b[0;34m\u001b[0m\u001b[0m\n\u001b[1;32m   5143\u001b[0m     \u001b[0;32mdef\u001b[0m \u001b[0m__setattr__\u001b[0m\u001b[0;34m(\u001b[0m\u001b[0mself\u001b[0m\u001b[0;34m,\u001b[0m \u001b[0mname\u001b[0m\u001b[0;34m:\u001b[0m \u001b[0mstr\u001b[0m\u001b[0;34m,\u001b[0m \u001b[0mvalue\u001b[0m\u001b[0;34m)\u001b[0m \u001b[0;34m->\u001b[0m \u001b[0;32mNone\u001b[0m\u001b[0;34m:\u001b[0m\u001b[0;34m\u001b[0m\u001b[0;34m\u001b[0m\u001b[0m\n",
            "\u001b[0;31mAttributeError\u001b[0m: 'DataFrame' object has no attribute 'topic'"
          ]
        }
      ]
    },
    {
      "cell_type": "code",
      "metadata": {
        "colab": {
          "base_uri": "https://localhost:8080/"
        },
        "id": "7xiQbcXhshz8",
        "outputId": "772846fc-c50c-4bc9-a5c8-3a9ce346d7e7"
      },
      "source": [
        "stop_words = set(stopwords.words('english'))\n",
        "def text_tokenizer(data):\n",
        "    data = data.lower()\n",
        "    data = re.sub(r'\\<[^<>]*\\>','',data)\n",
        "    data = re.sub(r'^\\W+|\\W+$','',data)\n",
        "    data = re.sub(r'\\s',' ',data)\n",
        "    data = re.sub(r'[^a-zA-Z0-9]',' ',data)\n",
        "    data = word_tokenize(data)\n",
        "    data = [i for i in data if i not in stop_words]\n",
        "    # data = (lambda data: data.lower())\n",
        "    # data = (lambda data: re.sub(r'\\<[^<>]*\\>','',data))\n",
        "    # data = (lambda data: re.sub(r'^\\W+|\\W+$','',data))\n",
        "    # data = (lambda data: re.sub(r'\\s',' ',data))\n",
        "    # data = (lambda data: re.sub(r'[^a-zA-Z0-9]',' ',data))\n",
        "    # for i in range(len(data)):\n",
        "        # sp = data[i].split(' ')\n",
        "        # if sp not in stop_words\n",
        "\n",
        "    #############\n",
        "    # data = \"[CLS] \" + data + \" [SEP]\"\n",
        "    # for t in data:\n",
        "    #     sentence = word_tokenize(t)\n",
        "    #     result = []\n",
        "\n",
        "    #     for word in sentence:\n",
        "    #         word = word.lower()\n",
        "    #         if word in stop_words or len(word) <= 2:\n",
        "    #             continue\n",
        "    #         result.append(word)\n",
        "    #         if word not in vocab:\n",
        "    #             vocab[word] = 0\n",
        "    #         vocab[word] += 1\n",
        "    #     sentences.append(result)\n",
        "    return data#, sentences\n",
        "\n",
        "# content = text_tokenizer(all_data.content)\n",
        "for i in range(len(all_data)):\n",
        "    all_data.content[i] =text_tokenizer(all_data.content[i])\n",
        "    all_data.title[i]  =text_tokenizer(all_data.title[i])\n",
        "# all_data.content[0] =text_tokenizer(all_data.content[0])\n",
        "# print(all_data.content[0])\n",
        "# title_senteneces, title_vocab = text_tokenizer(all_data.title)\n",
        "#print(sorted(vocab.items(), key = lambda x:x[1], reverse = True)[:50])\n",
        "##############################################"
      ],
      "execution_count": null,
      "outputs": [
        {
          "output_type": "stream",
          "name": "stderr",
          "text": [
            "/usr/local/lib/python3.7/dist-packages/ipykernel_launcher.py:38: SettingWithCopyWarning: \n",
            "A value is trying to be set on a copy of a slice from a DataFrame\n",
            "\n",
            "See the caveats in the documentation: https://pandas.pydata.org/pandas-docs/stable/user_guide/indexing.html#returning-a-view-versus-a-copy\n",
            "/usr/local/lib/python3.7/dist-packages/ipykernel_launcher.py:39: SettingWithCopyWarning: \n",
            "A value is trying to be set on a copy of a slice from a DataFrame\n",
            "\n",
            "See the caveats in the documentation: https://pandas.pydata.org/pandas-docs/stable/user_guide/indexing.html#returning-a-view-versus-a-copy\n"
          ]
        }
      ]
    },
    {
      "cell_type": "code",
      "metadata": {
        "id": "8AWnuaHCQmRS"
      },
      "source": [
        ""
      ],
      "execution_count": null,
      "outputs": []
    },
    {
      "cell_type": "code",
      "metadata": {
        "colab": {
          "base_uri": "https://localhost:8080/"
        },
        "id": "AZF-5daLsilq",
        "outputId": "f64380ef-8c5f-4b72-db11-836cf07a1642"
      },
      "source": [
        "# print(all_data.content)\n",
        "# print(all_data.title)\n",
        "print(len(all_data.content))\n",
        "print(len(all_data.title))\n",
        "uni_all_data = all_data.content.values + all_data.title.values\n",
        "cont_title = uni_all_data\n",
        "# uni_all_data = np.concatenate((all_data.content.values, all_data.title.values),axis=1)\n",
        "# uni_all_data = all_data[['content','title','tags']].unique()\n",
        "print(type(uni_all_data))\n",
        "print(uni_all_data[0][0])\n",
        "\n",
        "uni_all_data=np.unique(uni_all_data)\n",
        "print(len(uni_all_data))"
      ],
      "execution_count": null,
      "outputs": [
        {
          "output_type": "stream",
          "name": "stdout",
          "text": [
            "67721\n",
            "67721\n",
            "<class 'numpy.ndarray'>\n",
            "prokaryotic\n",
            "67712\n"
          ]
        }
      ]
    },
    {
      "cell_type": "code",
      "metadata": {
        "id": "EsHhDN1wG24L"
      },
      "source": [
        ""
      ],
      "execution_count": null,
      "outputs": []
    },
    {
      "cell_type": "code",
      "metadata": {
        "colab": {
          "base_uri": "https://localhost:8080/",
          "height": 315
        },
        "id": "s5GVQcGHyEFX",
        "outputId": "5a818b5d-aaed-4311-f2f0-7ba371fc8c50"
      },
      "source": [
        "import matplotlib.pyplot as plt\n",
        "\n",
        "#  길이 분포 확인\n",
        "print('리뷰의 최대 길이 :',max(len(l) for l in uni_all_data))\n",
        "print('리뷰의 평균 길이 :',sum(map(len, uni_all_data))/len(uni_all_data))\n",
        "plt.hist([len(s) for s in uni_all_data], bins=50)\n",
        "plt.xlabel('length of samples')\n",
        "plt.ylabel('number of samples')\n",
        "plt.show()"
      ],
      "execution_count": null,
      "outputs": [
        {
          "output_type": "stream",
          "name": "stdout",
          "text": [
            "리뷰의 최대 길이 : 2967\n",
            "리뷰의 평균 길이 : 65.11334770793951\n"
          ]
        },
        {
          "output_type": "display_data",
          "data": {
            "image/png": "[encoded data removed]",
            "text/plain": [
              "<Figure size 432x288 with 1 Axes>"
            ]
          },
          "metadata": {
            "needs_background": "light"
          }
        }
      ]
    },
    {
      "cell_type": "code",
      "metadata": {
        "colab": {
          "base_uri": "https://localhost:8080/"
        },
        "id": "NTpBvGO0R-TP",
        "outputId": "b170aef3-a413-435f-e57b-cd4dfb6522d5"
      },
      "source": [
        "print( all_data.content)"
      ],
      "execution_count": null,
      "outputs": [
        {
          "output_type": "stream",
          "name": "stdout",
          "text": [
            "0        [prokaryotic, translation, critical, efficient...\n",
            "1        [anyone, suggestions, prevent, rnase, contamin...\n",
            "2        [tortora, writes, principles, anatomy, physiol...\n",
            "3        [various, people, lab, prepare, liter, lb, add...\n",
            "4        [cases, splicing, machinery, constructs, mrna,...\n",
            "                               ...                        \n",
            "67716    [particular, example, robot, interests, http, ...\n",
            "67717    [thought, technique, increase, resolution, pov...\n",
            "67718    [robotics, project, raspberry, pi, arduino, ar...\n",
            "67719    [understand, 2d, laser, scanner, scanned, data...\n",
            "67720    [hey, trying, research, swarm, robotics, tryin...\n",
            "Name: content, Length: 67721, dtype: object\n"
          ]
        }
      ]
    },
    {
      "cell_type": "code",
      "metadata": {
        "colab": {
          "base_uri": "https://localhost:8080/"
        },
        "id": "CQOJdRIlRv7E",
        "outputId": "d7b7de14-9e35-410c-c02d-95658bb13270"
      },
      "source": [
        "from keras.preprocessing.text import Tokenizer\n",
        "from keras.preprocessing.sequence import pad_sequences\n",
        "from keras.utils.np_utils import to_categorical\n",
        "tokenizer = Tokenizer()\n",
        "tokenizer.fit_on_texts( all_data.content)\n",
        "tokenizer.fit_on_texts(all_data.title)\n",
        "word_index = tokenizer.word_index\n",
        "sequences = tokenizer.texts_to_sequences(all_data.title)\n",
        "\n",
        "data = pad_sequences(sequences, maxlen=500)\n",
        "print(data)\n",
        "print(len(tokenizer.word_index))\n",
        "vocab_size = len(tokenizer.word_index) + 1"
      ],
      "execution_count": null,
      "outputs": [
        {
          "output_type": "stream",
          "name": "stdout",
          "text": [
            "[[    0     0     0 ...  3411  7681  3159]\n",
            " [    0     0     0 ...   156  2448  7410]\n",
            " [    0     0     0 ... 18770    14  1906]\n",
            " ...\n",
            " [    0     0     0 ...  1139  2484  1125]\n",
            " [    0     0     0 ... 14175  6681  1688]\n",
            " [    0     0     0 ...  1908  8745  1721]]\n",
            "96577\n"
          ]
        }
      ]
    },
    {
      "cell_type": "code",
      "metadata": {
        "id": "7SjQN3cxXpXK"
      },
      "source": [
        "text = np.array(all_data.content.values) +  np.array(all_data.title.values)\n",
        "pad_mat_uni_all_data= tokenizer.texts_to_sequences(text)\n",
        "pad_mat_uni_all_data=pad_sequences(pad_mat_uni_all_data, maxlen=500)\n",
        "pad_mat_uni_all_data = np.array(pad_mat_uni_all_data)"
      ],
      "execution_count": null,
      "outputs": []
    },
    {
      "cell_type": "code",
      "metadata": {
        "colab": {
          "base_uri": "https://localhost:8080/"
        },
        "id": "BMr00MeM2roz",
        "outputId": "69f98573-a6e9-4cc6-ae0f-00e3899eed15"
      },
      "source": [
        "print(uni_tag)\n",
        "print(len(uni_tag))"
      ],
      "execution_count": null,
      "outputs": [
        {
          "output_type": "stream",
          "name": "stdout",
          "text": [
            "['120-240v' '240v' '2nd-preimage-resistance' ... 'zero-knowledge-proofs'\n",
            " 'zoology' 'zucchini']\n",
            "2668\n"
          ]
        }
      ]
    },
    {
      "cell_type": "code",
      "metadata": {
        "colab": {
          "base_uri": "https://localhost:8080/"
        },
        "id": "WO7Ba2wzsic4",
        "outputId": "bac66455-0440-4d32-936f-a9da92d49afc"
      },
      "source": [
        "dict_uni_tag = {string : i for i,string in enumerate(uni_tag)}\n",
        "print(dict_uni_tag)"
      ],
      "execution_count": null,
      "outputs": [
        {
          "output_type": "stream",
          "name": "stdout",
          "text": [
            "{'120-240v': 0, '240v': 1, '2nd-preimage-resistance': 2, '3d-model': 3, '3d-printing': 4, '3d-reconstruction': 5, '3d-structure': 6, '3des': 7, 'abe': 8, 'abiogenesis': 9, 'abs': 10, 'accelerometer': 11, 'access-control': 12, 'access-panel': 13, 'accessibility': 14, 'accumulators': 15, 'acid': 16, 'acidity': 17, 'acoustic': 18, 'acoustic-cryptanalysis': 19, 'acoustic-rangefinder': 20, 'acrylic': 21, 'action-potential': 22, 'activerobot': 23, 'actuator': 24, 'adaptation': 25, 'addiction': 26, 'addition': 27, 'additives': 28, 'adhesive': 29, 'adversarial-model': 30, 'advice': 31, 'aes': 32, 'afci': 33, 'affine-cipher': 34, 'african': 35, 'aging': 36, 'agriculture': 37, 'aids': 38, 'air-conditioner': 39, 'air-conditioning': 40, 'air-filter': 41, 'air-leaks': 42, 'air-muscle': 43, 'air-quality': 44, 'alarm': 45, 'alcohol': 46, 'alcohol-content': 47, 'alfredo': 48, 'algebraic-attack': 49, 'algebraic-eraser': 50, 'algorithm': 51, 'algorithm-design': 52, 'alkalinity': 53, 'alkyd': 54, 'allele': 55, 'allelopathy': 56, 'allergies': 57, 'allergy': 58, 'allium': 59, 'alljoyn': 60, 'allometry': 61, 'almond-milk': 62, 'almonds': 63, 'alternating-step': 64, 'alternative-energy': 65, 'altruism': 66, 'aluminum': 67, 'aluminum-cookware': 68, 'aluminum-foil': 69, 'aluminum-wiring': 70, 'american-cuisine': 71, 'amino-acids': 72, 'anaerobic-respiration': 73, 'analgesia': 74, 'anatomy': 75, 'anchor': 76, 'anecdotal-evidence': 77, 'angle': 78, 'angle-grinder': 79, 'animal-husbandry': 80, 'animal-models': 81, 'anonymity': 82, 'ant': 83, 'anthropology': 84, 'antibiotic-resistance': 85, 'antibiotics': 86, 'antibody': 87, 'antigen': 88, 'antihistamines': 89, 'antipredator-adaptation': 90, 'antique': 91, 'ants': 92, 'apoptosis': 93, 'apple': 94, 'apple-pie': 95, 'apples': 96, 'appliances': 97, 'aquaculture': 98, 'arachnology': 99, 'archaea': 100, 'architecture': 101, 'arduino': 102, 'ardupilot': 103, 'argon2': 104, 'arithmetic': 105, 'arm': 106, 'artichokes': 107, 'artificial-intelligence': 108, 'artificial-life': 109, 'artificial-selection': 110, 'arx': 111, 'asbestos': 112, 'asexual-reproduction': 113, 'asian-cuisine': 114, 'asn.1': 115, 'asparagus': 116, 'asphalt': 117, 'aspirin': 118, 'assay-development': 119, 'astrobiology': 120, 'attack': 121, 'attic': 122, 'attic-conversion': 123, 'attic-door': 124, 'audio': 125, 'augpake': 126, 'australian-cuisine': 127, 'authenticated-encryption': 128, 'authentication': 129, 'autoimmune': 130, 'automatic': 131, 'automation': 132, 'autonomic-nervous-system': 133, 'autophagy': 134, 'autoreceptor': 135, 'auv': 136, 'auxology': 137, 'avalanche': 138, 'avocados': 139, 'avr': 140, 'baby-food': 141, 'back-up': 142, 'backdoors': 143, 'backer-board': 144, 'backsplash': 145, 'backyard': 146, 'bacon': 147, 'bacterial-toxins': 148, 'bacteriology': 149, 'bagels': 150, 'baker-percentage': 151, 'baking': 152, 'baking-powder': 153, 'baking-soda': 154, 'balance': 155, 'balkan-cuisine': 156, 'bananas': 157, 'bandsaw': 158, 'barbecue': 159, 'barbecue-sauce': 160, 'barley': 161, 'barn': 162, 'baseboard': 163, 'basement': 164, 'basement-refinishing': 165, 'basics': 166, 'basil': 167, 'basting': 168, 'bath': 169, 'bathroom': 170, 'bathroom-fixtures': 171, 'bathtub': 172, 'batter': 173, 'battery': 174, 'battle-bot': 175, 'bay-leaf': 176, 'bcrypt': 177, 'beagle-bone': 178, 'beam': 179, 'beans': 180, 'bec': 181, 'bechamel': 182, 'bedroom': 183, 'beef': 184, 'beer': 185, 'beets': 186, 'beginner': 187, 'behavior': 188, 'behaviour': 189, 'bell-peppers': 190, 'bench': 191, 'benzodiazepine': 192, 'beverages': 193, 'biclique-attack': 194, 'biga': 195, 'bijection': 196, 'bile': 197, 'binding-sites': 198, 'bio-mechanics': 199, 'biochemistry': 200, 'biodiversity': 201, 'bioenergetics': 202, 'biofeedback': 203, 'biofilms': 204, 'biogeography': 205, 'bioinformatics': 206, 'bioinorganic-chemistry': 207, 'biological-control': 208, 'biological-networks': 209, 'biology-misconceptions': 210, 'bioluminescence': 211, 'biomedical-engineering': 212, 'biomedical-technology': 213, 'biophysics': 214, 'biopython': 215, 'biostatistics': 216, 'biosynthesis': 217, 'biotechnology': 218, 'birthday-attack': 219, 'biscuits': 220, 'bitcoin': 221, 'bits': 222, 'bitslicing': 223, 'blake2': 224, 'blake2b': 225, 'blanching': 226, 'blast': 227, 'blender': 228, 'blind-baking': 229, 'blind-signature': 230, 'blinding': 231, 'blinds': 232, 'block-and-beam': 233, 'block-cipher': 234, 'blockage': 235, 'blocking': 236, 'blocksize': 237, 'blood-brain-barrier': 238, 'blood-circulation': 239, 'blood-group': 240, 'blood-pressure': 241, 'blood-sugar': 242, 'blood-transfusion': 243, 'blower': 244, 'blowfish': 245, 'blowtorch': 246, 'blueberries': 247, 'blum-blum-shub': 248, 'boiler': 249, 'boiling': 250, 'bolts': 251, 'bone-biology': 252, 'bones': 253, 'book-recommendation': 254, 'books': 255, 'botany': 256, 'botulism': 257, 'bouillon': 258, 'brackets': 259, 'brain': 260, 'brain-stem': 261, 'braising': 262, 'brake': 263, 'bread': 264, 'bread-pudding': 265, 'breadcrumbs': 266, 'breaker': 267, 'breaker-box': 268, 'breakfast': 269, 'breathing': 270, 'brick': 271, 'brie': 272, 'brining': 273, 'brisket': 274, 'broadcast-encryption': 275, 'broccoli': 276, 'broiler': 277, 'broth': 278, 'brown-sugar': 279, 'brownies': 280, 'brushless-motor': 281, 'brussels-sprouts': 282, 'brute-force-attack': 283, 'buckwheat': 284, 'budget-cooking': 285, 'building': 286, 'building-regulations': 287, 'built-ins': 288, 'bulb': 289, 'bulk-cooking': 290, 'bundled-cables': 291, 'burnt': 292, 'butchering': 293, 'butter': 294, 'buttermilk': 295, 'c': 296, 'c++': 297, 'cabbage': 298, 'cabinets': 299, 'cable-management': 300, 'cables': 301, 'cabling': 302, 'cactus': 303, 'caffeine': 304, 'cajun-cuisine': 305, 'cake': 306, 'cakes': 307, 'calcium': 308, 'calibration': 309, 'calories': 310, 'camellia': 311, 'cameras': 312, 'camping': 313, 'can': 314, 'cancer': 315, 'candy': 316, 'canning': 317, 'caramel': 318, 'caramelization': 319, 'carbohydrates': 320, 'carbon-monoxide': 321, 'carbon-steel': 322, 'carbonara': 323, 'carbonation': 324, 'cardiology': 325, 'caribbean-cuisine': 326, 'carob': 327, 'carpaccio': 328, 'carpentry': 329, 'carpet': 330, 'carport': 331, 'carrots': 332, 'carter-wegman': 333, 'cartridge': 334, 'cas9': 335, 'casserole': 336, 'cast-iron': 337, 'catering': 338, 'cauliflower': 339, 'caulk': 340, 'caulking': 341, 'cbc': 342, 'cbc-mac': 343, 'ccm': 344, 'ccp4': 345, 'cdna': 346, 'cedar-plank': 347, 'ceiling': 348, 'ceiling-fan': 349, 'celery': 350, 'celiac-disease': 351, 'cell': 352, 'cell-based': 353, 'cell-biology': 354, 'cell-culture': 355, 'cell-cycle': 356, 'cell-division': 357, 'cell-membrane': 358, 'cell-signaling': 359, 'cell-sorting': 360, 'cellular': 361, 'cellular-respiration': 362, 'cement': 363, 'cement-board': 364, 'central-air': 365, 'central-heating': 366, 'central-nervous-system': 367, 'central-vacuum': 368, 'centrifugation': 369, 'ceramic': 370, 'ceramic-tile': 371, 'certificateless-crypto': 372, 'certificates': 373, 'ceviche': 374, 'cfb': 375, 'cfl': 376, 'chacha': 377, 'chai': 378, 'chain': 379, 'chainsaw': 380, 'challenge-response': 381, 'charcoal': 382, 'charcuterie': 383, 'chassis': 384, 'cheese': 385, 'cheese-making': 386, 'cheesecake': 387, 'chembl': 388, 'chemical-communication': 389, 'chemicals': 390, 'chemistry': 391, 'cherries': 392, 'chestnuts': 393, 'chia': 394, 'chicken': 395, 'chicken-breast': 396, 'chicken-stock': 397, 'chicken-wings': 398, 'chickens': 399, 'chickpeas': 400, 'child-safety': 401, 'children': 402, 'chili': 403, 'chili-peppers': 404, 'chilling': 405, 'chime': 406, 'chimerism': 407, 'chimney': 408, 'chinese-cuisine': 409, 'chip': 410, 'chip-seq': 411, 'chips': 412, 'chirality': 413, 'chlorine': 414, 'chloroplasts': 415, 'chocolate': 416, 'chocolate-truffles': 417, 'cholesterol': 418, 'chopping': 419, 'chorizo': 420, 'chosen-ciphertext-attack': 421, 'chosen-plaintext-attack': 422, 'chromatin': 423, 'chromatography': 424, 'chromosome': 425, 'chronic': 426, 'chronobiology': 427, 'chutney': 428, 'cilantro': 429, 'cilia': 430, 'cinderblock': 431, 'cinnamon': 432, 'ciphertext-only-attack': 433, 'circadian-rhythms': 434, 'circuit': 435, 'circuit-breaker': 436, 'circular-saw': 437, 'circulatory-system': 438, 'cistern': 439, 'citrus': 440, 'cladistics': 441, 'classical-cipher': 442, 'classification': 443, 'cleaning': 444, 'clearance': 445, 'climate-change': 446, 'clinical-trial': 447, 'clog': 448, 'cloning': 449, 'closer': 450, 'closet': 451, 'clothes-washer': 452, 'clothing': 453, 'clotted-cream': 454, 'cloud': 455, 'cmac': 456, 'cms': 457, 'cnc': 458, 'coa': 459, 'coax': 460, 'coaxial-cable': 461, 'cocaine': 462, 'cocktails': 463, 'cocoa': 464, 'coconut': 465, 'cod': 466, 'code-compliance': 467, 'coding-theory': 468, 'codon': 469, 'codon-usage': 470, 'coffee': 471, 'cognition': 472, 'cold-brew': 473, 'collective-behaviour': 474, 'collision-resistance': 475, 'color': 476, 'coloring': 477, 'column': 478, 'commitments': 479, 'communication': 480, 'community': 481, 'community-ecology': 482, 'commutative-encryption': 483, 'comparisons': 484, 'compass': 485, 'competent-cells': 486, 'complexity': 487, 'compost': 488, 'compoung': 489, 'compression': 490, 'compressor': 491, 'computational-model': 492, 'computer-vision': 493, 'concentration': 494, 'concrete': 495, 'concrete-block': 496, 'condensation': 497, 'condiments': 498, 'conduit': 499, 'confined-space': 500, 'confit': 501, 'congestion': 502, 'congruence': 503, 'connector': 504, 'connectors': 505, 'conservation-biology': 506, 'consistency': 507, 'constants': 508, 'construction': 509, 'containers': 510, 'contractors': 511, 'control': 512, 'convection': 513, 'convenience-foods': 514, 'convergent-encryption': 515, 'conversion': 516, 'cookbook': 517, 'cookies': 518, 'cooking-myth': 519, 'cooking-safety': 520, 'cooking-time': 521, 'cookware': 522, 'cooling': 523, 'coot': 524, 'copper': 525, 'copper-cookware': 526, 'copper-tubing': 527, 'copy-number-variation': 528, 'copy-protection': 529, 'cord-and-plug': 530, 'coriander': 531, 'cork': 532, 'corn': 533, 'corned-beef': 534, 'corner-bead': 535, 'cornflake': 536, 'cornstarch': 537, 'corrosion': 538, 'cost': 539, 'cost-effective': 540, 'countertops': 541, 'cover': 542, 'coverage': 543, 'cpg': 544, 'cpu': 545, 'cpvc': 546, 'crab': 547, 'crack': 548, 'crackers': 549, 'cracks': 550, 'cramer-shoup': 551, 'cranberries': 552, 'cranial-nerves': 553, 'crawfish': 554, 'crawlspace': 555, 'crc': 556, 'cream': 557, 'cream-cheese': 558, 'creme-anglaise': 559, 'creme-brulee': 560, 'creme-fraiche': 561, 'crepe': 562, 'crispr': 563, 'crl': 564, 'crock': 565, 'crockpot': 566, 'crocus-sativus': 567, 'crossover': 568, 'crudo': 569, 'crumb-crust': 570, 'crumble': 571, 'crust': 572, 'cryonics': 573, 'cryptanalysis': 574, 'cryptdb': 575, 'cryptoapi': 576, 'cryptographic-hardware': 577, 'ctr': 578, 'cubes': 579, 'cucumbers': 580, 'culinary-uses': 581, 'cultural-difference': 582, 'cultured-food': 583, 'cupcakes': 584, 'curing': 585, 'current': 586, 'curry': 587, 'curtain-rail': 588, 'custard': 589, 'custom-cabinetry': 590, 'cut-of-meat': 591, 'cutting': 592, 'cutting-boards': 593, 'cycle': 594, 'cytogenetics': 595, 'cytokinesis': 596, 'cytoskeleton': 597, 'dairy': 598, 'dairy-free': 599, 'damage': 600, 'damp-proof-course': 601, 'danfoss': 602, 'dangerous': 603, 'dashi': 604, 'data': 605, 'data-association': 606, 'data-privacy': 607, 'data-wiring': 608, 'database': 609, 'dead-reckoning': 610, 'deadbolt': 611, 'death': 612, 'decay': 613, 'deck': 614, 'decking': 615, 'decomposition': 616, 'decorating': 617, 'decryption-oracle': 618, 'deduced-reckoning': 619, 'deep-dish-pizza': 620, 'deep-frying': 621, 'definition': 622, 'definitions': 623, 'deflection': 624, 'defrosting': 625, 'dehumidifier': 626, 'dehydrating': 627, 'dehydration': 628, 'delta': 629, 'demography': 630, 'demolition': 631, 'dendrology': 632, 'deniable-encryption': 633, 'deoxys': 634, 'des': 635, 'design': 636, 'desk': 637, 'dessert': 638, 'desx': 639, 'detached-structure': 640, 'deterministic-encryption': 641, 'development': 642, 'developmental-biology': 643, 'dh-parameters': 644, 'diabetes-mellitus': 645, 'dicing': 646, 'dictionary-attack': 647, 'diet': 648, 'dietary-restriction': 649, 'differences': 650, 'differential-analysis': 651, 'differential-drive': 652, 'differential-privacy': 653, 'differentiation': 654, 'diffie-hellman': 655, 'diffusion': 656, 'digestion': 657, 'digestive-system': 658, 'digital-audio': 659, 'digital-cash': 660, 'digital-rights-management': 661, 'dimmer-switch': 662, 'dip': 663, 'disconnect': 664, 'discrete-logarithm': 665, 'dishwasher': 666, 'disk-encryption': 667, 'disposal': 668, 'dissection': 669, 'dissociation-constant': 670, 'dissolve': 671, 'distinguisher': 672, 'distributed-decryption': 673, 'distributed-systems': 674, 'distribution-board': 675, 'diy-biology': 676, 'diy-vs-pro': 677, 'dna': 678, 'dna-damage': 679, 'dna-helix': 680, 'dna-isolation': 681, 'dna-methylation': 682, 'dna-repair': 683, 'dna-replication': 684, 'dna-sequencing': 685, 'dnapolymerase': 686, 'dogs': 687, 'door-frame': 688, 'doorbell': 689, 'doorknob': 690, 'doors': 691, 'dopamine': 692, 'dormer': 693, 'dosage-compensation': 694, 'dose': 695, 'dough': 696, 'doughnuts': 697, 'downspout': 698, 'dpa': 699, 'draft': 700, 'drafting': 701, 'drain': 702, 'drain-waste-vent': 703, 'drainage': 704, 'drains': 705, 'drawers': 706, 'dreaming': 707, 'drill': 708, 'drinks': 709, 'driver': 710, 'driveway': 711, 'drosophila': 712, 'dry-aging': 713, 'dry-rot': 714, 'dryer': 715, 'drying': 716, 'drywall': 717, 'drywall-anchor': 718, 'drywall-mud': 719, 'dsa': 720, 'dual-ec-drbg': 721, 'duck': 722, 'duct-tape': 723, 'ductless': 724, 'ducts': 725, 'ductwork': 726, 'dulce-de-leche': 727, 'dumplings': 728, 'durian': 729, 'dust': 730, 'dutch-oven': 731, 'dynamic-programming': 732, 'dynamics': 733, 'dynamixel': 734, 'dynorphin': 735, 'earthquake': 736, 'eax': 737, 'ebola': 738, 'ecb': 739, 'echolocation': 740, 'ecies': 741, 'ecoli': 742, 'ecology': 743, 'ecophysiology': 744, 'ecosystem': 745, 'ed25519': 746, 'education': 747, 'eeg': 748, 'efficiency': 749, 'egg-noodles': 750, 'egg-whites': 751, 'eggplant': 752, 'eggs': 753, 'egress': 754, 'ekf': 755, 'elderberries': 756, 'electric': 757, 'electric-heat': 758, 'electric-motor': 759, 'electric-stoves': 760, 'electrical': 761, 'electrical-distribution': 762, 'electrical-panel': 763, 'electrical-stimulation': 764, 'electrocardiography': 765, 'electroencephalography': 766, 'electromuscular': 767, 'electronics': 768, 'electrophysiology': 769, 'elgamal-encryption': 770, 'elgamal-signature': 771, 'elisa': 772, 'elliptic-curve-generation': 773, 'elliptic-curves': 774, 'embedded': 775, 'embedded-systems': 776, 'embryology': 777, 'emergency-preparedness': 778, 'emulsion': 779, 'encapsulation': 780, 'encoding': 781, 'encryption': 782, 'endocrinology': 783, 'endothelium': 784, 'energy': 785, 'energy-audit': 786, 'energy-efficiency': 787, 'engine': 788, 'engineered-flooring': 789, 'engineering': 790, 'english-cuisine': 791, 'enigma': 792, 'entomology': 793, 'entropy': 794, 'environment': 795, 'enzyme-kinetics': 796, 'enzymes': 797, 'ephemeral': 798, 'epidemiology': 799, 'epigenetics': 800, 'epoxy': 801, 'equipment': 802, 'error-margin': 803, 'error-propagation': 804, 'error-tolerance': 805, 'errors': 806, 'erv': 807, 'esc': 808, 'espresso': 809, 'ethernet': 810, 'ethnobiology': 811, 'ethology': 812, 'eukaryotic-cells': 813, 'evaporated-milk': 814, 'evaporative-cooling': 815, 'event-related-potential': 816, 'evo-devo': 817, 'evolution': 818, 'evolutionary-game-theory': 819, 'excavation': 820, 'excavator': 821, 'excreta': 822, 'exercise': 823, 'exhaust': 824, 'exhaust-fan': 825, 'exhaust-vent': 826, 'exons': 827, 'experiment': 828, 'experimental': 829, 'experimental-design': 830, 'exploration': 831, 'extension': 832, 'extension-cord': 833, 'exterior': 834, 'extermination': 835, 'extinction': 836, 'extra-cellular-matrix': 837, 'extracts': 838, 'extremophiles': 839, 'eyes': 840, 'factoring': 841, 'factorization': 842, 'failure': 843, 'fan': 844, 'fans': 845, 'faq': 846, 'fascia': 847, 'fastener': 848, 'fastening': 849, 'fat-metabolism': 850, 'fats': 851, 'fatty-acid-synthase': 852, 'faucet': 853, 'feal': 854, 'feistel-network': 855, 'feline': 856, 'fence': 857, 'fermentation': 858, 'feta': 859, 'fiat-shamir': 860, 'fiberglass': 861, 'file-encryption': 862, 'file-format': 863, 'filling': 864, 'filter': 865, 'filtering': 866, 'finish': 867, 'finishing': 868, 'finite-field': 869, 'finnish-cuisine': 870, 'fips-140': 871, 'fire': 872, 'fire-extinguisher': 873, 'fire-hazard': 874, 'fire-pit': 875, 'fire-sprinkler': 876, 'fireblocking': 877, 'fireplace': 878, 'fireproof': 879, 'firewood': 880, 'first-robotics': 881, 'fish': 882, 'fitness': 883, 'fitting': 884, 'flambe': 885, 'flan': 886, 'flange': 887, 'flashing': 888, 'flatbread': 889, 'flavor': 890, 'flavor-base': 891, 'flavour-pairings': 892, 'flax': 893, 'flight': 894, 'flooding': 895, 'floor': 896, 'floorheating': 897, 'flooring': 898, 'flour': 899, 'flour-tortilla': 900, 'flow-cytometry': 901, 'flowering': 902, 'flowers': 903, 'fluorescent': 904, 'fluorescent-microscopy': 905, 'flush-mount': 906, 'foam': 907, 'focaccia': 908, 'foil-cooking': 909, 'fondant': 910, 'fondue': 911, 'food': 912, 'food-history': 913, 'food-identification': 914, 'food-preservation': 915, 'food-processing': 916, 'food-safety': 917, 'food-science': 918, 'food-transport': 919, 'food-web': 920, 'footings': 921, 'force': 922, 'force-sensor': 923, 'forced-air': 924, 'forensics': 925, 'forest': 926, 'forgery': 927, 'format-preserving': 928, 'fortuna': 929, 'forward-genetics': 930, 'forward-kinematics': 931, 'forward-secrecy': 932, 'foundation': 933, 'frame': 934, 'framing': 935, 'free-range': 936, 'freezing': 937, 'french-cuisine': 938, 'french-drain': 939, 'french-fries': 940, 'french-press': 941, 'frequency-analysis': 942, 'fresh': 943, 'fret': 944, 'fridge': 945, 'fried-eggs': 946, 'frittata': 947, 'front-door': 948, 'frost': 949, 'frosting': 950, 'frozen': 951, 'frozen-yogurt': 952, 'fruit': 953, 'fruit-leather': 954, 'fryer': 955, 'frying': 956, 'frying-pan': 957, 'fst': 958, 'fudge': 959, 'function-evaluation': 960, 'functional-encryption': 961, 'fungus': 962, 'furnace': 963, 'furniture': 964, 'fuse-breaker': 965, 'gait': 966, 'gamete': 967, 'gammon': 968, 'ganache': 969, 'gap': 970, 'garage': 971, 'garage-door': 972, 'garage-door-opener': 973, 'garbage-disposal': 974, 'garbled-circuits': 975, 'gardening': 976, 'garlic': 977, 'gas': 978, 'gasoline': 979, 'gastroenterology': 980, 'gate-post': 981, 'gates': 982, 'gauge': 983, 'gazebo': 984, 'gazpacho': 985, 'gcm': 986, 'gearing': 987, 'gel-electrophoresis': 988, 'gelatin': 989, 'gelling-agents': 990, 'gender': 991, 'gene': 992, 'gene-annotation': 993, 'gene-expression': 994, 'gene-regulation': 995, 'gene-synthesis': 996, 'gene-therapy': 997, 'general-biology': 998, 'generator': 999, 'genetic-code': 1000, 'genetic-diagrams': 1001, 'genetic-linkage': 1002, 'genetics': 1003, 'genomes': 1004, 'genomics': 1005, 'geometry': 1006, 'german-cuisine': 1007, 'germination': 1008, 'gfci': 1009, 'ghee': 1010, 'ginger': 1011, 'gingerbread': 1012, 'glass': 1013, 'glass-top-range': 1014, 'glaze': 1015, 'glider': 1016, 'global-warming': 1017, 'glucose': 1018, 'glucose-syrup': 1019, 'glue': 1020, 'gluten-free': 1021, 'gnocchi': 1022, 'gnss': 1023, 'goat': 1024, 'golgi-body': 1025, 'goose': 1026, 'gps': 1027, 'grade': 1028, 'grading': 1029, 'graham-crackers': 1030, 'grains': 1031, 'granite': 1032, 'granola': 1033, 'grapes': 1034, 'grass': 1035, 'grating': 1036, 'gravel': 1037, 'gravy': 1038, 'greek-cuisine': 1039, 'green': 1040, 'green-fluorescent-protein': 1041, 'greens': 1042, 'griddle': 1043, 'grilling': 1044, 'grinder': 1045, 'grinding': 1046, 'ground': 1047, 'ground-beef': 1048, 'grounding': 1049, 'grounding-and-bonding': 1050, 'group-theory': 1051, 'grout': 1052, 'growth': 1053, 'growth-media': 1054, 'guava': 1055, 'guide': 1056, 'gumbo': 1057, 'gustation': 1058, 'gutters': 1059, 'gwas': 1060, 'gynecology': 1061, 'gyroscope': 1062, 'h-bridge': 1063, 'habitat': 1064, 'haddock': 1065, 'hair': 1066, 'half-and-half': 1067, 'hall-sensor': 1068, 'hallucinogens': 1069, 'halogen': 1070, 'ham': 1071, 'hamburgers': 1072, 'hamming': 1073, 'hand-blender': 1074, 'hand-tools': 1075, 'handrail': 1076, 'hanging': 1077, 'hard-boiled-eggs': 1078, 'hard-core-predicate': 1079, 'hardness-assumptions': 1080, 'hardware': 1081, 'hardwood': 1082, 'hardwood-floor': 1083, 'hardwood-refinishing': 1084, 'hardy-weinberg': 1085, 'hash': 1086, 'hash-signature': 1087, 'hash-tree': 1088, 'hashed-elgamal': 1089, 'healing': 1090, 'health': 1091, 'health-and-safety': 1092, 'hearing': 1093, 'heart-failure': 1094, 'heart-output': 1095, 'hearth': 1096, 'heat': 1097, 'heat-management': 1098, 'heat-pump': 1099, 'heater': 1100, 'heating': 1101, 'hematology': 1102, 'hepatitis': 1103, 'herbs': 1104, 'hermitian-curves': 1105, 'herpetology': 1106, 'hexapod': 1107, 'hibiscus-tea': 1108, 'high-altitude': 1109, 'high-throughput': 1110, 'hill-cipher': 1111, 'hinges': 1112, 'hiring': 1113, 'histamine': 1114, 'histology': 1115, 'histone': 1116, 'histone-deacetylase': 1117, 'histone-modifications': 1118, 'histopathology': 1119, 'history': 1120, 'hiv': 1121, 'hkdf': 1122, 'hla': 1123, 'hmac': 1124, 'hole': 1125, 'hole-repair': 1126, 'holerodent': 1127, 'hollandaise': 1128, 'home-automation': 1129, 'home-theater': 1130, 'homeostasis': 1131, 'homework': 1132, 'hominy': 1133, 'homocysteine': 1134, 'homology': 1135, 'homomorphic-encryption': 1136, 'homomorphic-signatures': 1137, 'homosexuality': 1138, 'honey': 1139, 'honeycomb': 1140, 'hood': 1141, 'horizontal': 1142, 'horizontal-gene-transfer': 1143, 'hose': 1144, 'host-pathogen-interaction': 1145, 'host-proof': 1146, 'hot-chocolate': 1147, 'hot-dog': 1148, 'hot-sauce': 1149, 'hot-tub': 1150, 'hot-water': 1151, 'hotp': 1152, 'house-wrap': 1153, 'hri': 1154, 'hs1-siv': 1155, 'human': 1156, 'human-anatomy': 1157, 'human-biology': 1158, 'human-ear': 1159, 'human-evolution': 1160, 'human-eye': 1161, 'human-genetics': 1162, 'human-genome': 1163, 'human-physiology': 1164, 'humanoid': 1165, 'humidifier': 1166, 'humidity': 1167, 'hummus': 1168, 'hungarian-cuisine': 1169, 'hurricane-panels': 1170, 'hvac': 1171, 'hybrid': 1172, 'hybridization': 1173, 'hydration': 1174, 'hydronic': 1175, 'hygiene': 1176, 'hyperplasia': 1177, 'hypersensitivity': 1178, 'hypothalamus': 1179, 'i2c': 1180, 'ice': 1181, 'ice-cream': 1182, 'ice-maker': 1183, 'icgc': 1184, 'ichthyology': 1185, 'icing': 1186, 'idea': 1187, 'identification': 1188, 'identity-based-encryption': 1189, 'image-processing': 1190, 'imaging': 1191, 'immune-system': 1192, 'immunity': 1193, 'immunoglobin': 1194, 'immunology': 1195, 'immunosuppression': 1196, 'implantation': 1197, 'implementation': 1198, 'imu': 1199, 'index-of-coincidence': 1200, 'indian-cuisine': 1201, 'indicator': 1202, 'indonesian-cuisine': 1203, 'induction': 1204, 'industrial-robot': 1205, 'infection': 1206, 'inflammation': 1207, 'influenza': 1208, 'information': 1209, 'information-gain': 1210, 'information-theory': 1211, 'infusion': 1212, 'ingredient-selection': 1213, 'inheritance': 1214, 'initialization-vector': 1215, 'injury': 1216, 'input': 1217, 'insect': 1218, 'inspection': 1219, 'installation': 1220, 'instinct': 1221, 'insulation': 1222, 'insulin': 1223, 'integration': 1224, 'integrity': 1225, 'intelligence': 1226, 'interference': 1227, 'interior': 1228, 'interrupts': 1229, 'intracellular-transport': 1230, 'introns': 1231, 'invasive-species': 1232, 'inverse-kinematics': 1233, 'invertebrates': 1234, 'ipsec': 1235, 'iris': 1236, 'irobot-create': 1237, 'irrigation': 1238, 'isaac': 1239, 'isoforms': 1240, 'isogeny': 1241, 'italian-cuisine': 1242, 'jacobian': 1243, 'jalapeno': 1244, 'jam': 1245, 'jamb': 1246, 'japanese-cuisine': 1247, 'java': 1248, 'javascript': 1249, 'jelly': 1250, 'jerk': 1251, 'jerky': 1252, 'jewish-cuisine': 1253, 'jicama': 1254, 'joinery': 1255, 'joint': 1256, 'joints': 1257, 'joists': 1258, 'juice': 1259, 'juicing': 1260, 'junction': 1261, 'junction-box': 1262, 'kale': 1263, 'kalman-filter': 1264, 'kangaroo': 1265, 'kbkdf': 1266, 'kebab': 1267, 'keccak': 1268, 'kefir': 1269, 'kem': 1270, 'kerberos': 1271, 'kerdi': 1272, 'kerosene': 1273, 'ketchup': 1274, 'kettle': 1275, 'key-check-value': 1276, 'key-derivation': 1277, 'key-distribution': 1278, 'key-escrow': 1279, 'key-exchange': 1280, 'key-generation': 1281, 'key-recovery': 1282, 'key-reuse': 1283, 'key-rotation': 1284, 'key-schedule': 1285, 'key-size': 1286, 'key-wrap': 1287, 'keyak': 1288, 'keys': 1289, 'kidney': 1290, 'kimchi': 1291, 'kinect': 1292, 'kinematics': 1293, 'kinetics': 1294, 'kit': 1295, 'kitchen': 1296, 'kitchen-counters': 1297, 'kitchen-safety': 1298, 'kitchen-sink': 1299, 'kitchens': 1300, 'kiwifruit': 1301, 'kmac': 1302, 'knapsack': 1303, 'kneading': 1304, 'knife-safety': 1305, 'knife-skills': 1306, 'knives': 1307, 'knob-and-tube': 1308, 'knobs': 1309, 'known-plaintext-attack': 1310, 'kohlrabi': 1311, 'kombucha': 1312, 'korean-cuisine': 1313, 'kosher': 1314, 'kosher-salt': 1315, 'kuka': 1316, 'lab-reagents': 1317, 'lab-techniques': 1318, 'labview': 1319, 'ladder': 1320, 'lally': 1321, 'lamb': 1322, 'laminate': 1323, 'laminate-floor': 1324, 'lamp': 1325, 'landscape-ecology': 1326, 'landscaping': 1327, 'language': 1328, 'laptop': 1329, 'lasagna': 1330, 'laser': 1331, 'lath-and-plaster': 1332, 'lattice-crypto': 1333, 'laundry': 1334, 'lawn': 1335, 'lawn-mower': 1336, 'layout': 1337, 'lcr': 1338, 'lead': 1339, 'leak': 1340, 'leaks': 1341, 'learning': 1342, 'leavening': 1343, 'led': 1344, 'ledger': 1345, 'leeks': 1346, 'legged': 1347, 'legumes': 1348, 'lemon': 1349, 'lemon-juice': 1350, 'lemonade': 1351, 'length-extension': 1352, 'lennox': 1353, 'lentils': 1354, 'lentivirus': 1355, 'lepidoptera': 1356, 'lettuce': 1357, 'level': 1358, 'leveling': 1359, 'lfsr': 1360, 'libsodium': 1361, 'license-key': 1362, 'lidar': 1363, 'life': 1364, 'life-history': 1365, 'lifespan': 1366, 'ligation': 1367, 'light': 1368, 'light-fixture': 1369, 'lighting': 1370, 'lightweight': 1371, 'lime': 1372, 'limnology': 1373, 'line-following': 1374, 'linear-bearing': 1375, 'linear-cryptanalysis': 1376, 'linguistics': 1377, 'linoleum': 1378, 'linux': 1379, 'lipids': 1380, 'liqueur': 1381, 'literature': 1382, 'literature-search': 1383, 'lithium-polymer': 1384, 'liver': 1385, 'load-bearing': 1386, 'lobster': 1387, 'localization': 1388, 'locating': 1389, 'lock': 1390, 'locks': 1391, 'locomotion': 1392, 'loft': 1393, 'logic-control': 1394, 'logjam': 1395, 'low-carb': 1396, 'low-fat': 1397, 'low-latency': 1398, 'low-voltage': 1399, 'lubrication': 1400, 'luby-rackoff': 1401, 'lucas': 1402, 'lumber': 1403, 'lungs': 1404, 'lymph': 1405, 'lymphatic': 1406, 'lymphoma': 1407, 'mac': 1408, 'macarons': 1409, 'machine-learning': 1410, 'macroevolution': 1411, 'magnetometer': 1412, 'mailbox': 1413, 'maillard': 1414, 'main': 1415, 'maintenance': 1416, 'malaria': 1417, 'malleability': 1418, 'malt': 1419, 'mammals': 1420, 'man-in-the-middle': 1421, 'mango': 1422, 'manipulator': 1423, 'manufacturing': 1424, 'maple-syrup': 1425, 'mapping': 1426, 'marble': 1427, 'margarine': 1428, 'marinade': 1429, 'marinara': 1430, 'marine-biology': 1431, 'marrow': 1432, 'mars': 1433, 'marshmallow': 1434, 'marsupials': 1435, 'masa': 1436, 'mascarpone': 1437, 'mash': 1438, 'masonry': 1439, 'mass-cooking': 1440, 'mass-spec': 1441, 'mass-spectrometry': 1442, 'mate': 1443, 'materials': 1444, 'mathematical-models': 1445, 'matlab': 1446, 'matrix-multiplication': 1447, 'mavlink': 1448, 'mayonnaise': 1449, 'mceliece': 1450, 'md2': 1451, 'md4': 1452, 'md5': 1453, 'mdf': 1454, 'measurement': 1455, 'measurements': 1456, 'measuring': 1457, 'measuring-scales': 1458, 'meat': 1459, 'meatballs': 1460, 'meatloaf': 1461, 'mechanism': 1462, 'medicinal-chemistry': 1463, 'medicine': 1464, 'medium': 1465, 'meet-in-the-middle-attack': 1466, 'meiosis': 1467, 'melamine': 1468, 'melanin': 1469, 'melatonin': 1470, 'melon': 1471, 'melting': 1472, 'melting-chocolate': 1473, 'melting-sugar': 1474, 'membrane': 1475, 'membrane-transport': 1476, 'memory': 1477, 'memory-hard': 1478, 'menstrual-cycle': 1479, 'mental-poker': 1480, 'menu-planning': 1481, 'meringue': 1482, 'merkle-damgaard': 1483, 'message-recovery': 1484, 'metabolism': 1485, 'metabolomics': 1486, 'metal': 1487, 'metal-cutting': 1488, 'metal-roof': 1489, 'meter': 1490, 'methods': 1491, 'mexican-cuisine': 1492, 'mhc': 1493, 'mice': 1494, 'microarray': 1495, 'microbiology': 1496, 'microbiome': 1497, 'microcontroller': 1498, 'microhood': 1499, 'micromouse': 1500, 'microrna': 1501, 'microscopy': 1502, 'microwave': 1503, 'microwave-oven': 1504, 'middle-eastern-cuisine': 1505, 'migration': 1506, 'milk': 1507, 'milling': 1508, 'mimicry': 1509, 'mindstorms': 1510, 'minerals': 1511, 'minestrone': 1512, 'minipreps': 1513, 'mint': 1514, 'mirror': 1515, 'mistakes': 1516, 'miter': 1517, 'mitochondria': 1518, 'mitosis': 1519, 'mixing': 1520, 'mixing-function': 1521, 'mixnets': 1522, 'miyaguchi-preneel': 1523, 'mobile-robot': 1524, 'modes-of-operation': 1525, 'modular-arithmetic': 1526, 'moisture': 1527, 'mold': 1528, 'molding': 1529, 'molecular-biology': 1530, 'molecular-evolution': 1531, 'molecular-gastronomy': 1532, 'molecular-genetics': 1533, 'molluscs': 1534, 'monotone-access-structure': 1535, 'montgomery-multiplication': 1536, 'morphology': 1537, 'morphometry': 1538, 'mortar': 1539, 'mosaic': 1540, 'mosquitoes': 1541, 'moss': 1542, 'motion': 1543, 'motion-planning': 1544, 'motion-sensor': 1545, 'motor': 1546, 'moulding': 1547, 'mount': 1548, 'mounting': 1549, 'mouse': 1550, 'mousse': 1551, 'movement': 1552, 'mozzarella': 1553, 'mrds': 1554, 'mri': 1555, 'mrna': 1556, 'msg': 1557, 'mudding': 1558, 'muffins': 1559, 'multi-agent': 1560, 'multi-prime-rsa': 1561, 'multi-rotor': 1562, 'multiparty-computation': 1563, 'multiple-encryption': 1564, 'municipality': 1565, 'muscles': 1566, 'mushroom': 1567, 'mushrooms': 1568, 'mussels': 1569, 'mustard': 1570, 'mutations': 1571, 'mutton': 1572, 'mycology': 1573, 'mycoplasma': 1574, 'nails': 1575, 'natural-gas': 1576, 'natural-selection': 1577, 'navigation': 1578, 'ncbi': 1579, 'neapolitan-pizza': 1580, 'nec': 1581, 'needham-schroeder': 1582, 'negligible': 1583, 'nest': 1584, 'network': 1585, 'neural-engineering': 1586, 'neuroanatomy': 1587, 'neurodegerative-disorders': 1588, 'neurology': 1589, 'neuromodulation': 1590, 'neurophysiology': 1591, 'neuroplasticity': 1592, 'neuroscience': 1593, 'neurotransmitter': 1594, 'neutral': 1595, 'new-home': 1596, 'niederreiter': 1597, 'nist': 1598, 'noise': 1599, 'noise-reduction': 1600, 'nomenclature': 1601, 'non-repudiation': 1602, 'non-stick': 1603, 'nonce': 1604, 'noncoding-rna': 1605, 'noodles': 1606, 'norx': 1607, 'nose': 1608, 'not-exactly-c': 1609, 'notation': 1610, 'nsa': 1611, 'ntru': 1612, 'nucleic-acids': 1613, 'number-theory': 1614, 'nut-butters': 1615, 'nutrient-composition': 1616, 'nutrition': 1617, 'nuts': 1618, 'nxt': 1619, 'oaep': 1620, 'oats': 1621, 'oblivious-ram': 1622, 'oblivious-transfer': 1623, 'ocb': 1624, 'occupancygrid': 1625, 'odometry': 1626, 'odors': 1627, 'odour': 1628, 'ofb': 1629, 'offal': 1630, 'oil': 1631, 'oil-based-paint': 1632, 'okra': 1633, 'old-house': 1634, 'old-work': 1635, 'olfaction': 1636, 'olive': 1637, 'olive-oil': 1638, 'omelette': 1639, 'one-time-pad': 1640, 'one-time-password': 1641, 'one-way-function': 1642, 'onion-routing': 1643, 'onions': 1644, 'ontogeny': 1645, 'ontology': 1646, 'oogenesis': 1647, 'openaccess': 1648, 'opencv': 1649, 'openni': 1650, 'openssl': 1651, 'operating-systems': 1652, 'operons': 1653, 'opioid': 1654, 'optics': 1655, 'oranges': 1656, 'order-preserving': 1657, 'oregano': 1658, 'orf': 1659, 'organelle': 1660, 'organic': 1661, 'organic-chemistry': 1662, 'organization': 1663, 'organs': 1664, 'orientation': 1665, 'ornithology': 1666, 'osmoregulation': 1667, 'osmosis': 1668, 'otr': 1669, 'outdoor': 1670, 'outdoor-cooking': 1671, 'outlets': 1672, 'oven': 1673, 'overflow': 1674, 'ovulation': 1675, 'oxtail': 1676, 'p1363': 1677, 'packaging': 1678, 'padding': 1679, 'padding-oracle': 1680, 'paella': 1681, 'paillier': 1682, 'pain': 1683, 'paint': 1684, 'paint-removal': 1685, 'painting': 1686, 'pairing': 1687, 'pairings': 1688, 'palaeontology': 1689, 'pan': 1690, 'pancakes': 1691, 'pancetta': 1692, 'paneer': 1693, 'pantry': 1694, 'paprika': 1695, 'parasitism': 1696, 'parasitology': 1697, 'parchment': 1698, 'parmesan': 1699, 'parquet': 1700, 'parsley': 1701, 'parsnip': 1702, 'particle-board': 1703, 'particle-filter': 1704, 'partition': 1705, 'passover': 1706, 'password-based-encryption': 1707, 'password-hashing': 1708, 'passwords': 1709, 'pasta': 1710, 'pasteurization': 1711, 'pastry': 1712, 'patch': 1713, 'patching-drywall': 1714, 'pate': 1715, 'path-planning': 1716, 'pathogenesis': 1717, 'pathology': 1718, 'pathophysiology': 1719, 'pathway': 1720, 'patio': 1721, 'pavers': 1722, 'pbkdf': 1723, 'pbkdf-2': 1724, 'pcr': 1725, 'pdb': 1726, 'peaches': 1727, 'peanut-butter': 1728, 'peanuts': 1729, 'pectin': 1730, 'pedagogy': 1731, 'pedigree': 1732, 'peel': 1733, 'peeling': 1734, 'peer-review-journal': 1735, 'pen-and-paper': 1736, 'pepper': 1737, 'perception': 1738, 'perfect-secrecy': 1739, 'performance': 1740, 'pergola': 1741, 'peripheral-nervous-system': 1742, 'permutation': 1743, 'pest': 1744, 'pest-control': 1745, 'pestle': 1746, 'pet-door': 1747, 'pet-proofing': 1748, 'pets': 1749, 'pex': 1750, 'pgp': 1751, 'ph': 1752, 'pharmacodynamics': 1753, 'pharmacokinetics': 1754, 'pharmacology': 1755, 'phenology': 1756, 'philosophy-of-science': 1757, 'phone-wiring': 1758, 'phosphate': 1759, 'phosphorylation': 1760, 'photography': 1761, 'photoperiod': 1762, 'photosynthesis': 1763, 'phylogenetics': 1764, 'physiology': 1765, 'pickling': 1766, 'pid': 1767, 'pie': 1768, 'pier-blocks': 1769, 'pigmentation': 1770, 'pilot-light': 1771, 'pine': 1772, 'pineapple': 1773, 'pipe': 1774, 'pir': 1775, 'pita': 1776, 'pizza': 1777, 'pizza-stone': 1778, 'pkcs1': 1779, 'pkcs11': 1780, 'pkcs8': 1781, 'pki': 1782, 'placement': 1783, 'planning': 1784, 'planning-permission': 1785, 'plant-anatomy': 1786, 'plant-perception': 1787, 'plant-physiology': 1788, 'planting': 1789, 'plasma-membrane': 1790, 'plasmids': 1791, 'plaster': 1792, 'plastic': 1793, 'plasticity': 1794, 'platform': 1795, 'plating': 1796, 'plausible-deniability': 1797, 'play-structures': 1798, 'playfair': 1799, 'please-remove-this-tag': 1800, 'plumbing': 1801, 'plumbing-fixture': 1802, 'plums': 1803, 'plywood': 1804, 'poaching': 1805, 'pocket-door': 1806, 'pohlig-hellman': 1807, 'poison': 1808, 'pole': 1809, 'polenta': 1810, 'polish-cuisine': 1811, 'pollard-rho': 1812, 'poly1305': 1813, 'polymerase': 1814, 'polyploidy': 1815, 'polyurethane': 1816, 'pomegranate': 1817, 'pond': 1818, 'pool': 1819, 'pop-rocks': 1820, 'popcorn': 1821, 'population-biology': 1822, 'population-dynamics': 1823, 'population-genetics': 1824, 'porch': 1825, 'porch-swing': 1826, 'pork': 1827, 'pork-belly': 1828, 'pork-chops': 1829, 'pork-shoulder': 1830, 'porridge': 1831, 'pose': 1832, 'post': 1833, 'post-quantum-cryptography': 1834, 'pot': 1835, 'pot-pie': 1836, 'pot-roast': 1837, 'potatoes': 1838, 'poultry': 1839, 'power': 1840, 'power-backup': 1841, 'powertools': 1842, 'precautions': 1843, 'precise-positioning': 1844, 'predation': 1845, 'predicate-encryption': 1846, 'prefab': 1847, 'pregnancy': 1848, 'preimage-resistance': 1849, 'preparation': 1850, 'prepping': 1851, 'present': 1852, 'presentation': 1853, 'pressure-canner': 1854, 'pressure-cooker': 1855, 'pressure-treated': 1856, 'pretzels': 1857, 'prime-field': 1858, 'prime-numbers': 1859, 'primer': 1860, 'prion': 1861, 'private-set-intersection': 1862, 'probabilistic-encryption': 1863, 'probability': 1864, 'produce': 1865, 'product-of-exponentials': 1866, 'product-recommendation': 1867, 'product-review': 1868, 'professional': 1869, 'programming-languages': 1870, 'projector': 1871, 'prokaryotes': 1872, 'prokaryotic-cells': 1873, 'proof-of-work': 1874, 'proofing': 1875, 'propane': 1876, 'propane-grill': 1877, 'propulsion': 1878, 'protection': 1879, 'protein-binding': 1880, 'protein-engineering': 1881, 'protein-evolution': 1882, 'protein-expression': 1883, 'protein-folding': 1884, 'protein-interaction': 1885, 'protein-structure': 1886, 'proteins': 1887, 'proteomics': 1888, 'protocol': 1889, 'protocol-analysis': 1890, 'protocol-design': 1891, 'provable-security': 1892, 'proxy-re-encryption': 1893, 'pseudo-random-function': 1894, 'pseudo-random-generator': 1895, 'pseudo-random-permutation': 1896, 'pseudogenes': 1897, 'psychology': 1898, 'psychoneuropharmacology': 1899, 'psychophysics': 1900, 'public-key': 1901, 'publication': 1902, 'publishing': 1903, 'pudding': 1904, 'puff-pastry': 1905, 'pulmonology': 1906, 'pulses': 1907, 'pump': 1908, 'pumpkin': 1909, 'puree': 1910, 'purification': 1911, 'pushfit': 1912, 'putty': 1913, 'pvc': 1914, 'pwm': 1915, 'pymol': 1916, 'python': 1917, 'quadcopter': 1918, 'quadratic-residuosity': 1919, 'quadrature-encoder': 1920, 'quantitative-genetics': 1921, 'quantum-cryptography': 1922, 'quartz': 1923, 'quiche': 1924, 'quickbread': 1925, 'quietrock': 1926, 'quinoa': 1927, 'quorum-sensing': 1928, 'rabbit': 1929, 'rabin-cryptosystem': 1930, 'radiant-barrier': 1931, 'radiant-heating': 1932, 'radiation': 1933, 'radiator': 1934, 'radio-control': 1935, 'radon': 1936, 'railing': 1937, 'rain': 1938, 'rainbow-table': 1939, 'ramen': 1940, 'ramp': 1941, 'random-number-generator': 1942, 'random-oracle-model': 1943, 'randomness': 1944, 'range': 1945, 'rangefinder': 1946, 'ransac': 1947, 'ransomware': 1948, 'raspberries': 1949, 'raspberry-pi': 1950, 'ratio': 1951, 'ravioli': 1952, 'raw': 1953, 'raw-meat': 1954, 'rc2': 1955, 'rc4': 1956, 'rc6': 1957, 'rcservo': 1958, 'real-time': 1959, 'rebar': 1960, 'receptacle': 1961, 'receptor': 1962, 'recessed-lighting': 1963, 'recipe-scaling': 1964, 'recombinant': 1965, 'recombination': 1966, 'recycling': 1967, 'red-blood-cell': 1968, 'reduction': 1969, 'reference-request': 1970, 'reflexes': 1971, 'refrigerator': 1972, 'regeneration': 1973, 'register': 1974, 'reheating': 1975, 'reinforcement-learning': 1976, 'reliability': 1977, 'relocating': 1978, 'remodeling': 1979, 'remote-data-checking': 1980, 'removal': 1981, 'remove': 1982, 'renal-physiology': 1983, 'render': 1984, 'renovation': 1985, 'rental': 1986, 'repainting': 1987, 'repair': 1988, 'replacement': 1989, 'replay-attack': 1990, 'replication': 1991, 'reprap': 1992, 'reproduction': 1993, 'reproductive-biology': 1994, 'reptile': 1995, 'research': 1996, 'research-design': 1997, 'research-process': 1998, 'research-tools': 1999, 'resistor': 2000, 'resources': 2001, 'respiration': 2002, 'restaurant': 2003, 'restaurant-mimicry': 2004, 'restriction-enzymes': 2005, 'retaining-wall': 2006, 'retrofit': 2007, 'retrovirus': 2008, 'reuse': 2009, 'reverse-genetics': 2010, 'reverse-transcription': 2011, 'review': 2012, 'rewire': 2013, 'rhubarb': 2014, 'ribosome': 2015, 'ribs': 2016, 'rice': 2017, 'rice-cooker': 2018, 'rice-wine': 2019, 'rijndael': 2020, 'ring-main': 2021, 'ripe': 2022, 'ripemd': 2023, 'rising': 2024, 'risotto': 2025, 'rivets': 2026, 'rna': 2027, 'rna-interference': 2028, 'rna-sequencing': 2029, 'roast': 2030, 'roast-beef': 2031, 'roasting': 2032, 'robotc': 2033, 'roboti-arm': 2034, 'robotic-arm': 2035, 'rock': 2036, 'rocket': 2037, 'rodents': 2038, 'rolling': 2039, 'rolls': 2040, 'romanian-cuisine': 2041, 'roof': 2042, 'roofing': 2043, 'roomba': 2044, 'root': 2045, 'rope-knots': 2046, 'ros': 2047, 'rotation': 2048, 'rough-in': 2049, 'routers': 2050, 'routing': 2051, 'roux': 2052, 'rrna': 2053, 'rrt': 2054, 'rs232': 2055, 'rsa': 2056, 'rsa-pss': 2057, 'rsap': 2058, 'rtfm': 2059, 'rubber': 2060, 'rum': 2061, 'russian-cuisine': 2062, 'rust-proofing': 2063, 'rust-removal': 2064, 'rye': 2065, 's-boxes': 2066, 's-des': 2067, 's-mime': 2068, 'saddle-valve': 2069, 'safe-prime': 2070, 'safety': 2071, 'saffron': 2072, 'salad': 2073, 'salad-dressing': 2074, 'salami': 2075, 'saliva': 2076, 'salmon': 2077, 'salmonella': 2078, 'salsa': 2079, 'salsa20': 2080, 'salt': 2081, 'sander': 2082, 'sanding': 2083, 'sandwich': 2084, 'sar': 2085, 'sardines': 2086, 'sashimi': 2087, 'sat': 2088, 'sauce': 2089, 'sauerkraut': 2090, 'sauna': 2091, 'sausages': 2092, 'sauteing': 2093, 'saving-money': 2094, 'saw': 2095, 'scales': 2096, 'scallops': 2097, 'scatology': 2098, 'schnorr-identification': 2099, 'schnorr-signature': 2100, 'science': 2101, 'scientific-literature': 2102, 'scottish-cuisine': 2103, 'scrambled-eggs': 2104, 'scratches': 2105, 'screens': 2106, 'screwdriver': 2107, 'screws': 2108, 'scrypt': 2109, 'sds-page': 2110, 'seafood': 2111, 'seal': 2112, 'sealant': 2113, 'sealer': 2114, 'sealing': 2115, 'searchable-encryption': 2116, 'searing': 2117, 'seasonal': 2118, 'seasoning': 2119, 'seasoning-pans': 2120, 'secret-sharing': 2121, 'secure-index': 2122, 'secure-storage': 2123, 'security': 2124, 'security-definition': 2125, 'seeds': 2126, 'seitan': 2127, 'selection': 2128, 'self-assembly-furniture': 2129, 'self-leveling-concrete': 2130, 'semantic-security': 2131, 'senescence': 2132, 'sensation': 2133, 'senses': 2134, 'sensor-error': 2135, 'sensor-fusion': 2136, 'sensors': 2137, 'sensory-systems': 2138, 'separating': 2139, 'sepsis': 2140, 'septic': 2141, 'septic-tanks': 2142, 'sequence-alignment': 2143, 'sequence-analysis': 2144, 'sequence-assembly': 2145, 'serbian-cuisine': 2146, 'serial': 2147, 'serotonin': 2148, 'serpent': 2149, 'service': 2150, 'serving': 2151, 'serving-suggestion': 2152, 'servomotor': 2153, 'servos': 2154, 'severe-weather': 2155, 'sewer': 2156, 'sex': 2157, 'sex-chromosome': 2158, 'sex-determination': 2159, 'sex-ratio': 2160, 'sexual-dimorphism': 2161, 'sexual-reproduction': 2162, 'sexual-selection': 2163, 'sexuality': 2164, 'sha-1': 2165, 'sha-2': 2166, 'sha-256': 2167, 'sha-3': 2168, 'sha-3-competition': 2169, 'sha-512': 2170, 'shacal-2': 2171, 'shades': 2172, 'shallots': 2173, 'shamir-secret-sharing': 2174, 'sharpening': 2175, 'sheathing': 2176, 'shed': 2177, 'sheetrock': 2178, 'shellac': 2179, 'shellfish': 2180, 'shelving': 2181, 'shingles': 2182, 'shopping': 2183, 'shortcuts': 2184, 'shortening': 2185, 'shower': 2186, 'shrimp': 2187, 'shutoff': 2188, 'shutters': 2189, 'side-channel-attack': 2190, 'sidewalk': 2191, 'siding': 2192, 'sieve': 2193, 'sifting': 2194, 'signal-processing': 2195, 'signalling': 2196, 'signature': 2197, 'silicone': 2198, 'sill': 2199, 'silver': 2200, 'simon': 2201, 'simulation': 2202, 'simulator': 2203, 'sink': 2204, 'sinkhole': 2205, 'sip': 2206, 'siphash': 2207, 'sirs': 2208, 'siv': 2209, 'skein': 2210, 'skewers': 2211, 'skillet': 2212, 'skin': 2213, 'skipjack': 2214, 'skirting': 2215, 'skylight': 2216, 'slab': 2217, 'slam': 2218, 'sleep': 2219, 'slides': 2220, 'sliding-glass-door': 2221, 'slope': 2222, 'slow-cooking': 2223, 'small-rnaseq': 2224, 'smartcard': 2225, 'smell': 2226, 'smoke-detectors': 2227, 'smoke-flavor': 2228, 'smoking': 2229, 'smoothie': 2230, 'snacks': 2231, 'snail': 2232, 'snake': 2233, 'snake-oil-cryptography': 2234, 'snow': 2235, 'snp': 2236, 'soaking': 2237, 'soap-dispenser': 2238, 'soccer': 2239, 'sociality': 2240, 'sociobiology': 2241, 'socket': 2242, 'soda': 2243, 'sodium': 2244, 'soffit': 2245, 'software': 2246, 'software-obfuscation': 2247, 'soil': 2248, 'solar': 2249, 'solar-panels': 2250, 'solar-thermal': 2251, 'solar-tubes': 2252, 'solder': 2253, 'soldering': 2254, 'sonar': 2255, 'sorbet': 2256, 'souffle': 2257, 'sound-proofing': 2258, 'sounds': 2259, 'soup': 2260, 'sour-cream': 2261, 'sourdough': 2262, 'sourdough-starter': 2263, 'sous-vide': 2264, 'soy': 2265, 'soymilk': 2266, 'spackle': 2267, 'spackling-paste': 2268, 'spaghetti': 2269, 'span-tables': 2270, 'spanish-cuisine': 2271, 'speakers': 2272, 'speciation': 2273, 'species': 2274, 'species-distribution': 2275, 'species-identification': 2276, 'speck': 2277, 'speculative': 2278, 'speech-processing': 2279, 'spherification': 2280, 'spices': 2281, 'spicy-hot': 2282, 'spinach': 2283, 'spliceosome': 2284, 'splicing': 2285, 'spoilage': 2286, 'sponge': 2287, 'sponge-cake': 2288, 'spout': 2289, 'spray': 2290, 'spray-foam': 2291, 'spray-paint': 2292, 'spraying': 2293, 'spraypainting': 2294, 'sprinkler-system': 2295, 'sprinkles': 2296, 'sprouting': 2297, 'squash': 2298, 'squeak': 2299, 'squid': 2300, 'srp': 2301, 'ssh': 2302, 'sstp': 2303, 'stability': 2304, 'stain': 2305, 'stain-removal': 2306, 'staining': 2307, 'stainless': 2308, 'stainless-steel': 2309, 'stairs': 2310, 'stand-mixer': 2311, 'standards': 2312, 'starch': 2313, 'starter': 2314, 'statistical-test': 2315, 'statistics': 2316, 'steak': 2317, 'steam': 2318, 'steamed-pudding': 2319, 'steaming': 2320, 'steel': 2321, 'steering': 2322, 'steganography': 2323, 'stem-cells': 2324, 'stepper-driver': 2325, 'stepper-motor': 2326, 'steps': 2327, 'stereo-vision': 2328, 'sterilisation': 2329, 'stews': 2330, 'sticky-rice': 2331, 'stir-fry': 2332, 'stock': 2333, 'stomach': 2334, 'stone': 2335, 'stoneware': 2336, 'storage': 2337, 'storage-lifetime': 2338, 'storage-method': 2339, 'storm-door': 2340, 'stove': 2341, 'stove-top': 2342, 'straining': 2343, 'strawberries': 2344, 'stream-cipher': 2345, 'stress': 2346, 'stretching-spring': 2347, 'structural': 2348, 'structural-biology': 2349, 'structure': 2350, 'structure-prediction': 2351, 'stucco': 2352, 'stuck': 2353, 'studs': 2354, 'stuffing': 2355, 'subfloor': 2356, 'subpanel': 2357, 'substitution-cipher': 2358, 'substitutions': 2359, 'sugar': 2360, 'sugar-free': 2361, 'sump-pump': 2362, 'sunchokes': 2363, 'sunroom': 2364, 'support': 2365, 'surface-mount': 2366, 'surge-suppression': 2367, 'surgery': 2368, 'sushi': 2369, 'swarm': 2370, 'sweet-potatoes': 2371, 'sweeteners': 2372, 'swiss-roll': 2373, 'switch': 2374, 'symbiosis': 2375, 'symmetric': 2376, 'synapses': 2377, 'synestesia': 2378, 'synthetic-biology': 2379, 'syrup': 2380, 'syskit': 2381, 'systems-biology': 2382, 't7-promoter': 2383, 'table': 2384, 'table-saw': 2385, 'taffy': 2386, 'tahini': 2387, 'tamales': 2388, 'tamarind': 2389, 'tankless': 2390, 'taping': 2391, 'taps': 2392, 'tart': 2393, 'tartare': 2394, 'taste': 2395, 'tasting': 2396, 'taxonomy': 2397, 'tcga': 2398, 'tea': 2399, 'technique': 2400, 'teeth': 2401, 'teflon': 2402, 'telephone': 2403, 'television': 2404, 'telomere': 2405, 'temperature': 2406, 'tempering': 2407, 'temporary': 2408, 'tenderizing': 2409, 'teratology': 2410, 'terminology': 2411, 'termite': 2412, 'territoriality': 2413, 'test-vectors': 2414, 'testing': 2415, 'texture': 2416, 'thai': 2417, 'thai-cuisine': 2418, 'thanksgiving': 2419, 'thawing': 2420, 'theoretical-biology': 2421, 'theory': 2422, 'thermocouple': 2423, 'thermodynamics': 2424, 'thermometer': 2425, 'thermophilia': 2426, 'thermostat': 2427, 'thermostat-c-wire': 2428, 'thickening': 2429, 'thickness': 2430, 'thinset': 2431, 'three-pass-protocol': 2432, 'threefish': 2433, 'threshold-cryptography': 2434, 'tilapia': 2435, 'tile': 2436, 'tiling': 2437, 'timber-framing': 2438, 'timed-release': 2439, 'timer': 2440, 'timestamping': 2441, 'timing': 2442, 'timing-attack': 2443, 'tissue': 2444, 'tissue-repair': 2445, 'tls': 2446, 'toaster': 2447, 'toasting': 2448, 'toffee': 2449, 'tofu': 2450, 'toilet': 2451, 'tokenization': 2452, 'tomatoes': 2453, 'tongue-and-groove': 2454, 'tools': 2455, 'torque': 2456, 'tortilla': 2457, 'tortilla-chips': 2458, 'tortilla-press': 2459, 'torx': 2460, 'touch': 2461, 'toxicology': 2462, 'tracks': 2463, 'traditional': 2464, 'traffic-analysis': 2465, 'traitor-tracing': 2466, 'transcription': 2467, 'transcription-factor': 2468, 'transdermal': 2469, 'transfection': 2470, 'transfer-switch': 2471, 'transformation': 2472, 'transformer': 2473, 'transfusion': 2474, 'transition': 2475, 'translation': 2476, 'transplantation': 2477, 'transport-security': 2478, 'transportation': 2479, 'transposition-cipher': 2480, 'trapdoor': 2481, 'trash-can': 2482, 'travertine': 2483, 'treatment': 2484, 'tree': 2485, 'treehouse': 2486, 'trees': 2487, 'trench': 2488, 'trim': 2489, 'trim-carpentry': 2490, 'troubleshooting': 2491, 'truecrypt': 2492, 'truffles': 2493, 'truss': 2494, 'trusted-platform-module': 2495, 'tub': 2496, 'tuberculosis': 2497, 'tumeric': 2498, 'tumor': 2499, 'tuna': 2500, 'tuning': 2501, 'turf': 2502, 'turkey': 2503, 'turkish-cuisine': 2504, 'tv': 2505, 'tv-antenna': 2506, 'tweakable-cipher': 2507, 'twins': 2508, 'two-wheeled': 2509, 'twofish': 2510, 'tzatziki': 2511, 'u-prove': 2512, 'uav': 2513, 'ugv': 2514, 'uht': 2515, 'uk': 2516, 'ultrasonic-sensors': 2517, 'ultrasound': 2518, 'uncanny-valley': 2519, 'underground': 2520, 'underlayment': 2521, 'underwater': 2522, 'unicity-distance': 2523, 'units': 2524, 'universal-composability': 2525, 'universal-hash': 2526, 'universal-re-encryption': 2527, 'unlinkability': 2528, 'untagged': 2529, 'upholstery': 2530, 'usb': 2531, 'utensils': 2532, 'utilities': 2533, 'uv': 2534, 'uv-exposure': 2535, 'vaccination': 2536, 'vacuum': 2537, 'valve': 2538, 'vanilla': 2539, 'vanity': 2540, 'vapor-barrier': 2541, 'variant': 2542, 'varnishing': 2543, 'veal': 2544, 'vector-field-histogram': 2545, 'vegan': 2546, 'vegetable': 2547, 'vegetables': 2548, 'vegetarian': 2549, 'vegetarianism': 2550, 'vegetation': 2551, 'veins': 2552, 'veneer': 2553, 'venison': 2554, 'vent': 2555, 'ventilation': 2556, 'venting': 2557, 'ventricles': 2558, 'verifiability': 2559, 'vertebrates': 2560, 'vessel': 2561, 'vestigial': 2562, 'veterinary-medicine': 2563, 'vex': 2564, 'vfh': 2565, 'vibration': 2566, 'vietnamese-cuisine': 2567, 'vigenere': 2568, 'vinegar': 2569, 'vinyl': 2570, 'vinyl-flooring': 2571, 'vinyl-siding': 2572, 'virology': 2573, 'virus': 2574, 'vision': 2575, 'visual-cryptography': 2576, 'visual-servoing': 2577, 'visual-system': 2578, 'visualization': 2579, 'vital-wheat-gluten': 2580, 'vitamins': 2581, 'voc': 2582, 'vocabulary': 2583, 'vodka': 2584, 'voip': 2585, 'voting': 2586, 'waffle': 2587, 'wainscoting': 2588, 'walk': 2589, 'walking-robot': 2590, 'walkway': 2591, 'wallpaper': 2592, 'walls': 2593, 'wasabi': 2594, 'wash': 2595, 'washer': 2596, 'washing-machine': 2597, 'wasps': 2598, 'waste-disposal': 2599, 'water': 2600, 'water-circulating-heating': 2601, 'water-damage': 2602, 'water-filtration': 2603, 'water-hammer': 2604, 'water-heater': 2605, 'water-meter': 2606, 'water-pressure': 2607, 'water-purification': 2608, 'water-quality': 2609, 'water-softener': 2610, 'water-tank': 2611, 'water-treatment': 2612, 'watering': 2613, 'watermelon': 2614, 'waterproofing': 2615, 'weather-resistant': 2616, 'weatherstripping': 2617, 'websites': 2618, 'weeds': 2619, 'weep-hole': 2620, 'welding': 2621, 'well': 2622, 'well-pump': 2623, 'western-blot': 2624, 'wet': 2625, 'wheat': 2626, 'wheel': 2627, 'wheeled-robot': 2628, 'whipped-cream': 2629, 'whipper': 2630, 'whiskey': 2631, 'white-box': 2632, 'wifi': 2633, 'wind': 2634, 'windmill': 2635, 'windows': 2636, 'wine': 2637, 'winter': 2638, 'winterizing': 2639, 'wire': 2640, 'wireless': 2641, 'wiring': 2642, 'wok': 2643, 'wood': 2644, 'wood-filler': 2645, 'wood-finish': 2646, 'wood-finishing': 2647, 'wooden-furniture': 2648, 'woodstove': 2649, 'woodworking': 2650, 'workshop': 2651, 'wpa2-psk': 2652, 'x25519': 2653, 'xml-encryption': 2654, 'xof': 2655, 'xor': 2656, 'xray-crystallography': 2657, 'xsalsa20': 2658, 'xts': 2659, 'yeast': 2660, 'yogurt': 2661, 'yolk': 2662, 'yorkshire-puddings': 2663, 'yurt': 2664, 'zero-knowledge-proofs': 2665, 'zoology': 2666, 'zucchini': 2667}\n"
          ]
        }
      ]
    },
    {
      "cell_type": "code",
      "metadata": {
        "id": "ja_RlVwLsiYY"
      },
      "source": [
        "dict_mat_uni_tags=np.zeros((len(all_data.tags),len(uni_tag)))\n",
        "for c, i in enumerate(all_data.tags):\n",
        "    for k, j in enumerate(i.split(' ')):\n",
        "        # print(dict_mat_uni_tags[c])\n",
        "        # print(k, j)\n",
        "        # print(c , dict_uni_tag[j])\n",
        "        dict_mat_uni_tags[c][dict_uni_tag[j]]=1"
      ],
      "execution_count": null,
      "outputs": []
    },
    {
      "cell_type": "code",
      "metadata": {
        "colab": {
          "base_uri": "https://localhost:8080/"
        },
        "id": "79uYgY5isiVq",
        "outputId": "91e497b5-4587-409f-c684-1fbf64848041"
      },
      "source": [
        "print(dict_mat_uni_tags[67681][0:500])\n",
        "print(dict_mat_uni_tags.shape)"
      ],
      "execution_count": null,
      "outputs": [
        {
          "output_type": "stream",
          "name": "stdout",
          "text": [
            "[0. 0. 0. 0. 0. 0. 0. 0. 0. 0. 0. 0. 0. 0. 0. 0. 0. 0. 0. 0. 0. 0. 0. 0.\n",
            " 0. 0. 0. 0. 0. 0. 0. 0. 0. 0. 0. 0. 0. 0. 0. 0. 0. 0. 0. 0. 0. 0. 0. 0.\n",
            " 0. 0. 0. 0. 0. 0. 0. 0. 0. 0. 0. 0. 0. 0. 0. 0. 0. 0. 0. 0. 0. 0. 0. 0.\n",
            " 0. 0. 0. 0. 0. 0. 0. 0. 0. 0. 0. 0. 0. 0. 0. 0. 0. 0. 0. 0. 0. 0. 0. 0.\n",
            " 0. 0. 0. 0. 0. 0. 0. 0. 0. 0. 0. 0. 0. 0. 0. 0. 0. 0. 0. 0. 0. 0. 0. 0.\n",
            " 0. 0. 0. 0. 0. 0. 0. 0. 0. 0. 0. 0. 0. 0. 0. 0. 0. 0. 0. 0. 0. 0. 0. 0.\n",
            " 0. 0. 0. 0. 0. 0. 0. 0. 0. 0. 0. 0. 0. 0. 0. 0. 0. 0. 0. 0. 0. 0. 0. 0.\n",
            " 0. 0. 0. 0. 0. 0. 0. 0. 0. 0. 0. 0. 0. 0. 0. 0. 0. 0. 0. 0. 0. 0. 0. 0.\n",
            " 0. 0. 0. 0. 0. 0. 0. 0. 0. 0. 0. 0. 0. 0. 0. 0. 0. 0. 0. 0. 0. 0. 0. 0.\n",
            " 0. 0. 0. 0. 0. 0. 0. 0. 0. 0. 0. 0. 0. 0. 0. 0. 0. 0. 0. 0. 0. 0. 0. 0.\n",
            " 0. 0. 0. 0. 0. 0. 0. 0. 0. 0. 0. 0. 0. 0. 0. 0. 0. 0. 0. 0. 0. 0. 0. 0.\n",
            " 0. 0. 0. 0. 0. 0. 0. 0. 0. 0. 0. 0. 0. 0. 0. 0. 0. 0. 0. 0. 0. 0. 0. 0.\n",
            " 0. 0. 0. 0. 0. 0. 0. 0. 0. 1. 0. 0. 0. 0. 0. 0. 0. 0. 0. 0. 0. 0. 0. 0.\n",
            " 0. 0. 0. 0. 0. 0. 0. 0. 0. 0. 0. 0. 0. 0. 0. 0. 0. 0. 0. 0. 0. 0. 0. 0.\n",
            " 0. 0. 0. 0. 0. 0. 0. 0. 0. 0. 0. 0. 0. 0. 0. 0. 0. 0. 0. 0. 0. 0. 0. 0.\n",
            " 0. 0. 0. 0. 0. 0. 0. 0. 0. 0. 0. 0. 0. 0. 0. 0. 0. 0. 0. 0. 0. 0. 0. 0.\n",
            " 0. 0. 0. 0. 0. 0. 0. 0. 0. 0. 0. 0. 0. 0. 0. 0. 0. 0. 0. 0. 0. 0. 0. 0.\n",
            " 0. 0. 0. 0. 0. 0. 0. 0. 0. 0. 0. 0. 0. 0. 0. 0. 0. 0. 0. 0. 0. 0. 0. 0.\n",
            " 0. 0. 0. 0. 0. 0. 0. 0. 0. 0. 0. 0. 0. 0. 0. 0. 0. 0. 0. 0. 0. 0. 0. 0.\n",
            " 0. 0. 0. 0. 0. 0. 0. 0. 0. 0. 0. 0. 0. 0. 0. 0. 0. 0. 0. 0. 0. 0. 0. 0.\n",
            " 0. 0. 0. 0. 0. 0. 0. 0. 0. 0. 0. 0. 0. 0. 0. 0. 0. 0. 0. 0.]\n",
            "(67721, 2668)\n"
          ]
        }
      ]
    },
    {
      "cell_type": "code",
      "metadata": {
        "id": "f5Nu5opd-UEN"
      },
      "source": [
        "import tensorflow as tf\n",
        "import tensorflow.keras as keras\n",
        "from sklearn.model_selection import train_test_split as tts\n",
        "from keras import backend as K"
      ],
      "execution_count": null,
      "outputs": []
    },
    {
      "cell_type": "code",
      "metadata": {
        "id": "HXOZpZdE-xsb"
      },
      "source": [
        "@tf.function\n",
        "def round_layer(tensor):\n",
        "    if tensor >= 0.5:\n",
        "        tensor = 1\n",
        "    else:\n",
        "        tensor = 0\n",
        "    # return round(tensor)\n",
        "    return tensor\n",
        "def create_model(max_seq_lenght,uni_tag,vocab_size):\n",
        "    input = tf.keras.layers.Input(shape=(max_seq_lenght), dtype=tf.int32, name='input')\n",
        "\n",
        "    # hiden = tf.keras.layers.Embedding(vocab_size,500)(input)\n",
        "    # hiden = tf.keras.layers.LSTM(300,return_sequences=True)(hiden)\n",
        "    hiden = tf.keras.layers.Dense(300)(input)\n",
        "\n",
        "    hiden = tf.keras.layers.Dense(124,activation='relu')(hiden)\n",
        "\n",
        "    drop = tf.keras.layers.Dropout(0.4)(hiden)\n",
        "\n",
        "    # hiden2 = tf.keras.layers.LSTM(300, return_sequences=False)(drop)\n",
        "    hiden2 = tf.keras.layers.Dense(300)(drop)\n",
        "    hiden2 = tf.keras.layers.Dense(124,activation='relu')(hiden2)\n",
        "\n",
        "    output = tf.keras.layers.Dense(len(uni_tag), activation='sigmoid' ,name='output')(hiden2)\n",
        "    # output = tf.keras.layers.Lambda(round_layer, name='output')(output)\n",
        "    # output = tf.keras.layers.Lambda(lambda x: K.round(x),name='output')(output)\n",
        "    model = tf.keras.Model(inputs = input,\n",
        "                           outputs = output)\n",
        "    return model"
      ],
      "execution_count": null,
      "outputs": []
    },
    {
      "cell_type": "code",
      "metadata": {
        "colab": {
          "base_uri": "https://localhost:8080/"
        },
        "id": "Tq3XmXzE-xqT",
        "outputId": "b1115442-5ab3-4621-c247-840df8e3436e"
      },
      "source": [
        "max_seq_lenght=500\n",
        "model = create_model(max_seq_lenght, uni_tag, vocab_size)\n",
        "model.compile(optimizer=tf.keras.optimizers.Adam(learning_rate=2e-5),\n",
        "              loss=tf.keras.losses.binary_crossentropy,\n",
        "              metrics=[tf.keras.metrics.binary_accuracy])\n",
        "model.summary()"
      ],
      "execution_count": null,
      "outputs": [
        {
          "output_type": "stream",
          "name": "stdout",
          "text": [
            "Model: \"model_1\"\n",
            "_________________________________________________________________\n",
            "Layer (type)                 Output Shape              Param #   \n",
            "=================================================================\n",
            "input (InputLayer)           [(None, 500)]             0         \n",
            "_________________________________________________________________\n",
            "dense_5 (Dense)              (None, 300)               150300    \n",
            "_________________________________________________________________\n",
            "dense_6 (Dense)              (None, 124)               37324     \n",
            "_________________________________________________________________\n",
            "dropout_1 (Dropout)          (None, 124)               0         \n",
            "_________________________________________________________________\n",
            "dense_7 (Dense)              (None, 300)               37500     \n",
            "_________________________________________________________________\n",
            "dense_8 (Dense)              (None, 124)               37324     \n",
            "_________________________________________________________________\n",
            "output (Dense)               (None, 2668)              333500    \n",
            "=================================================================\n",
            "Total params: 595,948\n",
            "Trainable params: 595,948\n",
            "Non-trainable params: 0\n",
            "_________________________________________________________________\n"
          ]
        }
      ]
    },
    {
      "cell_type": "code",
      "metadata": {
        "colab": {
          "base_uri": "https://localhost:8080/",
          "height": 441
        },
        "id": "NwtO3HL8-xn8",
        "outputId": "0b362d00-1837-4dfb-974a-049070f3896a"
      },
      "source": [
        "tf.keras.utils.plot_model(model=model, show_shapes=True, dpi=48)"
      ],
      "execution_count": null,
      "outputs": [
        {
          "output_type": "execute_result",
          "data": {
            "image/png": "[encoded data removed]",
            "text/plain": [
              "<IPython.core.display.Image object>"
            ]
          },
          "metadata": {},
          "execution_count": 19
        }
      ]
    },
    {
      "cell_type": "code",
      "metadata": {
        "id": "eSxAHh3q_UGw"
      },
      "source": [
        "# print(train_x)\n",
        "# print(train_y)\n",
        "# print(test_x)\n",
        "for i in test_y:\n",
        "    print(np.where(i==1))\n"
      ],
      "execution_count": null,
      "outputs": []
    },
    {
      "cell_type": "code",
      "metadata": {
        "colab": {
          "base_uri": "https://localhost:8080/",
          "height": 844
        },
        "id": "qQ3Eik-F-xlg",
        "outputId": "0f1858d7-6b7e-4d9a-9176-aaaaba1573dc"
      },
      "source": [
        "train_x, test_x = tts(pad_mat_uni_all_data)\n",
        "train_y, test_y = tts(dict_mat_uni_tags,)\n",
        "# train_x, test_x = pad_mat_uni_all_data[:int(len(pad_mat_uni_all_data)*0.8)], pad_mat_uni_all_data[int(len(pad_mat_uni_all_data)*0.8):]\n",
        "# train_y, test_y =  dict_mat_uni_tags[:int(len(dict_mat_uni_tags)*0.8)], dict_mat_uni_tags[int(len(dict_mat_uni_tags)*0.8):]\n",
        "epochs = 6\n",
        "print(np.array(train_x).shape)\n",
        "print(train_y.shape)\n",
        "print(np.where(train_y[2]==1))\n",
        "hisroty = model.fit(train_x,train_y,\n",
        "                    validation_data=(test_x,test_y),\n",
        "                    epochs=epochs,\n",
        "                    verbose=1)"
      ],
      "execution_count": null,
      "outputs": [
        {
          "output_type": "stream",
          "name": "stdout",
          "text": [
            "(50790, 500)\n",
            "(50790, 2668)\n",
            "(array([1832, 2047]),)\n",
            "Epoch 1/6\n"
          ]
        },
        {
          "output_type": "error",
          "ename": "ValueError",
          "evalue": "ignored",
          "traceback": [
            "\u001b[0;31m---------------------------------------------------------------------------\u001b[0m",
            "\u001b[0;31mValueError\u001b[0m                                Traceback (most recent call last)",
            "\u001b[0;32m<ipython-input-22-ef8120410730>\u001b[0m in \u001b[0;36m<module>\u001b[0;34m()\u001b[0m\n\u001b[1;32m     10\u001b[0m                     \u001b[0mvalidation_data\u001b[0m\u001b[0;34m=\u001b[0m\u001b[0;34m(\u001b[0m\u001b[0mtest_x\u001b[0m\u001b[0;34m,\u001b[0m\u001b[0mtest_y\u001b[0m\u001b[0;34m)\u001b[0m\u001b[0;34m,\u001b[0m\u001b[0;34m\u001b[0m\u001b[0;34m\u001b[0m\u001b[0m\n\u001b[1;32m     11\u001b[0m                     \u001b[0mepochs\u001b[0m\u001b[0;34m=\u001b[0m\u001b[0mepochs\u001b[0m\u001b[0;34m,\u001b[0m\u001b[0;34m\u001b[0m\u001b[0;34m\u001b[0m\u001b[0m\n\u001b[0;32m---> 12\u001b[0;31m                     verbose=1)\n\u001b[0m",
            "\u001b[0;32m/usr/local/lib/python3.7/dist-packages/keras/engine/training.py\u001b[0m in \u001b[0;36mfit\u001b[0;34m(self, x, y, batch_size, epochs, verbose, callbacks, validation_split, validation_data, shuffle, class_weight, sample_weight, initial_epoch, steps_per_epoch, validation_steps, validation_batch_size, validation_freq, max_queue_size, workers, use_multiprocessing)\u001b[0m\n\u001b[1;32m   1182\u001b[0m                 _r=1):\n\u001b[1;32m   1183\u001b[0m               \u001b[0mcallbacks\u001b[0m\u001b[0;34m.\u001b[0m\u001b[0mon_train_batch_begin\u001b[0m\u001b[0;34m(\u001b[0m\u001b[0mstep\u001b[0m\u001b[0;34m)\u001b[0m\u001b[0;34m\u001b[0m\u001b[0;34m\u001b[0m\u001b[0m\n\u001b[0;32m-> 1184\u001b[0;31m               \u001b[0mtmp_logs\u001b[0m \u001b[0;34m=\u001b[0m \u001b[0mself\u001b[0m\u001b[0;34m.\u001b[0m\u001b[0mtrain_function\u001b[0m\u001b[0;34m(\u001b[0m\u001b[0miterator\u001b[0m\u001b[0;34m)\u001b[0m\u001b[0;34m\u001b[0m\u001b[0;34m\u001b[0m\u001b[0m\n\u001b[0m\u001b[1;32m   1185\u001b[0m               \u001b[0;32mif\u001b[0m \u001b[0mdata_handler\u001b[0m\u001b[0;34m.\u001b[0m\u001b[0mshould_sync\u001b[0m\u001b[0;34m:\u001b[0m\u001b[0;34m\u001b[0m\u001b[0;34m\u001b[0m\u001b[0m\n\u001b[1;32m   1186\u001b[0m                 \u001b[0mcontext\u001b[0m\u001b[0;34m.\u001b[0m\u001b[0masync_wait\u001b[0m\u001b[0;34m(\u001b[0m\u001b[0;34m)\u001b[0m\u001b[0;34m\u001b[0m\u001b[0;34m\u001b[0m\u001b[0m\n",
            "\u001b[0;32m/usr/local/lib/python3.7/dist-packages/tensorflow/python/eager/def_function.py\u001b[0m in \u001b[0;36m__call__\u001b[0;34m(self, *args, **kwds)\u001b[0m\n\u001b[1;32m    883\u001b[0m \u001b[0;34m\u001b[0m\u001b[0m\n\u001b[1;32m    884\u001b[0m       \u001b[0;32mwith\u001b[0m \u001b[0mOptionalXlaContext\u001b[0m\u001b[0;34m(\u001b[0m\u001b[0mself\u001b[0m\u001b[0;34m.\u001b[0m\u001b[0m_jit_compile\u001b[0m\u001b[0;34m)\u001b[0m\u001b[0;34m:\u001b[0m\u001b[0;34m\u001b[0m\u001b[0;34m\u001b[0m\u001b[0m\n\u001b[0;32m--> 885\u001b[0;31m         \u001b[0mresult\u001b[0m \u001b[0;34m=\u001b[0m \u001b[0mself\u001b[0m\u001b[0;34m.\u001b[0m\u001b[0m_call\u001b[0m\u001b[0;34m(\u001b[0m\u001b[0;34m*\u001b[0m\u001b[0margs\u001b[0m\u001b[0;34m,\u001b[0m \u001b[0;34m**\u001b[0m\u001b[0mkwds\u001b[0m\u001b[0;34m)\u001b[0m\u001b[0;34m\u001b[0m\u001b[0;34m\u001b[0m\u001b[0m\n\u001b[0m\u001b[1;32m    886\u001b[0m \u001b[0;34m\u001b[0m\u001b[0m\n\u001b[1;32m    887\u001b[0m       \u001b[0mnew_tracing_count\u001b[0m \u001b[0;34m=\u001b[0m \u001b[0mself\u001b[0m\u001b[0;34m.\u001b[0m\u001b[0mexperimental_get_tracing_count\u001b[0m\u001b[0;34m(\u001b[0m\u001b[0;34m)\u001b[0m\u001b[0;34m\u001b[0m\u001b[0;34m\u001b[0m\u001b[0m\n",
            "\u001b[0;32m/usr/local/lib/python3.7/dist-packages/tensorflow/python/eager/def_function.py\u001b[0m in \u001b[0;36m_call\u001b[0;34m(self, *args, **kwds)\u001b[0m\n\u001b[1;32m    931\u001b[0m       \u001b[0;31m# This is the first call of __call__, so we have to initialize.\u001b[0m\u001b[0;34m\u001b[0m\u001b[0;34m\u001b[0m\u001b[0;34m\u001b[0m\u001b[0m\n\u001b[1;32m    932\u001b[0m       \u001b[0minitializers\u001b[0m \u001b[0;34m=\u001b[0m \u001b[0;34m[\u001b[0m\u001b[0;34m]\u001b[0m\u001b[0;34m\u001b[0m\u001b[0;34m\u001b[0m\u001b[0m\n\u001b[0;32m--> 933\u001b[0;31m       \u001b[0mself\u001b[0m\u001b[0;34m.\u001b[0m\u001b[0m_initialize\u001b[0m\u001b[0;34m(\u001b[0m\u001b[0margs\u001b[0m\u001b[0;34m,\u001b[0m \u001b[0mkwds\u001b[0m\u001b[0;34m,\u001b[0m \u001b[0madd_initializers_to\u001b[0m\u001b[0;34m=\u001b[0m\u001b[0minitializers\u001b[0m\u001b[0;34m)\u001b[0m\u001b[0;34m\u001b[0m\u001b[0;34m\u001b[0m\u001b[0m\n\u001b[0m\u001b[1;32m    934\u001b[0m     \u001b[0;32mfinally\u001b[0m\u001b[0;34m:\u001b[0m\u001b[0;34m\u001b[0m\u001b[0;34m\u001b[0m\u001b[0m\n\u001b[1;32m    935\u001b[0m       \u001b[0;31m# At this point we know that the initialization is complete (or less\u001b[0m\u001b[0;34m\u001b[0m\u001b[0;34m\u001b[0m\u001b[0;34m\u001b[0m\u001b[0m\n",
            "\u001b[0;32m/usr/local/lib/python3.7/dist-packages/tensorflow/python/eager/def_function.py\u001b[0m in \u001b[0;36m_initialize\u001b[0;34m(self, args, kwds, add_initializers_to)\u001b[0m\n\u001b[1;32m    758\u001b[0m     self._concrete_stateful_fn = (\n\u001b[1;32m    759\u001b[0m         self._stateful_fn._get_concrete_function_internal_garbage_collected(  # pylint: disable=protected-access\n\u001b[0;32m--> 760\u001b[0;31m             *args, **kwds))\n\u001b[0m\u001b[1;32m    761\u001b[0m \u001b[0;34m\u001b[0m\u001b[0m\n\u001b[1;32m    762\u001b[0m     \u001b[0;32mdef\u001b[0m \u001b[0minvalid_creator_scope\u001b[0m\u001b[0;34m(\u001b[0m\u001b[0;34m*\u001b[0m\u001b[0munused_args\u001b[0m\u001b[0;34m,\u001b[0m \u001b[0;34m**\u001b[0m\u001b[0munused_kwds\u001b[0m\u001b[0;34m)\u001b[0m\u001b[0;34m:\u001b[0m\u001b[0;34m\u001b[0m\u001b[0;34m\u001b[0m\u001b[0m\n",
            "\u001b[0;32m/usr/local/lib/python3.7/dist-packages/tensorflow/python/eager/function.py\u001b[0m in \u001b[0;36m_get_concrete_function_internal_garbage_collected\u001b[0;34m(self, *args, **kwargs)\u001b[0m\n\u001b[1;32m   3064\u001b[0m       \u001b[0margs\u001b[0m\u001b[0;34m,\u001b[0m \u001b[0mkwargs\u001b[0m \u001b[0;34m=\u001b[0m \u001b[0;32mNone\u001b[0m\u001b[0;34m,\u001b[0m \u001b[0;32mNone\u001b[0m\u001b[0;34m\u001b[0m\u001b[0;34m\u001b[0m\u001b[0m\n\u001b[1;32m   3065\u001b[0m     \u001b[0;32mwith\u001b[0m \u001b[0mself\u001b[0m\u001b[0;34m.\u001b[0m\u001b[0m_lock\u001b[0m\u001b[0;34m:\u001b[0m\u001b[0;34m\u001b[0m\u001b[0;34m\u001b[0m\u001b[0m\n\u001b[0;32m-> 3066\u001b[0;31m       \u001b[0mgraph_function\u001b[0m\u001b[0;34m,\u001b[0m \u001b[0m_\u001b[0m \u001b[0;34m=\u001b[0m \u001b[0mself\u001b[0m\u001b[0;34m.\u001b[0m\u001b[0m_maybe_define_function\u001b[0m\u001b[0;34m(\u001b[0m\u001b[0margs\u001b[0m\u001b[0;34m,\u001b[0m \u001b[0mkwargs\u001b[0m\u001b[0;34m)\u001b[0m\u001b[0;34m\u001b[0m\u001b[0;34m\u001b[0m\u001b[0m\n\u001b[0m\u001b[1;32m   3067\u001b[0m     \u001b[0;32mreturn\u001b[0m \u001b[0mgraph_function\u001b[0m\u001b[0;34m\u001b[0m\u001b[0;34m\u001b[0m\u001b[0m\n\u001b[1;32m   3068\u001b[0m \u001b[0;34m\u001b[0m\u001b[0m\n",
            "\u001b[0;32m/usr/local/lib/python3.7/dist-packages/tensorflow/python/eager/function.py\u001b[0m in \u001b[0;36m_maybe_define_function\u001b[0;34m(self, args, kwargs)\u001b[0m\n\u001b[1;32m   3461\u001b[0m \u001b[0;34m\u001b[0m\u001b[0m\n\u001b[1;32m   3462\u001b[0m           \u001b[0mself\u001b[0m\u001b[0;34m.\u001b[0m\u001b[0m_function_cache\u001b[0m\u001b[0;34m.\u001b[0m\u001b[0mmissed\u001b[0m\u001b[0;34m.\u001b[0m\u001b[0madd\u001b[0m\u001b[0;34m(\u001b[0m\u001b[0mcall_context_key\u001b[0m\u001b[0;34m)\u001b[0m\u001b[0;34m\u001b[0m\u001b[0;34m\u001b[0m\u001b[0m\n\u001b[0;32m-> 3463\u001b[0;31m           \u001b[0mgraph_function\u001b[0m \u001b[0;34m=\u001b[0m \u001b[0mself\u001b[0m\u001b[0;34m.\u001b[0m\u001b[0m_create_graph_function\u001b[0m\u001b[0;34m(\u001b[0m\u001b[0margs\u001b[0m\u001b[0;34m,\u001b[0m \u001b[0mkwargs\u001b[0m\u001b[0;34m)\u001b[0m\u001b[0;34m\u001b[0m\u001b[0;34m\u001b[0m\u001b[0m\n\u001b[0m\u001b[1;32m   3464\u001b[0m           \u001b[0mself\u001b[0m\u001b[0;34m.\u001b[0m\u001b[0m_function_cache\u001b[0m\u001b[0;34m.\u001b[0m\u001b[0mprimary\u001b[0m\u001b[0;34m[\u001b[0m\u001b[0mcache_key\u001b[0m\u001b[0;34m]\u001b[0m \u001b[0;34m=\u001b[0m \u001b[0mgraph_function\u001b[0m\u001b[0;34m\u001b[0m\u001b[0;34m\u001b[0m\u001b[0m\n\u001b[1;32m   3465\u001b[0m \u001b[0;34m\u001b[0m\u001b[0m\n",
            "\u001b[0;32m/usr/local/lib/python3.7/dist-packages/tensorflow/python/eager/function.py\u001b[0m in \u001b[0;36m_create_graph_function\u001b[0;34m(self, args, kwargs, override_flat_arg_shapes)\u001b[0m\n\u001b[1;32m   3306\u001b[0m             \u001b[0marg_names\u001b[0m\u001b[0;34m=\u001b[0m\u001b[0marg_names\u001b[0m\u001b[0;34m,\u001b[0m\u001b[0;34m\u001b[0m\u001b[0;34m\u001b[0m\u001b[0m\n\u001b[1;32m   3307\u001b[0m             \u001b[0moverride_flat_arg_shapes\u001b[0m\u001b[0;34m=\u001b[0m\u001b[0moverride_flat_arg_shapes\u001b[0m\u001b[0;34m,\u001b[0m\u001b[0;34m\u001b[0m\u001b[0;34m\u001b[0m\u001b[0m\n\u001b[0;32m-> 3308\u001b[0;31m             capture_by_value=self._capture_by_value),\n\u001b[0m\u001b[1;32m   3309\u001b[0m         \u001b[0mself\u001b[0m\u001b[0;34m.\u001b[0m\u001b[0m_function_attributes\u001b[0m\u001b[0;34m,\u001b[0m\u001b[0;34m\u001b[0m\u001b[0;34m\u001b[0m\u001b[0m\n\u001b[1;32m   3310\u001b[0m         \u001b[0mfunction_spec\u001b[0m\u001b[0;34m=\u001b[0m\u001b[0mself\u001b[0m\u001b[0;34m.\u001b[0m\u001b[0mfunction_spec\u001b[0m\u001b[0;34m,\u001b[0m\u001b[0;34m\u001b[0m\u001b[0;34m\u001b[0m\u001b[0m\n",
            "\u001b[0;32m/usr/local/lib/python3.7/dist-packages/tensorflow/python/framework/func_graph.py\u001b[0m in \u001b[0;36mfunc_graph_from_py_func\u001b[0;34m(name, python_func, args, kwargs, signature, func_graph, autograph, autograph_options, add_control_dependencies, arg_names, op_return_value, collections, capture_by_value, override_flat_arg_shapes, acd_record_initial_resource_uses)\u001b[0m\n\u001b[1;32m   1005\u001b[0m         \u001b[0m_\u001b[0m\u001b[0;34m,\u001b[0m \u001b[0moriginal_func\u001b[0m \u001b[0;34m=\u001b[0m \u001b[0mtf_decorator\u001b[0m\u001b[0;34m.\u001b[0m\u001b[0munwrap\u001b[0m\u001b[0;34m(\u001b[0m\u001b[0mpython_func\u001b[0m\u001b[0;34m)\u001b[0m\u001b[0;34m\u001b[0m\u001b[0;34m\u001b[0m\u001b[0m\n\u001b[1;32m   1006\u001b[0m \u001b[0;34m\u001b[0m\u001b[0m\n\u001b[0;32m-> 1007\u001b[0;31m       \u001b[0mfunc_outputs\u001b[0m \u001b[0;34m=\u001b[0m \u001b[0mpython_func\u001b[0m\u001b[0;34m(\u001b[0m\u001b[0;34m*\u001b[0m\u001b[0mfunc_args\u001b[0m\u001b[0;34m,\u001b[0m \u001b[0;34m**\u001b[0m\u001b[0mfunc_kwargs\u001b[0m\u001b[0;34m)\u001b[0m\u001b[0;34m\u001b[0m\u001b[0;34m\u001b[0m\u001b[0m\n\u001b[0m\u001b[1;32m   1008\u001b[0m \u001b[0;34m\u001b[0m\u001b[0m\n\u001b[1;32m   1009\u001b[0m       \u001b[0;31m# invariant: `func_outputs` contains only Tensors, CompositeTensors,\u001b[0m\u001b[0;34m\u001b[0m\u001b[0;34m\u001b[0m\u001b[0;34m\u001b[0m\u001b[0m\n",
            "\u001b[0;32m/usr/local/lib/python3.7/dist-packages/tensorflow/python/eager/def_function.py\u001b[0m in \u001b[0;36mwrapped_fn\u001b[0;34m(*args, **kwds)\u001b[0m\n\u001b[1;32m    666\u001b[0m         \u001b[0;31m# the function a weak reference to itself to avoid a reference cycle.\u001b[0m\u001b[0;34m\u001b[0m\u001b[0;34m\u001b[0m\u001b[0;34m\u001b[0m\u001b[0m\n\u001b[1;32m    667\u001b[0m         \u001b[0;32mwith\u001b[0m \u001b[0mOptionalXlaContext\u001b[0m\u001b[0;34m(\u001b[0m\u001b[0mcompile_with_xla\u001b[0m\u001b[0;34m)\u001b[0m\u001b[0;34m:\u001b[0m\u001b[0;34m\u001b[0m\u001b[0;34m\u001b[0m\u001b[0m\n\u001b[0;32m--> 668\u001b[0;31m           \u001b[0mout\u001b[0m \u001b[0;34m=\u001b[0m \u001b[0mweak_wrapped_fn\u001b[0m\u001b[0;34m(\u001b[0m\u001b[0;34m)\u001b[0m\u001b[0;34m.\u001b[0m\u001b[0m__wrapped__\u001b[0m\u001b[0;34m(\u001b[0m\u001b[0;34m*\u001b[0m\u001b[0margs\u001b[0m\u001b[0;34m,\u001b[0m \u001b[0;34m**\u001b[0m\u001b[0mkwds\u001b[0m\u001b[0;34m)\u001b[0m\u001b[0;34m\u001b[0m\u001b[0;34m\u001b[0m\u001b[0m\n\u001b[0m\u001b[1;32m    669\u001b[0m         \u001b[0;32mreturn\u001b[0m \u001b[0mout\u001b[0m\u001b[0;34m\u001b[0m\u001b[0;34m\u001b[0m\u001b[0m\n\u001b[1;32m    670\u001b[0m \u001b[0;34m\u001b[0m\u001b[0m\n",
            "\u001b[0;32m/usr/local/lib/python3.7/dist-packages/tensorflow/python/framework/func_graph.py\u001b[0m in \u001b[0;36mwrapper\u001b[0;34m(*args, **kwargs)\u001b[0m\n\u001b[1;32m    992\u001b[0m           \u001b[0;32mexcept\u001b[0m \u001b[0mException\u001b[0m \u001b[0;32mas\u001b[0m \u001b[0me\u001b[0m\u001b[0;34m:\u001b[0m  \u001b[0;31m# pylint:disable=broad-except\u001b[0m\u001b[0;34m\u001b[0m\u001b[0;34m\u001b[0m\u001b[0m\n\u001b[1;32m    993\u001b[0m             \u001b[0;32mif\u001b[0m \u001b[0mhasattr\u001b[0m\u001b[0;34m(\u001b[0m\u001b[0me\u001b[0m\u001b[0;34m,\u001b[0m \u001b[0;34m\"ag_error_metadata\"\u001b[0m\u001b[0;34m)\u001b[0m\u001b[0;34m:\u001b[0m\u001b[0;34m\u001b[0m\u001b[0;34m\u001b[0m\u001b[0m\n\u001b[0;32m--> 994\u001b[0;31m               \u001b[0;32mraise\u001b[0m \u001b[0me\u001b[0m\u001b[0;34m.\u001b[0m\u001b[0mag_error_metadata\u001b[0m\u001b[0;34m.\u001b[0m\u001b[0mto_exception\u001b[0m\u001b[0;34m(\u001b[0m\u001b[0me\u001b[0m\u001b[0;34m)\u001b[0m\u001b[0;34m\u001b[0m\u001b[0;34m\u001b[0m\u001b[0m\n\u001b[0m\u001b[1;32m    995\u001b[0m             \u001b[0;32melse\u001b[0m\u001b[0;34m:\u001b[0m\u001b[0;34m\u001b[0m\u001b[0;34m\u001b[0m\u001b[0m\n\u001b[1;32m    996\u001b[0m               \u001b[0;32mraise\u001b[0m\u001b[0;34m\u001b[0m\u001b[0;34m\u001b[0m\u001b[0m\n",
            "\u001b[0;31mValueError\u001b[0m: in user code:\n\n    /usr/local/lib/python3.7/dist-packages/keras/engine/training.py:853 train_function  *\n        return step_function(self, iterator)\n    /usr/local/lib/python3.7/dist-packages/keras/engine/training.py:842 step_function  **\n        outputs = model.distribute_strategy.run(run_step, args=(data,))\n    /usr/local/lib/python3.7/dist-packages/tensorflow/python/distribute/distribute_lib.py:1286 run\n        return self._extended.call_for_each_replica(fn, args=args, kwargs=kwargs)\n    /usr/local/lib/python3.7/dist-packages/tensorflow/python/distribute/distribute_lib.py:2849 call_for_each_replica\n        return self._call_for_each_replica(fn, args, kwargs)\n    /usr/local/lib/python3.7/dist-packages/tensorflow/python/distribute/distribute_lib.py:3632 _call_for_each_replica\n        return fn(*args, **kwargs)\n    /usr/local/lib/python3.7/dist-packages/keras/engine/training.py:835 run_step  **\n        outputs = model.train_step(data)\n    /usr/local/lib/python3.7/dist-packages/keras/engine/training.py:791 train_step\n        self.optimizer.minimize(loss, self.trainable_variables, tape=tape)\n    /usr/local/lib/python3.7/dist-packages/keras/optimizer_v2/optimizer_v2.py:522 minimize\n        return self.apply_gradients(grads_and_vars, name=name)\n    /usr/local/lib/python3.7/dist-packages/keras/optimizer_v2/optimizer_v2.py:622 apply_gradients\n        grads_and_vars = optimizer_utils.filter_empty_gradients(grads_and_vars)\n    /usr/local/lib/python3.7/dist-packages/keras/optimizer_v2/utils.py:73 filter_empty_gradients\n        ([v.name for _, v in grads_and_vars],))\n\n    ValueError: No gradients provided for any variable: ['dense/kernel:0', 'dense/bias:0', 'dense_1/kernel:0', 'dense_1/bias:0', 'dense_2/kernel:0', 'dense_2/bias:0', 'dense_3/kernel:0', 'dense_3/bias:0', 'dense_4/kernel:0', 'dense_4/bias:0'].\n"
          ]
        }
      ]
    },
    {
      "cell_type": "code",
      "metadata": {
        "colab": {
          "base_uri": "https://localhost:8080/"
        },
        "id": "8XxPwVYw1ZOh",
        "outputId": "a63d1695-298a-4cd6-a09f-a3ea61641375"
      },
      "source": [
        "print(dict_mat_uni_tags.shape)\n",
        "print(dict_mat_uni_tags[4][0:500])"
      ],
      "execution_count": null,
      "outputs": [
        {
          "output_type": "stream",
          "name": "stdout",
          "text": [
            "(67721, 2668)\n",
            "[0. 0. 0. 0. 0. 0. 0. 0. 0. 0. 0. 0. 0. 0. 0. 0. 0. 0. 0. 0. 0. 0. 0. 0.\n",
            " 0. 0. 0. 0. 0. 0. 0. 0. 0. 0. 0. 0. 0. 0. 0. 0. 0. 0. 0. 0. 0. 0. 0. 0.\n",
            " 0. 0. 0. 0. 0. 0. 0. 0. 0. 0. 0. 0. 0. 0. 0. 0. 0. 0. 0. 0. 0. 0. 0. 0.\n",
            " 0. 0. 0. 0. 0. 0. 0. 0. 0. 0. 0. 0. 0. 0. 0. 0. 0. 0. 0. 0. 0. 0. 0. 0.\n",
            " 0. 0. 0. 0. 0. 0. 0. 0. 0. 0. 0. 0. 0. 0. 0. 0. 0. 0. 0. 0. 0. 0. 0. 0.\n",
            " 0. 0. 0. 0. 0. 0. 0. 0. 0. 0. 0. 0. 0. 0. 0. 0. 0. 0. 0. 0. 0. 0. 0. 0.\n",
            " 0. 0. 0. 0. 0. 0. 0. 0. 0. 0. 0. 0. 0. 0. 0. 0. 0. 0. 0. 0. 0. 0. 0. 0.\n",
            " 0. 0. 0. 0. 0. 0. 0. 0. 0. 0. 0. 0. 0. 0. 0. 0. 0. 0. 0. 0. 0. 0. 0. 0.\n",
            " 0. 0. 0. 0. 0. 0. 0. 0. 0. 0. 0. 0. 0. 0. 0. 0. 0. 0. 0. 0. 0. 0. 0. 0.\n",
            " 0. 0. 0. 0. 0. 0. 0. 0. 0. 0. 0. 0. 0. 0. 0. 0. 0. 0. 0. 0. 0. 0. 0. 0.\n",
            " 0. 0. 0. 0. 0. 0. 0. 0. 0. 0. 0. 0. 0. 0. 0. 0. 0. 0. 0. 0. 0. 0. 0. 0.\n",
            " 0. 0. 0. 0. 0. 0. 0. 0. 0. 0. 0. 0. 0. 0. 0. 0. 0. 0. 0. 0. 0. 0. 0. 0.\n",
            " 0. 0. 0. 0. 0. 0. 0. 0. 0. 0. 0. 0. 0. 0. 0. 0. 0. 0. 0. 0. 0. 0. 0. 0.\n",
            " 0. 0. 0. 0. 0. 0. 0. 0. 0. 0. 0. 0. 0. 0. 0. 0. 0. 0. 0. 0. 0. 0. 0. 0.\n",
            " 0. 0. 0. 0. 0. 0. 0. 0. 0. 0. 0. 0. 0. 0. 0. 0. 0. 0. 0. 0. 0. 0. 0. 0.\n",
            " 0. 0. 0. 0. 0. 0. 0. 0. 0. 0. 0. 0. 0. 0. 0. 0. 0. 0. 0. 0. 0. 0. 0. 0.\n",
            " 0. 0. 0. 0. 0. 0. 0. 0. 0. 0. 0. 0. 0. 0. 0. 0. 0. 0. 0. 0. 0. 0. 0. 0.\n",
            " 0. 0. 0. 0. 0. 0. 0. 0. 0. 0. 0. 0. 0. 0. 0. 0. 0. 0. 0. 0. 0. 0. 0. 0.\n",
            " 0. 0. 0. 0. 0. 0. 0. 0. 0. 0. 0. 0. 0. 0. 0. 0. 0. 0. 0. 0. 0. 0. 0. 0.\n",
            " 0. 0. 0. 0. 0. 0. 0. 0. 0. 0. 0. 0. 0. 0. 0. 0. 0. 0. 0. 0. 0. 0. 0. 0.\n",
            " 0. 0. 0. 0. 0. 0. 0. 0. 0. 0. 0. 0. 0. 0. 0. 0. 0. 0. 0. 0.]\n"
          ]
        }
      ]
    },
    {
      "cell_type": "code",
      "metadata": {
        "id": "CXZHrf_l-xd9"
      },
      "source": [
        "model.save(pile_path+'stack_model_tokenizer2.h5')"
      ],
      "execution_count": null,
      "outputs": []
    },
    {
      "cell_type": "code",
      "metadata": {
        "id": "2I4p-vLcROGH"
      },
      "source": [
        "model = keras.models.load_model(pile_path+'stack_model_tokenizer2.h5')"
      ],
      "execution_count": null,
      "outputs": []
    },
    {
      "cell_type": "code",
      "metadata": {
        "id": "FP_wdG9GMTGE"
      },
      "source": [
        "predict_data = pd.read_csv(pile_path+'test.csv')"
      ],
      "execution_count": null,
      "outputs": []
    },
    {
      "cell_type": "code",
      "metadata": {
        "colab": {
          "base_uri": "https://localhost:8080/"
        },
        "id": "IjLHVYGHMghl",
        "outputId": "de5a3e35-884b-4a50-b144-a7488a3d2456"
      },
      "source": [
        "print(predict_data)"
      ],
      "execution_count": null,
      "outputs": [
        {
          "output_type": "stream",
          "name": "stdout",
          "text": [
            "           id                                              title  \\\n",
            "0           1  What is spin as it relates to subatomic partic...   \n",
            "1           2  What is your simplest explanation of the strin...   \n",
            "2           3   Lie theory, Representations and particle physics   \n",
            "3           7                 Will Determinism be ever possible?   \n",
            "4           9                               Hamilton's Principle   \n",
            "...       ...                                                ...   \n",
            "81921  278119                     Kinematics (Projectile Motion)   \n",
            "81922  278120         How is lift generated due to Coanda effect   \n",
            "81923  278121               Why is a resonance curve asymmetric?   \n",
            "81924  278124  What are the forces acting during a drop impac...   \n",
            "81925  278126            Gravity manipulation i s it a possibly?   \n",
            "\n",
            "                                                 content  \n",
            "0      <p>I often hear about subatomic particles havi...  \n",
            "1      <p>How would you explain string theory to non ...  \n",
            "2      <p>This is a question that has been posted at ...  \n",
            "3      <p>What are the main problems that we need to ...  \n",
            "4      <p>Hamilton's principle states that a dynamic ...  \n",
            "...                                                  ...  \n",
            "81921  <p>A projectile is fired with a speed 6.25 m/s...  \n",
            "81922  <p>I can understand the generation of lift via...  \n",
            "81923  <p>When I was measuring the current with varyi...  \n",
            "81924  <p>I am trying to investigate how surface tens...  \n",
            "81925  <pre><code>I have done almost no research on t...  \n",
            "\n",
            "[81926 rows x 3 columns]\n"
          ]
        }
      ]
    },
    {
      "cell_type": "code",
      "metadata": {
        "id": "qDTKxvNkMgfq"
      },
      "source": [
        "text = np.array(predict_data.content.values) +  np.array(predict_data.title.values)\n",
        "pad_mat_predict_data= tokenizer.texts_to_sequences(text)\n",
        "pad_mat_predict_data=pad_sequences(pad_mat_predict_data, maxlen=500)\n",
        "pad_mat_predict_data = np.array(pad_mat_predict_data)"
      ],
      "execution_count": null,
      "outputs": []
    },
    {
      "cell_type": "code",
      "metadata": {
        "colab": {
          "base_uri": "https://localhost:8080/"
        },
        "id": "syorfW6Uy69u",
        "outputId": "e6af5f6f-7ecf-4098-f8e7-2188d64f2987"
      },
      "source": [
        "print(pad_mat_predict_data.shape)"
      ],
      "execution_count": null,
      "outputs": [
        {
          "output_type": "stream",
          "name": "stdout",
          "text": [
            "(81926, 500)\n"
          ]
        }
      ]
    },
    {
      "cell_type": "code",
      "metadata": {
        "id": "dm8sqz2IMNJq"
      },
      "source": [
        "# result = model.predict(pad_mat_predict_data)\n",
        "result = model.predict(test_x)"
      ],
      "execution_count": null,
      "outputs": []
    },
    {
      "cell_type": "code",
      "metadata": {
        "id": "gl6tAPXaNxDP",
        "colab": {
          "base_uri": "https://localhost:8080/"
        },
        "outputId": "fa51e3fb-8368-463b-8316-4cbc33e8c11f"
      },
      "source": [
        "from sklearn.metrics import accuracy_score\n",
        "print(result)\n",
        "result = result.round()\n",
        "print(result)\n",
        "print(result.shape)\n",
        "acc = accuracy_score(test_y, result)\n",
        "print(acc)"
      ],
      "execution_count": null,
      "outputs": [
        {
          "output_type": "stream",
          "name": "stdout",
          "text": [
            "[[0. 0. 0. ... 0. 0. 0.]\n",
            " [0. 0. 0. ... 0. 0. 0.]\n",
            " [0. 0. 0. ... 0. 0. 0.]\n",
            " ...\n",
            " [0. 0. 0. ... 0. 0. 0.]\n",
            " [0. 0. 0. ... 0. 0. 0.]\n",
            " [0. 0. 0. ... 0. 0. 0.]]\n",
            "[[0. 0. 0. ... 0. 0. 0.]\n",
            " [0. 0. 0. ... 0. 0. 0.]\n",
            " [0. 0. 0. ... 0. 0. 0.]\n",
            " ...\n",
            " [0. 0. 0. ... 0. 0. 0.]\n",
            " [0. 0. 0. ... 0. 0. 0.]\n",
            " [0. 0. 0. ... 0. 0. 0.]]\n",
            "(16931, 2668)\n",
            "0.000708759080975725\n"
          ]
        }
      ]
    }
  ]
}