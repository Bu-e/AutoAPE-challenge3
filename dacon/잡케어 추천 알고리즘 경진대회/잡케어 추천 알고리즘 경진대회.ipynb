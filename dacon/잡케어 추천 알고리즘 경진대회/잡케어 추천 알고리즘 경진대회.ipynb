{
  "cells": [
    {
      "cell_type": "code",
      "execution_count": 1,
      "metadata": {
        "id": "6B_IrWCYdpaT"
      },
      "outputs": [],
      "source": [
        "from sklearn.preprocessing import LabelEncoder\n",
        "from tqdm import tqdm\n",
        "import numpy as np\n",
        "from sklearn.ensemble import RandomForestClassifier\n",
        "from sklearn.metrics import f1_score\n",
        "\n",
        "import pandas as pd\n",
        "import warnings\n",
        "warnings.filterwarnings(action='ignore')"
      ]
    },
    {
      "cell_type": "code",
      "execution_count": 2,
      "metadata": {
        "id": "1zUmaSordpaW"
      },
      "outputs": [],
      "source": [
        "train = pd.read_csv('train.csv')\n",
        "test = pd.read_csv('test.csv')"
      ]
    },
    {
      "cell_type": "code",
      "execution_count": 3,
      "metadata": {
        "id": "kAPOkq_Fdpaa"
      },
      "outputs": [],
      "source": [
        "train = train.drop(['id', 'contents_open_dt'], axis=1) \n",
        "test = test.drop(['id', 'contents_open_dt'], axis=1)"
      ]
    },
    {
      "cell_type": "code",
      "source": [
        "x = train.iloc[:, :-1]\n",
        "y = train.iloc[:, -1]"
      ],
      "metadata": {
        "id": "84VxyKojt28t"
      },
      "execution_count": 4,
      "outputs": []
    },
    {
      "cell_type": "code",
      "source": [
        "from xgboost import XGBClassifier\n",
        "xgb = XGBClassifier(n_estimators = 500, learning_rate=0.1, max_depth=5)\n",
        "xgb.fit(x,y)\n",
        "xgbP = xgb.predict(test)"
      ],
      "metadata": {
        "id": "1ptTQn5BqfeY"
      },
      "execution_count": 5,
      "outputs": []
    },
    {
      "cell_type": "code",
      "source": [
        "submission = pd.read_csv('sample_submission.csv')\n",
        "submission['target']=xgbP\n",
        "submission.to_csv('xgb.csv', index=False)"
      ],
      "metadata": {
        "id": "R3JLQVD9s0vY"
      },
      "execution_count": 6,
      "outputs": []
    }
  ],
  "metadata": {
    "kernelspec": {
      "display_name": "Python 3",
      "name": "python3"
    },
    "language_info": {
      "name": "python"
    },
    "colab": {
      "name": "잡케어 추천 알고리즘 경진대회",
      "provenance": [],
      "collapsed_sections": []
    },
    "accelerator": "GPU"
  },
  "nbformat": 4,
  "nbformat_minor": 0
}