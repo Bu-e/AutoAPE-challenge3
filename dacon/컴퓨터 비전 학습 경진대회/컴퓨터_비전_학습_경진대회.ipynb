{
  "nbformat": 4,
  "nbformat_minor": 0,
  "metadata": {
    "colab": {
      "name": "컴퓨터_비전_학습_경진대회.ipynb",
      "provenance": [],
      "collapsed_sections": []
    },
    "kernelspec": {
      "name": "python3",
      "display_name": "Python 3"
    },
    "language_info": {
      "name": "python"
    },
    "accelerator": "GPU"
  },
  "cells": [
    {
      "cell_type": "code",
      "source": [
        "## Upload File ##\n",
        "from google.colab import files\n",
        "files.upload() "
      ],
      "metadata": {
        "id": "uFzIeXfXpt3j"
      },
      "execution_count": null,
      "outputs": []
    },
    {
      "cell_type": "code",
      "source": [
        "!unzip data.zip -d data"
      ],
      "metadata": {
        "id": "HHzEvHA3sMuz"
      },
      "execution_count": null,
      "outputs": []
    },
    {
      "cell_type": "code",
      "execution_count": 7,
      "metadata": {
        "id": "k2r4sSuypVOk"
      },
      "outputs": [],
      "source": [
        "## import library ##\n",
        "import random\n",
        "\n",
        "import numpy as np\n",
        "import pandas as pd\n",
        "import matplotlib.pyplot as plt\n",
        "%matplotlib inline\n",
        "\n",
        "import os\n",
        "import warnings\n",
        "warnings.filterwarnings(\"ignore\")\n",
        "\n",
        "import tensorflow as tf\n",
        "from keras.models import Model\n",
        "from keras.layers import Input, GlobalAveragePooling2D, Dropout, Dense, Flatten, Conv2D, BatchNormalization, MaxPooling2D"
      ]
    },
    {
      "cell_type": "code",
      "source": [
        "def seed_everything(seed: int = 42):\n",
        "    random.seed(seed)\n",
        "    np.random.seed(seed)\n",
        "    os.environ[\"PYTHONHASHSEED\"] = str(seed)\n",
        "    tf.random.set_seed(seed)\n",
        "\n",
        "seed_everything()"
      ],
      "metadata": {
        "id": "szySl7NMrup8"
      },
      "execution_count": 8,
      "outputs": []
    },
    {
      "cell_type": "code",
      "source": [
        "## Load Data ##\n",
        "train = pd.read_csv('./data/train.csv')\n",
        "test  = pd.read_csv('./data/test.csv')\n",
        "submission = pd.read_csv('./data/submission.csv')"
      ],
      "metadata": {
        "id": "ujtIBUN-prb6"
      },
      "execution_count": 9,
      "outputs": []
    },
    {
      "cell_type": "code",
      "source": [
        "print(train.shape)\n",
        "train.head(3)"
      ],
      "metadata": {
        "id": "vg5iuv3KthsF"
      },
      "execution_count": null,
      "outputs": []
    },
    {
      "cell_type": "code",
      "source": [
        "print(test.shape)\n",
        "test.head(3)"
      ],
      "metadata": {
        "id": "fgH4aJY4thuY"
      },
      "execution_count": null,
      "outputs": []
    },
    {
      "cell_type": "code",
      "source": [
        "# print(train['digit'].value_counts())"
      ],
      "metadata": {
        "id": "mqDFb6r_hVKw"
      },
      "execution_count": 12,
      "outputs": []
    },
    {
      "cell_type": "code",
      "source": [
        "# group1 = train.groupby('digit').get_group(0).reset_index(drop=True)\n",
        "# group2 = train.groupby('digit').get_group(1).reset_index(drop=True)\n",
        "# group3 = train.groupby('digit').get_group(2).reset_index(drop=True)\n",
        "# group4= train.groupby('digit').get_group(3).reset_index(drop=True)\n",
        "# group5= train.groupby('digit').get_group(4).reset_index(drop=True)\n",
        "# group6= train.groupby('digit').get_group(5).reset_index(drop=True)\n",
        "# group7= train.groupby('digit').get_group(6).reset_index(drop=True)\n",
        "# group8= train.groupby('digit').get_group(7).reset_index(drop=True)\n",
        "# group9= train.groupby('digit').get_group(8).reset_index(drop=True)\n",
        "# group10= train.groupby('digit').get_group(9).reset_index(drop=True)\n",
        "# groups =[group1, group2, group3, group4, group5, group6, group7, group8, group9, group10]"
      ],
      "metadata": {
        "id": "y7cxeqfBihUC"
      },
      "execution_count": 13,
      "outputs": []
    },
    {
      "cell_type": "code",
      "source": [
        "# ## Image example of each group ##\n",
        "# fig1 = plt.figure(figsize=(10,10))\n",
        "\n",
        "# for i in range(len(groups)):\n",
        "    \n",
        "#     digit = groups[i].loc[0, 'digit']\n",
        "#     letter = groups[i].loc[0, 'letter']\n",
        "#     img = groups[i].loc[0, '0':].values.reshape(28,28).astype(int)\n",
        "    \n",
        "#     ax = fig1.add_subplot(2,5,i+1)\n",
        "#     ax.imshow(img)\n",
        "#     title = f\"digit: {digit}, letter: {letter}\"\n",
        "#     plt.title(title)\n",
        "    \n",
        "#     fig1.tight_layout()\n",
        "\n",
        "# plt.savefig('fig1.png')"
      ],
      "metadata": {
        "id": "zMWWqO8gi6dv"
      },
      "execution_count": 14,
      "outputs": []
    },
    {
      "cell_type": "code",
      "source": [
        "## Preprocess data ## \n",
        "x_train = train.drop(['id', 'digit', 'letter'], axis=1).values\n",
        "x_train = x_train.reshape(-1, 28, 28, 1)\n",
        "x_train = x_train/255\n",
        "\n",
        "y = train['digit']\n",
        "y_train = np.zeros((len(y), len(y.unique())))\n",
        "for i, digit in enumerate(y):\n",
        "    y_train[i, digit] = 1"
      ],
      "metadata": {
        "id": "UYkr4wlr5meh"
      },
      "execution_count": 18,
      "outputs": []
    },
    {
      "cell_type": "code",
      "source": [
        "## Model ##\n",
        "def custom_model():\n",
        "  input_tensor = Input(shape= (28, 28, 1))\n",
        "  # Block 1\n",
        "  x = Conv2D(128, kernel_size=3, padding='same', activation='relu')(input_tensor)\n",
        "  x = BatchNormalization()(x)\n",
        "  x = Conv2D(128, kernel_size=3, padding='same', activation='relu')(x)\n",
        "  x = BatchNormalization()(x)\n",
        "  x = MaxPooling2D((2,2))(x)\n",
        "  \n",
        "  # Block 2\n",
        "  x = Conv2D(256, kernel_size=3, padding='same', activation='relu')(x)\n",
        "  x = BatchNormalization()(x)\n",
        "  x = Conv2D(256, kernel_size=3, padding='same', activation='relu')(x)\n",
        "  x = BatchNormalization()(x)\n",
        "  x = MaxPooling2D((2,2))(x)\n",
        "  \n",
        "  # Block 3\n",
        "  x = Conv2D(512, kernel_size=3, padding='same', activation='relu')(x)\n",
        "  x = BatchNormalization()(x)\n",
        "  x = Conv2D(512, kernel_size=3, padding='same', activation='relu')(x)\n",
        "  x = BatchNormalization()(x)\n",
        "  x = Conv2D(512, kernel_size=3, padding='same', activation='relu')(x)\n",
        "  x = MaxPooling2D((2,2))(x)\n",
        "\n",
        "  x = Flatten()(x)\n",
        "  x = Dense(1024, activation = 'relu')(x)\n",
        "  x = Dense(512, activation = 'relu')(x)\n",
        "  output = Dense(10, activation='softmax')(x)\n",
        "  model = Model(input_tensor, output)\n",
        "  \n",
        "  return model"
      ],
      "metadata": {
        "id": "rzuxdb0oDPbo"
      },
      "execution_count": 45,
      "outputs": []
    },
    {
      "cell_type": "code",
      "source": [
        "model = custom_model()\n",
        "model.summary()"
      ],
      "metadata": {
        "id": "Xo1tBQGY07MM"
      },
      "execution_count": null,
      "outputs": []
    },
    {
      "cell_type": "code",
      "source": [
        "## Training Model ##\n",
        "from keras.callbacks import EarlyStopping, ReduceLROnPlateau, ModelCheckpoint\n",
        "model = custom_model()\n",
        "\n",
        "optimizer = tf.keras.optimizers.Adam(learning_rate=0.001, decay = 0.01)\n",
        "rlrop = ReduceLROnPlateau(monitor='accuracy', mode='min', patience=10, factor=0.5, min_lr=1e-6, verbose=0)\n",
        "cp = ModelCheckpoint(monitor='accuracy', save_best_only=True, filepath='/content/drive/MyDrive/computer_vision_competition/model.ckpt', save_weights_only=True, verbose=0)\n",
        "callback_list = [rlrop, cp]\n",
        "\n",
        "model.compile(optimizer = optimizer, loss = 'categorical_crossentropy', metrics = ['accuracy'])\n",
        "model.fit(x_train, y_train, epochs=30, callbacks= callback_list)"
      ],
      "metadata": {
        "id": "pLiJaMly-8hb"
      },
      "execution_count": null,
      "outputs": []
    },
    {
      "cell_type": "code",
      "source": [
        "## Eval ##\n",
        "x_test = test.drop(['id', 'letter'], axis=1).values\n",
        "x_test = x_test.reshape(-1, 28, 28, 1)\n",
        "x_test = x_test/255\n",
        "\n",
        "submission = pd.read_csv('./data/submission.csv')\n",
        "submission['digit'] = np.argmax(model.predict(x_test), axis=1)\n",
        "submission.head()"
      ],
      "metadata": {
        "id": "AJpTS0XA5qmh"
      },
      "execution_count": null,
      "outputs": []
    },
    {
      "cell_type": "code",
      "source": [
        "submission.to_csv('/content/drive/MyDrive/computer_vision_competition/sub.csv', index=False)"
      ],
      "metadata": {
        "id": "Ds931a8C5qoz"
      },
      "execution_count": 53,
      "outputs": []
    }
  ]
}